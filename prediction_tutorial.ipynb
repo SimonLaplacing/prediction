{
 "cells": [
  {
   "cell_type": "markdown",
   "metadata": {},
   "source": [
    "# nuScenes prediction tutorial\n",
    "<img src=\"https://www.nuscenes.org/public/tutorials/trajectory.gif\" width=\"300\" align=\"left\">"
   ]
  },
  {
   "cell_type": "markdown",
   "metadata": {},
   "source": [
    "This notebook serves as an introduction to the new functionality added to the nuScenes devkit for the prediction challenge.\n",
    "\n",
    "It is organized into the following sections:\n",
    "\n",
    "1. Data splits for the challenge\n",
    "2. Getting past and future data for an agent \n",
    "3. Changes to the Map API\n",
    "4. Overview of input representation\n",
    "5. Model implementations\n",
    "6. Making a submission to the challenge"
   ]
  },
  {
   "cell_type": "code",
   "execution_count": 1,
   "metadata": {
    "ExecuteTime": {
     "end_time": "2022-01-04T01:29:11.881619Z",
     "start_time": "2022-01-04T01:29:10.228332Z"
    }
   },
   "outputs": [
    {
     "name": "stdout",
     "output_type": "stream",
     "text": [
      "======\n",
      "Loading NuScenes tables for version v1.0-mini...\n",
      "23 category,\n",
      "8 attribute,\n",
      "4 visibility,\n",
      "911 instance,\n",
      "12 sensor,\n",
      "120 calibrated_sensor,\n",
      "31206 ego_pose,\n",
      "8 log,\n",
      "10 scene,\n",
      "404 sample,\n",
      "31206 sample_data,\n",
      "18538 sample_annotation,\n",
      "4 map,\n",
      "Done loading in 0.548 seconds.\n",
      "======\n",
      "Reverse indexing ...\n",
      "Done reverse indexing in 0.1 seconds.\n",
      "======\n"
     ]
    }
   ],
   "source": [
    "from nuscenes import NuScenes\n",
    "\n",
    "# This is the path where you stored your copy of the nuScenes dataset.\n",
    "DATAROOT = 'E:/Downloads/nuscenes'\n",
    "\n",
    "nuscenes = NuScenes('v1.0-mini', dataroot=DATAROOT)"
   ]
  },
  {
   "cell_type": "markdown",
   "metadata": {},
   "source": [
    "## 1. Data Splits for the Prediction Challenge\n",
    "\n",
    "This section assumes basic familiarity with the nuScenes [schema](https://www.nuscenes.org/nuscenes#data-format).\n",
    "\n",
    "The goal of the nuScenes prediction challenge is to predict the future location of agents in the nuScenes dataset. Agents are indexed by an instance token and a sample token. To get a list of agents in the train and val split of the challenge, we provide a function called `get_prediction_challenge_split`.\n",
    "\n",
    "The get_prediction_challenge_split function returns a list of strings of the form {instance_token}_{sample_token}. In the next section, we show how to use an instance token and sample token to query data for the prediction challenge."
   ]
  },
  {
   "cell_type": "code",
   "execution_count": 3,
   "metadata": {
    "ExecuteTime": {
     "end_time": "2022-01-04T02:18:04.233340Z",
     "start_time": "2022-01-04T02:18:04.182027Z"
    }
   },
   "outputs": [
    {
     "data": {
      "text/plain": [
       "['bc38961ca0ac4b14ab90e547ba79fbb6_39586f9d59004284a7114a68825e8eec',\n",
       " 'bc38961ca0ac4b14ab90e547ba79fbb6_356d81f38dd9473ba590f39e266f54e5',\n",
       " 'bc38961ca0ac4b14ab90e547ba79fbb6_e0845f5322254dafadbbed75aaa07969',\n",
       " 'bc38961ca0ac4b14ab90e547ba79fbb6_c923fe08b2ff4e27975d2bf30934383b',\n",
       " 'bc38961ca0ac4b14ab90e547ba79fbb6_f1e3d9d08f044c439ce86a2d6fcca57b']"
      ]
     },
     "execution_count": 3,
     "metadata": {},
     "output_type": "execute_result"
    }
   ],
   "source": [
    "from nuscenes.eval.prediction.splits import get_prediction_challenge_split\n",
    "mini_train = get_prediction_challenge_split(\"mini_train\", dataroot=DATAROOT)\n",
    "mini_train[:5]"
   ]
  },
  {
   "cell_type": "markdown",
   "metadata": {},
   "source": [
    "## 2. Getting past and future data for an agent\n",
    "\n",
    "We provide a class called `PredictHelper` that provides methods for querying past and future data for an agent. This class is instantiated by wrapping an instance of the `NuScenes` class. "
   ]
  },
  {
   "cell_type": "code",
   "execution_count": 4,
   "metadata": {
    "ExecuteTime": {
     "end_time": "2022-01-04T02:18:07.507814Z",
     "start_time": "2022-01-04T02:18:07.462329Z"
    }
   },
   "outputs": [],
   "source": [
    "from nuscenes.prediction import PredictHelper\n",
    "helper = PredictHelper(nuscenes)"
   ]
  },
  {
   "cell_type": "markdown",
   "metadata": {},
   "source": [
    "To get the data for an agent at a particular point in time, use the `get_sample_annotation` method."
   ]
  },
  {
   "cell_type": "code",
   "execution_count": 5,
   "metadata": {
    "ExecuteTime": {
     "end_time": "2022-01-04T02:18:09.443950Z",
     "start_time": "2022-01-04T02:18:09.435027Z"
    }
   },
   "outputs": [
    {
     "data": {
      "text/plain": [
       "{'token': 'a286c9633fa34da5b978758f348996b0',\n",
       " 'sample_token': '39586f9d59004284a7114a68825e8eec',\n",
       " 'instance_token': 'bc38961ca0ac4b14ab90e547ba79fbb6',\n",
       " 'visibility_token': '4',\n",
       " 'attribute_tokens': ['cb5118da1ab342aa947717dc53544259'],\n",
       " 'translation': [392.945, 1148.426, 0.766],\n",
       " 'size': [1.708, 4.01, 1.631],\n",
       " 'rotation': [-0.5443682117180475, 0.0, 0.0, 0.8388463804957943],\n",
       " 'prev': '16140fbf143d4e26a4a7613cbd3aa0e8',\n",
       " 'next': 'b41e15b89fd44709b439de95dd723617',\n",
       " 'num_lidar_pts': 0,\n",
       " 'num_radar_pts': 0,\n",
       " 'category_name': 'vehicle.car'}"
      ]
     },
     "execution_count": 5,
     "metadata": {},
     "output_type": "execute_result"
    }
   ],
   "source": [
    "instance_token, sample_token = mini_train[0].split(\"_\")\n",
    "annotation = helper.get_sample_annotation(instance_token, sample_token)\n",
    "annotation"
   ]
  },
  {
   "cell_type": "markdown",
   "metadata": {},
   "source": [
    "To get the future/past of an agent, use the `get_past_for_agent`/`get_future_for_agent` methods. If the `in_agent_frame` parameter is set to true, the coordinates will be in the agent's local coordinate frame. Otherwise, they will be in the global frame."
   ]
  },
  {
   "cell_type": "code",
   "execution_count": 6,
   "metadata": {
    "ExecuteTime": {
     "end_time": "2022-01-04T02:18:12.311971Z",
     "start_time": "2022-01-04T02:18:12.301001Z"
    }
   },
   "outputs": [
    {
     "data": {
      "text/plain": [
       "array([[ 0.01075063,  0.2434942 ],\n",
       "       [-0.20463666,  1.20515386],\n",
       "       [-0.20398583,  2.57851309],\n",
       "       [-0.25867757,  4.50313379],\n",
       "       [-0.31359088,  6.67620961],\n",
       "       [-0.31404147,  9.67727022]])"
      ]
     },
     "execution_count": 6,
     "metadata": {},
     "output_type": "execute_result"
    }
   ],
   "source": [
    "future_xy_local = helper.get_future_for_agent(instance_token, sample_token, seconds=3, in_agent_frame=True)\n",
    "future_xy_local"
   ]
  },
  {
   "cell_type": "markdown",
   "metadata": {},
   "source": [
    "The agent's coordinate frame is centered on the agent's current location and the agent's heading is aligned with the positive y axis. For example, the last coordinate in `future_xy_local` corresponds to a location 0.31 meters to the left and 9.67 meters in front of the agents starting location."
   ]
  },
  {
   "cell_type": "code",
   "execution_count": 7,
   "metadata": {
    "ExecuteTime": {
     "end_time": "2022-01-04T03:40:23.682227Z",
     "start_time": "2022-01-04T03:40:23.664201Z"
    }
   },
   "outputs": [
    {
     "data": {
      "text/plain": [
       "array([[ 392.836, 1148.208],\n",
       "       [ 392.641, 1147.242],\n",
       "       [ 392.081, 1145.988],\n",
       "       [ 391.347, 1144.208],\n",
       "       [ 390.512, 1142.201],\n",
       "       [ 389.29 , 1139.46 ]])"
      ]
     },
     "execution_count": 7,
     "metadata": {},
     "output_type": "execute_result"
    }
   ],
   "source": [
    "future_xy_global = helper.get_future_for_agent(instance_token, sample_token, seconds=3, in_agent_frame=False)\n",
    "future_xy_global"
   ]
  },
  {
   "cell_type": "markdown",
   "metadata": {},
   "source": [
    "Note that you can also return the entire annotation record by passing `just_xy=False`. However in this case, `in_agent_frame` is not taken into account."
   ]
  },
  {
   "cell_type": "code",
   "execution_count": 8,
   "metadata": {
    "ExecuteTime": {
     "end_time": "2022-01-04T03:40:29.378832Z",
     "start_time": "2022-01-04T03:40:29.359881Z"
    }
   },
   "outputs": [
    {
     "data": {
      "text/plain": [
       "[{'token': 'b41e15b89fd44709b439de95dd723617',\n",
       "  'sample_token': '356d81f38dd9473ba590f39e266f54e5',\n",
       "  'instance_token': 'bc38961ca0ac4b14ab90e547ba79fbb6',\n",
       "  'visibility_token': '4',\n",
       "  'attribute_tokens': ['cb5118da1ab342aa947717dc53544259'],\n",
       "  'translation': [392.836, 1148.208, 0.791],\n",
       "  'size': [1.708, 4.01, 1.631],\n",
       "  'rotation': [-0.5443682117180475, 0.0, 0.0, 0.8388463804957943],\n",
       "  'prev': 'a286c9633fa34da5b978758f348996b0',\n",
       "  'next': 'b2b43ef63f5242b2a4c0b794e673782d',\n",
       "  'num_lidar_pts': 10,\n",
       "  'num_radar_pts': 2,\n",
       "  'category_name': 'vehicle.car'},\n",
       " {'token': 'b2b43ef63f5242b2a4c0b794e673782d',\n",
       "  'sample_token': 'e0845f5322254dafadbbed75aaa07969',\n",
       "  'instance_token': 'bc38961ca0ac4b14ab90e547ba79fbb6',\n",
       "  'visibility_token': '4',\n",
       "  'attribute_tokens': ['cb5118da1ab342aa947717dc53544259'],\n",
       "  'translation': [392.641, 1147.242, 0.816],\n",
       "  'size': [1.708, 4.01, 1.631],\n",
       "  'rotation': [-0.5443682117180475, 0.0, 0.0, 0.8388463804957943],\n",
       "  'prev': 'b41e15b89fd44709b439de95dd723617',\n",
       "  'next': '7bcf4bc87bf143588230254034eada12',\n",
       "  'num_lidar_pts': 13,\n",
       "  'num_radar_pts': 3,\n",
       "  'category_name': 'vehicle.car'},\n",
       " {'token': '7bcf4bc87bf143588230254034eada12',\n",
       "  'sample_token': 'c923fe08b2ff4e27975d2bf30934383b',\n",
       "  'instance_token': 'bc38961ca0ac4b14ab90e547ba79fbb6',\n",
       "  'visibility_token': '4',\n",
       "  'attribute_tokens': ['cb5118da1ab342aa947717dc53544259'],\n",
       "  'translation': [392.081, 1145.988, 0.841],\n",
       "  'size': [1.708, 4.01, 1.631],\n",
       "  'rotation': [-0.5443682117180475, 0.0, 0.0, 0.8388463804957943],\n",
       "  'prev': 'b2b43ef63f5242b2a4c0b794e673782d',\n",
       "  'next': '247a25c59f914adabee9460bd8307196',\n",
       "  'num_lidar_pts': 18,\n",
       "  'num_radar_pts': 3,\n",
       "  'category_name': 'vehicle.car'},\n",
       " {'token': '247a25c59f914adabee9460bd8307196',\n",
       "  'sample_token': 'f1e3d9d08f044c439ce86a2d6fcca57b',\n",
       "  'instance_token': 'bc38961ca0ac4b14ab90e547ba79fbb6',\n",
       "  'visibility_token': '4',\n",
       "  'attribute_tokens': ['cb5118da1ab342aa947717dc53544259'],\n",
       "  'translation': [391.347, 1144.208, 0.841],\n",
       "  'size': [1.708, 4.01, 1.631],\n",
       "  'rotation': [-0.5443682117180475, 0.0, 0.0, 0.8388463804957943],\n",
       "  'prev': '7bcf4bc87bf143588230254034eada12',\n",
       "  'next': 'e25b9e7019814d53876ff2697df7a2de',\n",
       "  'num_lidar_pts': 20,\n",
       "  'num_radar_pts': 4,\n",
       "  'category_name': 'vehicle.car'},\n",
       " {'token': 'e25b9e7019814d53876ff2697df7a2de',\n",
       "  'sample_token': '4f545737bf3347fbbc9af60b0be9a963',\n",
       "  'instance_token': 'bc38961ca0ac4b14ab90e547ba79fbb6',\n",
       "  'visibility_token': '4',\n",
       "  'attribute_tokens': ['cb5118da1ab342aa947717dc53544259'],\n",
       "  'translation': [390.512, 1142.201, 0.891],\n",
       "  'size': [1.708, 4.01, 1.631],\n",
       "  'rotation': [-0.5443682117180475, 0.0, 0.0, 0.8388463804957943],\n",
       "  'prev': '247a25c59f914adabee9460bd8307196',\n",
       "  'next': 'fe33c018573e4abda3ff8de0566ee800',\n",
       "  'num_lidar_pts': 24,\n",
       "  'num_radar_pts': 2,\n",
       "  'category_name': 'vehicle.car'},\n",
       " {'token': 'fe33c018573e4abda3ff8de0566ee800',\n",
       "  'sample_token': '7626dde27d604ac28a0240bdd54eba7a',\n",
       "  'instance_token': 'bc38961ca0ac4b14ab90e547ba79fbb6',\n",
       "  'visibility_token': '4',\n",
       "  'attribute_tokens': ['cb5118da1ab342aa947717dc53544259'],\n",
       "  'translation': [389.29, 1139.46, 0.941],\n",
       "  'size': [1.708, 4.01, 1.631],\n",
       "  'rotation': [-0.5443682117180475, 0.0, 0.0, 0.8388463804957943],\n",
       "  'prev': 'e25b9e7019814d53876ff2697df7a2de',\n",
       "  'next': '2c1a8ae13d76498c838a1fb733ff8700',\n",
       "  'num_lidar_pts': 30,\n",
       "  'num_radar_pts': 2,\n",
       "  'category_name': 'vehicle.car'}]"
      ]
     },
     "execution_count": 8,
     "metadata": {},
     "output_type": "execute_result"
    }
   ],
   "source": [
    "helper.get_future_for_agent(instance_token, sample_token, seconds=3, in_agent_frame=True, just_xy=False)"
   ]
  },
  {
   "cell_type": "markdown",
   "metadata": {},
   "source": [
    "If you would like to return the data for the entire sample, as opposed to one agent in the sample, you can use the `get_annotations_for_sample` method. This will return a list of records for each annotated agent in the sample."
   ]
  },
  {
   "cell_type": "code",
   "execution_count": 9,
   "metadata": {
    "ExecuteTime": {
     "end_time": "2022-01-04T03:40:36.941927Z",
     "start_time": "2022-01-04T03:40:36.935832Z"
    }
   },
   "outputs": [
    {
     "data": {
      "text/plain": [
       "78"
      ]
     },
     "execution_count": 9,
     "metadata": {},
     "output_type": "execute_result"
    }
   ],
   "source": [
    "sample = helper.get_annotations_for_sample(sample_token)\n",
    "len(sample)"
   ]
  },
  {
   "cell_type": "markdown",
   "metadata": {},
   "source": [
    "Note that there are `get_future_for_sample` and `get_past_for_sample` methods that are analogous to the `get_future_for_agent` and `get_past_for_agent` methods.\n",
    "\n",
    "We also provide methods to compute the velocity, acceleration, and heading change rate of an agent at a given point in time"
   ]
  },
  {
   "cell_type": "code",
   "execution_count": 10,
   "metadata": {
    "ExecuteTime": {
     "end_time": "2022-01-04T03:42:34.293682Z",
     "start_time": "2022-01-04T03:42:34.280713Z"
    }
   },
   "outputs": [
    {
     "name": "stdout",
     "output_type": "stream",
     "text": [
      "Velocity: 4.385040264738063\n",
      "\n",
      "Acceleration: 0.30576530453207523\n",
      "\n",
      "Heading Change Rate: 0.0\n"
     ]
    }
   ],
   "source": [
    "# We get new instance and sample tokens because these methods require computing the difference between records.\n",
    "instance_token_2, sample_token_2 = mini_train[5].split(\"_\")\n",
    "\n",
    "# Meters / second.\n",
    "print(f\"Velocity: {helper.get_velocity_for_agent(instance_token_2, sample_token_2)}\\n\")\n",
    "\n",
    "# Meters / second^2.\n",
    "print(f\"Acceleration: {helper.get_acceleration_for_agent(instance_token_2, sample_token_2)}\\n\")\n",
    "\n",
    "# Radians / second.\n",
    "print(f\"Heading Change Rate: {helper.get_heading_change_rate_for_agent(instance_token_2, sample_token_2)}\")"
   ]
  },
  {
   "cell_type": "markdown",
   "metadata": {},
   "source": [
    "## Changes to the Map API\n",
    "\n",
    "We've added a couple of methods to the Map API to help query lane center line information."
   ]
  },
  {
   "cell_type": "code",
   "execution_count": 13,
   "metadata": {
    "ExecuteTime": {
     "end_time": "2022-01-04T03:47:22.125912Z",
     "start_time": "2022-01-04T03:47:21.929588Z"
    }
   },
   "outputs": [],
   "source": [
    "from nuscenes.map_expansion.map_api import NuScenesMap\n",
    "nusc_map = NuScenesMap(map_name='singapore-onenorth', dataroot=DATAROOT)"
   ]
  },
  {
   "cell_type": "markdown",
   "metadata": {},
   "source": [
    "To get the closest lane to a location, use the `get_closest_lane` method. To see the internal data representation of the lane, use the `get_lane_record` method. \n",
    "You can also explore the connectivity of the lanes, with the `get_outgoing_lanes` and `get_incoming_lane` methods."
   ]
  },
  {
   "cell_type": "code",
   "execution_count": 14,
   "metadata": {
    "ExecuteTime": {
     "end_time": "2022-01-04T03:47:32.946751Z",
     "start_time": "2022-01-04T03:47:32.863974Z"
    }
   },
   "outputs": [
    {
     "data": {
      "text/plain": [
       "'5933500a-f0f2-4d69-9bbc-83b875e4a73e'"
      ]
     },
     "execution_count": 14,
     "metadata": {},
     "output_type": "execute_result"
    }
   ],
   "source": [
    "x, y, yaw = 395, 1095, 0\n",
    "closest_lane = nusc_map.get_closest_lane(x, y, radius=2)\n",
    "closest_lane"
   ]
  },
  {
   "cell_type": "code",
   "execution_count": 15,
   "metadata": {
    "ExecuteTime": {
     "end_time": "2022-01-04T03:48:16.245796Z",
     "start_time": "2022-01-04T03:48:16.239813Z"
    }
   },
   "outputs": [
    {
     "data": {
      "text/plain": [
       "[{'start_pose': [421.2419602954602, 1087.9127960414617, 2.739593514975998],\n",
       "  'end_pose': [391.7142849867393, 1100.464077182952, 2.7365754617298705],\n",
       "  'shape': 'LSR',\n",
       "  'radius': 999.999,\n",
       "  'segment_length': [0.23651121617864976,\n",
       "   28.593481378991886,\n",
       "   3.254561444252876]}]"
      ]
     },
     "execution_count": 15,
     "metadata": {},
     "output_type": "execute_result"
    }
   ],
   "source": [
    "lane_record = nusc_map.get_arcline_path(closest_lane)\n",
    "lane_record"
   ]
  },
  {
   "cell_type": "code",
   "execution_count": 16,
   "metadata": {
    "ExecuteTime": {
     "end_time": "2022-01-04T03:48:18.903258Z",
     "start_time": "2022-01-04T03:48:18.889289Z"
    }
   },
   "outputs": [
    {
     "data": {
      "text/plain": [
       "['f24a067b-d650-47d0-8664-039d648d7c0d']"
      ]
     },
     "execution_count": 16,
     "metadata": {},
     "output_type": "execute_result"
    }
   ],
   "source": [
    "nusc_map.get_incoming_lane_ids(closest_lane)"
   ]
  },
  {
   "cell_type": "code",
   "execution_count": 17,
   "metadata": {
    "ExecuteTime": {
     "end_time": "2022-01-04T03:48:19.741409Z",
     "start_time": "2022-01-04T03:48:19.728442Z"
    }
   },
   "outputs": [
    {
     "data": {
      "text/plain": [
       "['0282d0e3-b6bf-4bcd-be24-35c9ce4c6591',\n",
       " '28d15254-0ef9-48c3-9e06-dc5a25b31127']"
      ]
     },
     "execution_count": 17,
     "metadata": {},
     "output_type": "execute_result"
    }
   ],
   "source": [
    "nusc_map.get_outgoing_lane_ids(closest_lane)"
   ]
  },
  {
   "cell_type": "markdown",
   "metadata": {},
   "source": [
    "To help manipulate the lanes, we've added an `arcline_path_utils` module. For example, something you might want to do is discretize a lane into a sequence of poses."
   ]
  },
  {
   "cell_type": "code",
   "execution_count": 18,
   "metadata": {
    "ExecuteTime": {
     "end_time": "2022-01-04T03:48:54.966517Z",
     "start_time": "2022-01-04T03:48:54.959536Z"
    }
   },
   "outputs": [
    {
     "data": {
      "text/plain": [
       "[(421.2419602954602, 1087.9127960414617, 2.739593514975998),\n",
       " (420.34712994585345, 1088.2930152148274, 2.739830026428688),\n",
       " (419.45228865726136, 1088.6732086473173, 2.739830026428688),\n",
       " (418.5574473686693, 1089.0534020798073, 2.739830026428688),\n",
       " (417.66260608007724, 1089.433595512297, 2.739830026428688),\n",
       " (416.76776479148515, 1089.813788944787, 2.739830026428688),\n",
       " (415.87292350289306, 1090.1939823772768, 2.739830026428688),\n",
       " (414.97808221430097, 1090.5741758097668, 2.739830026428688),\n",
       " (414.0832409257089, 1090.9543692422567, 2.739830026428688),\n",
       " (413.1883996371168, 1091.3345626747464, 2.739830026428688),\n",
       " (412.29355834852475, 1091.7147561072363, 2.739830026428688),\n",
       " (411.39871705993266, 1092.0949495397263, 2.739830026428688),\n",
       " (410.5038757713406, 1092.4751429722162, 2.739830026428688),\n",
       " (409.6090344827485, 1092.8553364047061, 2.739830026428688),\n",
       " (408.7141931941564, 1093.2355298371958, 2.739830026428688),\n",
       " (407.81935190556436, 1093.6157232696858, 2.739830026428688),\n",
       " (406.92451061697227, 1093.9959167021757, 2.739830026428688),\n",
       " (406.0296693283802, 1094.3761101346656, 2.739830026428688),\n",
       " (405.1348280397881, 1094.7563035671556, 2.739830026428688),\n",
       " (404.239986751196, 1095.1364969996453, 2.739830026428688),\n",
       " (403.3451454626039, 1095.5166904321352, 2.739830026428688),\n",
       " (402.4503041740119, 1095.8968838646251, 2.739830026428688),\n",
       " (401.5554628854198, 1096.277077297115, 2.739830026428688),\n",
       " (400.6606215968277, 1096.657270729605, 2.739830026428688),\n",
       " (399.7657803082356, 1097.0374641620947, 2.739830026428688),\n",
       " (398.8709390196435, 1097.4176575945846, 2.739830026428688),\n",
       " (397.9760977310515, 1097.7978510270746, 2.739830026428688),\n",
       " (397.0812564424594, 1098.1780444595645, 2.739830026428688),\n",
       " (396.1864151538673, 1098.5582378920544, 2.739830026428688),\n",
       " (395.2915738652752, 1098.9384313245444, 2.739830026428688),\n",
       " (394.3967548911081, 1099.318677260896, 2.739492242286598),\n",
       " (393.5022271882191, 1099.69960782173, 2.738519982101022),\n",
       " (392.60807027168346, 1100.0814079160527, 2.737547721915446),\n",
       " (391.71428498673856, 1100.4640771829522, 2.7365754617298705)]"
      ]
     },
     "execution_count": 18,
     "metadata": {},
     "output_type": "execute_result"
    }
   ],
   "source": [
    "from nuscenes.map_expansion import arcline_path_utils\n",
    "poses = arcline_path_utils.discretize_lane(lane_record, resolution_meters=1)\n",
    "poses"
   ]
  },
  {
   "cell_type": "markdown",
   "metadata": {},
   "source": [
    "Given a query pose, you can also find the closest pose on a lane."
   ]
  },
  {
   "cell_type": "code",
   "execution_count": 19,
   "metadata": {
    "ExecuteTime": {
     "end_time": "2022-01-04T03:49:04.612463Z",
     "start_time": "2022-01-04T03:49:04.607476Z"
    }
   },
   "outputs": [],
   "source": [
    "closest_pose_on_lane, distance_along_lane = arcline_path_utils.project_pose_to_lane((x, y, yaw), lane_record)"
   ]
  },
  {
   "cell_type": "code",
   "execution_count": 20,
   "metadata": {
    "ExecuteTime": {
     "end_time": "2022-01-04T03:49:05.387128Z",
     "start_time": "2022-01-04T03:49:05.378154Z"
    }
   },
   "outputs": [
    {
     "name": "stdout",
     "output_type": "stream",
     "text": [
      "395 1095 0\n"
     ]
    },
    {
     "data": {
      "text/plain": [
       "(396.25524909914367, 1098.5289922434013, 2.739830026428688)"
      ]
     },
     "execution_count": 20,
     "metadata": {},
     "output_type": "execute_result"
    }
   ],
   "source": [
    "print(x, y, yaw)\n",
    "closest_pose_on_lane"
   ]
  },
  {
   "cell_type": "code",
   "execution_count": 21,
   "metadata": {
    "ExecuteTime": {
     "end_time": "2022-01-04T03:49:06.042366Z",
     "start_time": "2022-01-04T03:49:06.031120Z"
    }
   },
   "outputs": [
    {
     "data": {
      "text/plain": [
       "27.5"
      ]
     },
     "execution_count": 21,
     "metadata": {},
     "output_type": "execute_result"
    }
   ],
   "source": [
    "# Meters.\n",
    "distance_along_lane"
   ]
  },
  {
   "cell_type": "markdown",
   "metadata": {},
   "source": [
    "To find the entire length of the lane, you can use the `length_of_lane` function."
   ]
  },
  {
   "cell_type": "code",
   "execution_count": 22,
   "metadata": {
    "ExecuteTime": {
     "end_time": "2022-01-04T03:49:09.665934Z",
     "start_time": "2022-01-04T03:49:09.656956Z"
    }
   },
   "outputs": [
    {
     "data": {
      "text/plain": [
       "32.08455403942341"
      ]
     },
     "execution_count": 22,
     "metadata": {},
     "output_type": "execute_result"
    }
   ],
   "source": [
    "arcline_path_utils.length_of_lane(lane_record)"
   ]
  },
  {
   "cell_type": "markdown",
   "metadata": {},
   "source": [
    "You can also compute the curvature of a lane at a given distance along the lane."
   ]
  },
  {
   "cell_type": "code",
   "execution_count": 23,
   "metadata": {
    "ExecuteTime": {
     "end_time": "2022-01-04T03:49:12.260886Z",
     "start_time": "2022-01-04T03:49:12.250778Z"
    }
   },
   "outputs": [
    {
     "data": {
      "text/plain": [
       "0"
      ]
     },
     "execution_count": 23,
     "metadata": {},
     "output_type": "execute_result"
    }
   ],
   "source": [
    "# 0 means it is a straight lane.\n",
    "arcline_path_utils.get_curvature_at_distance_along_lane(distance_along_lane, lane_record)"
   ]
  },
  {
   "cell_type": "markdown",
   "metadata": {},
   "source": [
    "## 4. Input Representation\n",
    "\n",
    "It is common in the prediction literature to represent the state of an agent as a tensor containing information about the semantic map (such as the drivable area and walkways), as well the past locations of surrounding agents.\n",
    "\n",
    "Each paper in the field chooses to represent the input in a slightly different way. For example, [CoverNet](https://arxiv.org/pdf/1911.10298.pdf) and [MTP](https://arxiv.org/pdf/1808.05819.pdf) choose to rasterize the map information and agent locations into a three channel RGB image. But [Rules of the Road](http://openaccess.thecvf.com/content_CVPR_2019/papers/Hong_Rules_of_the_Road_Predicting_Driving_Behavior_With_a_Convolutional_CVPR_2019_paper.pdf) decides to use a \"taller\" tensor with information represented in different channels.\n",
    "\n",
    "We provide a module called `input_representation` that is meant to make it easy for you to define your own input representation. In short, you need to define your own `StaticLayerRepresentation`, `AgentRepresentation`, and `Combinator`.\n",
    "\n",
    "The `StaticLayerRepresentation` controls how the static map information is represented. The `AgentRepresentation` controls how the locations of the agents in the scene are represented. The `Combinator` controls how these two sources of information are combined into a single tensor.\n",
    "\n",
    "For more information, consult `input_representation/interface.py`.\n",
    "\n",
    "To help get you started, we've provided implementations of input representation used in CoverNet and MTP."
   ]
  },
  {
   "cell_type": "code",
   "execution_count": 24,
   "metadata": {
    "ExecuteTime": {
     "end_time": "2022-01-04T03:49:33.106429Z",
     "start_time": "2022-01-04T03:49:31.817149Z"
    }
   },
   "outputs": [
    {
     "data": {
      "text/plain": [
       "<matplotlib.image.AxesImage at 0x2e7fdacc6d8>"
      ]
     },
     "execution_count": 24,
     "metadata": {},
     "output_type": "execute_result"
    },
    {
     "data": {
      "image/png": "[encoded data removed]",
      "text/plain": [
       "<Figure size 432x288 with 1 Axes>"
      ]
     },
     "metadata": {
      "needs_background": "light"
     },
     "output_type": "display_data"
    }
   ],
   "source": [
    "import matplotlib.pyplot as plt\n",
    "%matplotlib inline\n",
    "\n",
    "from nuscenes.prediction.input_representation.static_layers import StaticLayerRasterizer\n",
    "from nuscenes.prediction.input_representation.agents import AgentBoxesWithFadedHistory\n",
    "from nuscenes.prediction.input_representation.interface import InputRepresentation\n",
    "from nuscenes.prediction.input_representation.combinators import Rasterizer\n",
    "\n",
    "static_layer_rasterizer = StaticLayerRasterizer(helper)\n",
    "agent_rasterizer = AgentBoxesWithFadedHistory(helper, seconds_of_history=1)\n",
    "mtp_input_representation = InputRepresentation(static_layer_rasterizer, agent_rasterizer, Rasterizer())\n",
    "\n",
    "instance_token_img, sample_token_img = 'bc38961ca0ac4b14ab90e547ba79fbb6', '7626dde27d604ac28a0240bdd54eba7a'\n",
    "anns = [ann for ann in nuscenes.sample_annotation if ann['instance_token'] == instance_token_img]\n",
    "img = mtp_input_representation.make_input_representation(instance_token_img, sample_token_img)\n",
    "\n",
    "plt.imshow(img)"
   ]
  },
  {
   "cell_type": "markdown",
   "metadata": {},
   "source": [
    "## Model Implementations\n",
    "\n",
    "We've provided PyTorch implementations for CoverNet and MTP. Below we show, how to make predictions on the previously created input representation."
   ]
  },
  {
   "cell_type": "code",
   "execution_count": 25,
   "metadata": {
    "ExecuteTime": {
     "end_time": "2022-01-04T03:49:44.011695Z",
     "start_time": "2022-01-04T03:49:39.999904Z"
    }
   },
   "outputs": [],
   "source": [
    "from nuscenes.prediction.models.backbone import ResNetBackbone\n",
    "from nuscenes.prediction.models.mtp import MTP\n",
    "from nuscenes.prediction.models.covernet import CoverNet\n",
    "import torch"
   ]
  },
  {
   "cell_type": "markdown",
   "metadata": {},
   "source": [
    "Both models take a CNN backbone as a parameter. We've provided wrappers for ResNet and MobileNet v2. In this example, we'll use ResNet50."
   ]
  },
  {
   "cell_type": "code",
   "execution_count": 26,
   "metadata": {
    "ExecuteTime": {
     "end_time": "2022-01-04T03:49:47.974879Z",
     "start_time": "2022-01-04T03:49:46.023354Z"
    }
   },
   "outputs": [],
   "source": [
    "backbone = ResNetBackbone('resnet50')\n",
    "mtp = MTP(backbone, num_modes=2)\n",
    "\n",
    "# Note that the value of num_modes depends on the size of the lattice used for CoverNet.\n",
    "covernet = CoverNet(backbone, num_modes=64)"
   ]
  },
  {
   "cell_type": "markdown",
   "metadata": {},
   "source": [
    "The second input is a tensor containing the velocity, acceleration, and heading change rate for the agent."
   ]
  },
  {
   "cell_type": "code",
   "execution_count": 27,
   "metadata": {
    "ExecuteTime": {
     "end_time": "2022-01-04T03:49:56.613908Z",
     "start_time": "2022-01-04T03:49:56.607925Z"
    }
   },
   "outputs": [],
   "source": [
    "agent_state_vector = torch.Tensor([[helper.get_velocity_for_agent(instance_token_img, sample_token_img),\n",
    "                                    helper.get_acceleration_for_agent(instance_token_img, sample_token_img),\n",
    "                                    helper.get_heading_change_rate_for_agent(instance_token_img, sample_token_img)]])"
   ]
  },
  {
   "cell_type": "code",
   "execution_count": 28,
   "metadata": {
    "ExecuteTime": {
     "end_time": "2022-01-04T03:49:57.702041Z",
     "start_time": "2022-01-04T03:49:57.688077Z"
    }
   },
   "outputs": [],
   "source": [
    "image_tensor = torch.Tensor(img).permute(2, 0, 1).unsqueeze(0)"
   ]
  },
  {
   "cell_type": "code",
   "execution_count": 29,
   "metadata": {
    "ExecuteTime": {
     "end_time": "2022-01-04T03:49:59.265082Z",
     "start_time": "2022-01-04T03:49:58.472898Z"
    }
   },
   "outputs": [
    {
     "data": {
      "text/plain": [
       "tensor([[-0.5096, -0.7190, -0.1612,  0.4021,  0.2096, -0.3533,  0.0385, -0.0193,\n",
       "          0.2157, -0.1070, -0.3803,  0.0042,  0.7455,  0.0782, -0.1643,  0.2189,\n",
       "          0.3967, -0.3132,  0.0881,  0.1259,  0.1107, -0.2703, -0.0459, -0.1398,\n",
       "          0.1492,  0.1660,  0.4738, -0.2555,  0.1813, -0.5004,  0.0989, -0.5762,\n",
       "          0.0173, -0.2111, -0.4652,  0.0072, -0.4920, -0.4699,  0.3032, -0.3948,\n",
       "         -0.3244,  0.0936,  0.2745,  0.0679,  0.1332, -0.4260,  0.1085, -0.4762,\n",
       "          0.4805,  0.1584]], grad_fn=<CatBackward>)"
      ]
     },
     "execution_count": 29,
     "metadata": {},
     "output_type": "execute_result"
    }
   ],
   "source": [
    "# Output has 50 entries.\n",
    "# The first 24 are x,y coordinates (in the agent frame) over the next 6 seconds at 2 Hz for the first mode.\n",
    "# The second 24 are the x,y coordinates for the second mode.\n",
    "# The last 2 are the logits of the mode probabilities\n",
    "mtp(image_tensor, agent_state_vector)"
   ]
  },
  {
   "cell_type": "code",
   "execution_count": 30,
   "metadata": {
    "ExecuteTime": {
     "end_time": "2022-01-04T03:50:08.335722Z",
     "start_time": "2022-01-04T03:50:07.568259Z"
    }
   },
   "outputs": [
    {
     "name": "stdout",
     "output_type": "stream",
     "text": [
      "tensor([[-0.2104,  0.3766, -0.0581,  0.2595, -0.0943,  0.3645,  0.2143, -0.5153,\n",
      "          0.2702,  0.3516,  0.5674,  0.2777, -0.3662,  0.1296,  0.7880,  0.0666,\n",
      "          0.0712, -0.2002, -0.0548,  0.5579,  0.3378, -0.4542,  0.0541,  0.5491,\n",
      "          0.0729, -0.0590, -0.0387,  0.3550,  0.3259,  0.2923, -0.4563, -0.1232,\n",
      "         -0.2339,  0.4316, -0.5086,  0.6864,  0.4282,  0.1407, -0.5199,  0.2283,\n",
      "         -0.1987,  0.0851,  0.0107, -0.0464, -0.0890, -0.4775,  0.1851,  0.1217,\n",
      "         -0.0945,  0.0507,  0.3947, -0.2693,  0.3717,  0.2592, -0.4416, -0.2929,\n",
      "         -0.0861,  0.3219, -0.2934, -0.7215,  0.0588, -0.1662,  0.0071, -0.3712]],\n",
      "       grad_fn=<AddmmBackward>)\n"
     ]
    }
   ],
   "source": [
    "# CoverNet outputs a probability distribution over the trajectory set.\n",
    "# These are the logits of the probabilities\n",
    "logits = covernet(image_tensor, agent_state_vector)\n",
    "print(logits)"
   ]
  },
  {
   "cell_type": "markdown",
   "metadata": {},
   "source": [
    "The CoverNet model outputs a probability distribution over a set of trajectories. To be able to interpret the predictions, and perform inference with CoverNet, you need to download the trajectory sets from the nuscenes website. Download them from this [link](https://www.nuscenes.org/public/nuscenes-prediction-challenge-trajectory-sets.zip) and unzip them in a directory of your choice.\n",
    "\n",
    "Uncomment the following code when you do so:"
   ]
  },
  {
   "cell_type": "code",
   "execution_count": 33,
   "metadata": {
    "ExecuteTime": {
     "end_time": "2022-01-04T03:59:50.725681Z",
     "start_time": "2022-01-04T03:59:50.703741Z"
    }
   },
   "outputs": [
    {
     "data": {
      "text/plain": [
       "tensor([[[[ 1.8677e-01,  2.0907e+00],\n",
       "          [ 7.7554e-01,  4.1131e+00],\n",
       "          [ 1.8086e+00,  6.1398e+00],\n",
       "          ...,\n",
       "          [ 1.9723e+01,  1.6927e+01],\n",
       "          [ 2.2943e+01,  1.8003e+01],\n",
       "          [ 2.6375e+01,  1.9147e+01]],\n",
       "\n",
       "         [[-3.6286e-04,  4.2632e+00],\n",
       "          [-7.4217e-02,  8.1147e+00],\n",
       "          [-2.4705e-01,  1.1966e+01],\n",
       "          ...,\n",
       "          [-7.0907e+00,  4.3550e+01],\n",
       "          [-7.7999e+00,  4.5387e+01],\n",
       "          [-9.0104e+00,  4.8853e+01]],\n",
       "\n",
       "         [[ 4.4409e-16,  3.0827e+00],\n",
       "          [-1.0750e-01,  6.9191e+00],\n",
       "          [-1.4924e-01,  1.0373e+01],\n",
       "          ...,\n",
       "          [-2.2910e+00,  3.5521e+01],\n",
       "          [-2.5818e+00,  3.9967e+01],\n",
       "          [-2.8454e+00,  4.3923e+01]],\n",
       "\n",
       "         ...,\n",
       "\n",
       "         [[ 6.1062e-16,  1.3065e+00],\n",
       "          [-2.1602e-01,  3.0356e+00],\n",
       "          [-5.2896e-01,  4.7502e+00],\n",
       "          ...,\n",
       "          [-1.1101e+01,  2.0317e+01],\n",
       "          [-1.3374e+01,  2.2485e+01],\n",
       "          [-1.5708e+01,  2.4587e+01]],\n",
       "\n",
       "         [[ 3.5886e-01,  3.8419e+00],\n",
       "          [ 1.0794e+00,  6.3453e+00],\n",
       "          [ 2.4901e+00,  8.5394e+00],\n",
       "          ...,\n",
       "          [ 2.3863e+01,  2.3062e+01],\n",
       "          [ 2.8421e+01,  2.4934e+01],\n",
       "          [ 3.3421e+01,  2.6985e+01]],\n",
       "\n",
       "         [[-8.5589e-03,  2.8694e-01],\n",
       "          [ 3.3321e-01,  1.6148e+00],\n",
       "          [ 6.6388e-01,  2.5734e+00],\n",
       "          ...,\n",
       "          [ 2.3747e+01,  1.3324e+01],\n",
       "          [ 2.9810e+01,  1.4784e+01],\n",
       "          [ 3.6722e+01,  1.6395e+01]]]])"
      ]
     },
     "execution_count": 33,
     "metadata": {},
     "output_type": "execute_result"
    }
   ],
   "source": [
    "import pickle\n",
    "\n",
    "# Epsilon is the amount of coverage in the set, \n",
    "# i.e. a real world trajectory is at most 8 meters from a trajectory in this set\n",
    "# We released the set for epsilon = 2, 4, 8. Consult the paper for more information\n",
    "# on how this set was created\n",
    "\n",
    "#PATH_TO_EPSILON_8_SET = \"\"\n",
    "trajectories = pickle.load(open('E:/Downloads/nuscenes/nuscenes-prediction-challenge-trajectory-sets/epsilon_8.pkl', 'rb'))\n",
    "\n",
    "# Saved them as a list of lists\n",
    "trajectories = torch.Tensor(trajectories)\n",
    "\n",
    "# Print 5 most likely predictions\n",
    "trajectories[logits.argsort(descending=True)[:5]]"
   ]
  },
  {
   "cell_type": "markdown",
   "metadata": {},
   "source": [
    "We also provide two physics-based models - A constant velocity and heading model and a physics oracle. The physics oracle estimates the future trajectory of the agent with several physics based models and chooses the one that is closest to the ground truth. It represents the best performance a purely physics based model could achieve on the dataset."
   ]
  },
  {
   "cell_type": "code",
   "execution_count": 34,
   "metadata": {
    "ExecuteTime": {
     "end_time": "2022-01-04T03:59:55.057633Z",
     "start_time": "2022-01-04T03:59:55.032700Z"
    }
   },
   "outputs": [],
   "source": [
    "from nuscenes.prediction.models.physics import ConstantVelocityHeading, PhysicsOracle\n",
    "\n",
    "cv_model = ConstantVelocityHeading(sec_from_now=6, helper=helper)\n",
    "physics_oracle = PhysicsOracle(sec_from_now=6, helper=helper)"
   ]
  },
  {
   "cell_type": "markdown",
   "metadata": {},
   "source": [
    "The physics models can be called as functions. They take as input a string of the instance and sample token of the agent concatenated with an underscore (\"_\").\n",
    "\n",
    "The output is a `Prediction` data type. The `Prediction` data type stores the predicted trajectories and their associated probabilities for the agent. We'll go over the `Prediction` type in greater detail in the next section."
   ]
  },
  {
   "cell_type": "code",
   "execution_count": 35,
   "metadata": {
    "ExecuteTime": {
     "end_time": "2022-01-04T03:59:58.364290Z",
     "start_time": "2022-01-04T03:59:58.345143Z"
    }
   },
   "outputs": [
    {
     "data": {
      "text/plain": [
       "Prediction(instance=bc38961ca0ac4b14ab90e547ba79fbb6, sample=7626dde27d604ac28a0240bdd54eba7a, prediction=[[[ 388.17909232 1136.96919062]\n",
       "  [ 387.06818463 1134.47838124]\n",
       "  [ 385.95727695 1131.98757186]\n",
       "  [ 384.84636926 1129.49676248]\n",
       "  [ 383.73546158 1127.0059531 ]\n",
       "  [ 382.6245539  1124.51514372]\n",
       "  [ 381.51364621 1122.02433435]\n",
       "  [ 380.40273853 1119.53352497]\n",
       "  [ 379.29183084 1117.04271559]\n",
       "  [ 378.18092316 1114.55190621]\n",
       "  [ 377.07001548 1112.06109683]\n",
       "  [ 375.95910779 1109.57028745]]], probabilities=[1])"
      ]
     },
     "execution_count": 35,
     "metadata": {},
     "output_type": "execute_result"
    }
   ],
   "source": [
    "cv_model(f\"{instance_token_img}_{sample_token_img}\")"
   ]
  },
  {
   "cell_type": "code",
   "execution_count": 36,
   "metadata": {
    "ExecuteTime": {
     "end_time": "2022-01-04T03:59:59.413644Z",
     "start_time": "2022-01-04T03:59:59.392214Z"
    }
   },
   "outputs": [
    {
     "data": {
      "text/plain": [
       "Prediction(instance=bc38961ca0ac4b14ab90e547ba79fbb6, sample=7626dde27d604ac28a0240bdd54eba7a, prediction=[[[ 388.17909232 1136.96919062]\n",
       "  [ 387.06818463 1134.47838124]\n",
       "  [ 385.95727695 1131.98757186]\n",
       "  [ 384.84636926 1129.49676248]\n",
       "  [ 383.73546158 1127.0059531 ]\n",
       "  [ 382.6245539  1124.51514372]\n",
       "  [ 381.51364621 1122.02433435]\n",
       "  [ 380.40273853 1119.53352497]\n",
       "  [ 379.29183084 1117.04271559]\n",
       "  [ 378.18092316 1114.55190621]\n",
       "  [ 377.07001548 1112.06109683]\n",
       "  [ 375.95910779 1109.57028745]]], probabilities=[1])"
      ]
     },
     "execution_count": 36,
     "metadata": {},
     "output_type": "execute_result"
    }
   ],
   "source": [
    "physics_oracle(f\"{instance_token_img}_{sample_token_img}\")"
   ]
  },
  {
   "cell_type": "markdown",
   "metadata": {},
   "source": [
    "## 6. Making a submission to the challenge\n",
    "\n",
    "Participants must submit a zipped json file containing serialized `Predictions` for each agent in the validation set.\n",
    "\n",
    "The previous section introduced the `Prediction` data type. In this section, we explain the format in greater detail. \n",
    "\n",
    "A `Prediction` consists of four fields:\n",
    "\n",
    "1. instance: The instance token for the agent.\n",
    "2. sample: The sample token for the agent.\n",
    "3. prediction: Prediction from model. A prediction can consist of up to 25 proposed trajectories. This field must be a numpy array with three dimensions (number of trajectories (also called modes), number of timesteps, 2).\n",
    "4. probabilities: The probability corresponding to each predicted mode. This is a numpy array with shape `(number_of_modes,)`.\n",
    "\n",
    "You will get an error if any of these conditions are violated."
   ]
  },
  {
   "cell_type": "code",
   "execution_count": 37,
   "metadata": {
    "ExecuteTime": {
     "end_time": "2022-01-04T04:00:06.823503Z",
     "start_time": "2022-01-04T04:00:06.817518Z"
    }
   },
   "outputs": [],
   "source": [
    "from nuscenes.eval.prediction.data_classes import Prediction\n",
    "import numpy as np"
   ]
  },
  {
   "cell_type": "code",
   "execution_count": 38,
   "metadata": {
    "ExecuteTime": {
     "end_time": "2022-01-04T04:00:07.429814Z",
     "start_time": "2022-01-04T04:00:07.425799Z"
    }
   },
   "outputs": [],
   "source": [
    "# This would raise an error because instance is not a string.\n",
    "\n",
    "Prediction(instance=1, sample=sample_token_img,\n",
    "          prediction=np.ones((1, 12, 2)), probabilities=np.array([1]))"
   ]
  },
  {
   "cell_type": "code",
   "execution_count": 39,
   "metadata": {
    "ExecuteTime": {
     "end_time": "2022-01-04T04:00:07.897232Z",
     "start_time": "2022-01-04T04:00:07.879277Z"
    }
   },
   "outputs": [],
   "source": [
    "# This would raise an error because sample is not a string.\n",
    "\n",
    "Prediction(instance=instance_token_img, sample=2,\n",
    "          prediction=np.ones((1, 12, 2)), probabilities=np.array([1]))"
   ]
  },
  {
   "cell_type": "code",
   "execution_count": null,
   "metadata": {},
   "outputs": [],
   "source": [
    "# This would raise an error because prediction is not a numpy array.\n",
    "\n",
    "Prediction(instance=instance_token_img, sample=sample_token_img,\n",
    "          prediction=np.ones((1, 12, 2)).tolist(), probabilities=np.array([1]))"
   ]
  },
  {
   "cell_type": "code",
   "execution_count": null,
   "metadata": {},
   "outputs": [],
   "source": [
    "# This would throw an error because probabilities is not a numpy array. Uncomment to see.\n",
    "\n",
    "Prediction(instance=instance_token_img, sample=sample_token_img,\n",
    "          prediction=np.ones((1, 12, 2)), probabilities=[0.3])"
   ]
  },
  {
   "cell_type": "code",
   "execution_count": null,
   "metadata": {},
   "outputs": [],
   "source": [
    "# This would throw an error because there are more than 25 predicted modes. Uncomment to see.\n",
    "\n",
    "Prediction(instance=instance_token_img, sample=sample_token_img,\n",
    "          prediction=np.ones((30, 12, 2)), probabilities=np.array([1/30]*30))"
   ]
  },
  {
   "cell_type": "code",
   "execution_count": null,
   "metadata": {},
   "outputs": [],
   "source": [
    "# This would throw an error because the number of predictions and probabilities don't match. Uncomment to see.\n",
    "\n",
    "Prediction(instance=instance_token_img, sample=sample_token_img,\n",
    "           prediction=np.ones((13, 12, 2)), probabilities=np.array([1/12]*12))"
   ]
  },
  {
   "cell_type": "markdown",
   "metadata": {},
   "source": [
    "To make a submission to the challenge, store your model predictions in a python list and save it to json. Then, upload a zipped version of your file to the eval server. \n",
    "\n",
    "For an example, see `eval/prediction/baseline_model_inference.py`"
   ]
  }
 ],
 "metadata": {
  "kernelspec": {
   "display_name": "Python {lgsvl}",
   "language": "python",
   "name": "lgsvl"
  },
  "language_info": {
   "codemirror_mode": {
    "name": "ipython",
    "version": 3
   },
   "file_extension": ".py",
   "mimetype": "text/x-python",
   "name": "python",
   "nbconvert_exporter": "python",
   "pygments_lexer": "ipython3",
   "version": "3.7.3"
  },
  "toc": {
   "base_numbering": 1,
   "nav_menu": {},
   "number_sections": true,
   "sideBar": true,
   "skip_h1_title": false,
   "title_cell": "Table of Contents",
   "title_sidebar": "Contents",
   "toc_cell": false,
   "toc_position": {
    "height": "calc(100% - 180px)",
    "left": "10px",
    "top": "150px",
    "width": "313.825px"
   },
   "toc_section_display": true,
   "toc_window_display": true
  },
  "varInspector": {
   "cols": {
    "lenName": 16,
    "lenType": 16,
    "lenVar": 40
   },
   "kernels_config": {
    "python": {
     "delete_cmd_postfix": "",
     "delete_cmd_prefix": "del ",
     "library": "var_list.py",
     "varRefreshCmd": "print(var_dic_list())"
    },
    "r": {
     "delete_cmd_postfix": ") ",
     "delete_cmd_prefix": "rm(",
     "library": "var_list.r",
     "varRefreshCmd": "cat(var_dic_list()) "
    }
   },
   "types_to_exclude": [
    "module",
    "function",
    "builtin_function_or_method",
    "instance",
    "_Feature"
   ],
   "window_display": false
  }
 },
 "nbformat": 4,
 "nbformat_minor": 4
}
