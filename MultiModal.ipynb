{
 "cells": [
  {
   "cell_type": "markdown",
   "metadata": {},
   "source": [
    "# 库导入"
   ]
  },
  {
   "cell_type": "code",
   "execution_count": 1,
   "metadata": {},
   "outputs": [
    {
     "name": "stdout",
     "output_type": "stream",
     "text": [
      "1 Physical GPUs, 1 Logical GPUs\n"
     ]
    }
   ],
   "source": [
    "from tensorflow.keras.layers import *\n",
    "from tensorflow.keras.models import Model\n",
    "from tensorflow.keras import backend as K\n",
    "import tensorflow as tf\n",
    "import numpy as np\n",
    "from tensorflow.keras.layers import Input\n",
    "from tensorflow.keras.optimizers import Adam,RMSprop\n",
    "import matplotlib.pyplot as plt\n",
    "from tensorflow.keras.losses import mse\n",
    "from tensorflow.keras.utils import plot_model\n",
    "\n",
    "tf.compat.v1.disable_eager_execution()\n",
    "\n",
    "gpus = tf.config.experimental.list_physical_devices('GPU')\n",
    "if gpus:\n",
    "  try:\n",
    "    # Currently, memory growth needs to be the same across GPUs\n",
    "    for gpu in gpus:\n",
    "      tf.config.experimental.set_memory_growth(gpu, True)\n",
    "    logical_gpus = tf.config.experimental.list_logical_devices('GPU')\n",
    "    print(len(gpus), \"Physical GPUs,\", len(logical_gpus), \"Logical GPUs\")\n",
    "  except RuntimeError as e:\n",
    "    # Memory growth must be set before GPUs have been initialized\n",
    "    print(e)"
   ]
  },
  {
   "cell_type": "markdown",
   "metadata": {},
   "source": [
    "# 数据导入"
   ]
  },
  {
   "cell_type": "code",
   "execution_count": 2,
   "metadata": {},
   "outputs": [
    {
     "name": "stdout",
     "output_type": "stream",
     "text": [
      "(3086, 10, 5) (3086, 3) (1325, 10, 2) (1325, 3)\n",
      "(2445, 10, 5) (2445, 3) (1047, 10, 2) (1047, 3)\n",
      "(5531, 10, 5) (5531, 3) (2372, 10, 2) (2372, 3)\n"
     ]
    }
   ],
   "source": [
    "index80 = 1\n",
    "\n",
    "Intrain80 = np.load('data/ComIntrain%s.npy' % index80)\n",
    "Outtrain80 = np.load('data/EnOuttrain%s.npy' % index80)\n",
    "\n",
    "InLtrain80 = np.load('data/EnIntrain%s.npy' % index80)\n",
    "OutLtrain80 = np.load('data/EnOutLtrain%s.npy' % index80)\n",
    "\n",
    "Intest80 = np.load('data/ComIntest%s.npy' % index80)\n",
    "Outtest80 = np.load('data/EnOuttest%s.npy' % index80)\n",
    "\n",
    "InLtest80 = np.load('data/EnIntest%s.npy' % index80)\n",
    "OutLtest80 = np.load('data/EnOutLtest%s.npy' % index80)\n",
    "\n",
    "print(Intrain80.shape, OutLtrain80.shape, Outtest80.shape, OutLtest80.shape)\n",
    "\n",
    "index101 = 2\n",
    "\n",
    "Intrain101 = np.load('data/ComIntrain%s.npy' % index101)\n",
    "Outtrain101 = np.load('data/EnOuttrain%s.npy' % index101)\n",
    "\n",
    "InLtrain101 = np.load('data/EnIntrain%s.npy' % index101)\n",
    "OutLtrain101 = np.load('data/EnOutLtrain%s.npy' % index101)\n",
    "\n",
    "Intest101 = np.load('data/ComIntest%s.npy' % index101)\n",
    "Outtest101 = np.load('data/EnOuttest%s.npy' % index101)\n",
    "\n",
    "InLtest101 = np.load('data/EnIntest%s.npy' % index101)\n",
    "OutLtest101 = np.load('data/EnOutLtest%s.npy' % index101)\n",
    "\n",
    "print(Intrain101.shape, OutLtrain101.shape,\n",
    "      Outtest101.shape, OutLtest101.shape)\n",
    "\n",
    "\n",
    "Intrain = np.concatenate((Intrain80,Intrain101),axis=0)\n",
    "Outtrain = np.concatenate((Outtrain80,Outtrain101),axis=0)\n",
    "\n",
    "InLtrain = np.concatenate((InLtrain80,InLtrain101),axis=0)\n",
    "OutLtrain = np.concatenate((OutLtrain80,OutLtrain101),axis=0)\n",
    "\n",
    "Intest = np.concatenate((Intest80,Intest101),axis=0)\n",
    "Outtest = np.concatenate((Outtest80,Outtest101),axis=0)\n",
    "\n",
    "InLtest = np.concatenate((InLtest80,InLtest101),axis=0)\n",
    "OutLtest = np.concatenate((OutLtest80,OutLtest101),axis=0)\n",
    "\n",
    "print(Intrain.shape, OutLtrain.shape, Outtest.shape, OutLtest.shape)"
   ]
  },
  {
   "cell_type": "markdown",
   "metadata": {},
   "source": [
    "# 参数设置"
   ]
  },
  {
   "cell_type": "code",
   "execution_count": 3,
   "metadata": {},
   "outputs": [],
   "source": [
    "# 基本参数\n",
    "batch_size = 60\n",
    "epochs = 40\n",
    "latent_dim = 72  # LSTM 的单元个数\n",
    "num_classes = 3 # 类数\n",
    "encoder_length = InLtrain.shape[1]\n",
    "decoder_length = Outtrain.shape[1]\n",
    "num_encoder_tokens = InLtrain.shape[2]\n",
    "num_decoder_tokens = Outtrain.shape[2]"
   ]
  },
  {
   "cell_type": "markdown",
   "metadata": {},
   "source": [
    "# 采样"
   ]
  },
  {
   "cell_type": "code",
   "execution_count": 4,
   "metadata": {},
   "outputs": [],
   "source": [
    "def sampling(args):\n",
    "    z_mean, z_log_var = args\n",
    "    batch = K.shape(z_mean)[0]\n",
    "    length = K.shape(z_mean)[1]\n",
    "    dim = K.int_shape(z_mean)[2]\n",
    "    epsilon = K.random_normal(shape=(batch,length,dim))\n",
    "    return z_mean + K.exp(0.5 * z_log_var) * epsilon"
   ]
  },
  {
   "cell_type": "markdown",
   "metadata": {},
   "source": [
    "# 编码解码器"
   ]
  },
  {
   "cell_type": "code",
   "execution_count": 5,
   "metadata": {},
   "outputs": [
    {
     "name": "stdout",
     "output_type": "stream",
     "text": [
      "WARNING:tensorflow:Layer LSTM0 will not use cuDNN kernel since it doesn't meet the cuDNN kernel criteria. It will use generic GPU kernel as fallback when running on GPU\n",
      "WARNING:tensorflow:Layer LSTM1 will not use cuDNN kernel since it doesn't meet the cuDNN kernel criteria. It will use generic GPU kernel as fallback when running on GPU\n",
      "(None, 10, 2) (None, 10, 2) (None, 10, 4)\n",
      "WARNING:tensorflow:Layer LSTM2 will not use cuDNN kernel since it doesn't meet the cuDNN kernel criteria. It will use generic GPU kernel as fallback when running on GPU\n",
      "Model: \"functional_1\"\n",
      "__________________________________________________________________________________________________\n",
      "Layer (type)                    Output Shape         Param #     Connected to                     \n",
      "==================================================================================================\n",
      "input_2 (InputLayer)            [(None, 10, 2)]      0                                            \n",
      "__________________________________________________________________________________________________\n",
      "LSTM1 (LSTM)                    [(None, 10, 72), (No 21600       input_2[0][0]                    \n",
      "__________________________________________________________________________________________________\n",
      "input_1 (InputLayer)            [(None, 3)]          0                                            \n",
      "__________________________________________________________________________________________________\n",
      "z_mean1 (Dense)                 (None, 10, 8)        584         LSTM1[0][0]                      \n",
      "__________________________________________________________________________________________________\n",
      "z_log_var1 (Dense)              (None, 10, 8)        584         LSTM1[0][0]                      \n",
      "__________________________________________________________________________________________________\n",
      "repeat_vector (RepeatVector)    (None, 10, 3)        0           input_1[0][0]                    \n",
      "__________________________________________________________________________________________________\n",
      "z_mean2 (Dense)                 (None, 10, 2)        18          z_mean1[0][0]                    \n",
      "__________________________________________________________________________________________________\n",
      "z_log_var2 (Dense)              (None, 10, 2)        18          z_log_var1[0][0]                 \n",
      "__________________________________________________________________________________________________\n",
      "LSTM0 (LSTM)                    (None, 10, 8)        384         repeat_vector[0][0]              \n",
      "__________________________________________________________________________________________________\n",
      "z (Lambda)                      (None, 10, 2)        0           z_mean2[0][0]                    \n",
      "                                                                 z_log_var2[0][0]                 \n",
      "__________________________________________________________________________________________________\n",
      "dense_yh2 (Dense)               (None, 10, 2)        18          LSTM0[0][0]                      \n",
      "__________________________________________________________________________________________________\n",
      "concatenate (Concatenate)       (None, 10, 4)        0           z[0][0]                          \n",
      "                                                                 dense_yh2[0][0]                  \n",
      "__________________________________________________________________________________________________\n",
      "LSTM2 (LSTM)                    (None, 10, 72)       22176       concatenate[0][0]                \n",
      "                                                                 LSTM1[0][1]                      \n",
      "                                                                 LSTM1[0][2]                      \n",
      "__________________________________________________________________________________________________\n",
      "dense1 (Dense)                  (None, 10, 8)        584         LSTM2[0][0]                      \n",
      "__________________________________________________________________________________________________\n",
      "dense2 (Dense)                  (None, 10, 5)        45          dense1[0][0]                     \n",
      "__________________________________________________________________________________________________\n",
      "dense3 (Dense)                  (None, 10, 2)        12          dense2[0][0]                     \n",
      "==================================================================================================\n",
      "Total params: 46,023\n",
      "Trainable params: 46,023\n",
      "Non-trainable params: 0\n",
      "__________________________________________________________________________________________________\n",
      "None\n"
     ]
    },
    {
     "data": {
      "image/png": "[encoded data removed]",
      "text/plain": [
       "<IPython.core.display.Image object>"
      ]
     },
     "execution_count": 5,
     "metadata": {},
     "output_type": "execute_result"
    }
   ],
   "source": [
    "# 定义编码器的输入\n",
    "y = Input(shape=(num_classes,))  # 输入类别\n",
    "yh = RepeatVector(encoder_length)(y)\n",
    "yh = LSTM(8,return_sequences=True,name='LSTM0')(yh)\n",
    "yh = Dense(num_encoder_tokens, activation='sigmoid',\n",
    "           name='dense_yh2')(yh)  # 这里就是直接构建每个类别的均值\n",
    "\n",
    "encoder_inputs = Input(shape=(encoder_length, num_encoder_tokens))\n",
    "\n",
    "# 编码器，要求其返回状态\n",
    "encoder = LSTM(latent_dim, return_sequences=True, return_state=True,name='LSTM1')\n",
    "\n",
    "# 调用编码器，得到编码器的输出，以及状态信息 state_h 和 state_c\n",
    "encoder_outpus, state_h, state_c = encoder(encoder_inputs)\n",
    "\n",
    "z_mean1 = Dense(8, name='z_mean1')(encoder_outpus)\n",
    "z_mean = Dense(num_encoder_tokens, name='z_mean2')(z_mean1)\n",
    "z_log_var1 = Dense(8, name='z_log_var1')(encoder_outpus)\n",
    "z_log_var = Dense(num_encoder_tokens, name='z_log_var2')(z_log_var1)\n",
    "\n",
    "# 编码器的状态\n",
    "encoder_state = [state_h, state_c]\n",
    "\n",
    "# 采样\n",
    "z = Lambda(sampling, name='z')([z_mean, z_log_var])\n",
    "\n",
    "# 控制标签\n",
    "zy = concatenate((z,yh),axis = -1)\n",
    "print(z.shape,yh.shape,zy.shape)\n",
    "\n",
    "# 定义解码器的输入\n",
    "# None表示可以处理任意长度的序列\n",
    "\n",
    "# 接下来建立解码器，解码器将返回整个输出序列并且返回其中间状态\n",
    "decoder_lstm = LSTM(latent_dim, return_sequences=True,name='LSTM2')\n",
    "\n",
    "# 将编码器输出的状态作为初始解码器的初始状态\n",
    "decoder_outputs = decoder_lstm(zy, initial_state=encoder_state)\n",
    "\n",
    "# 添加全连接层\n",
    "decoder_dense1 = Dense(8, activation='relu', name='dense1')\n",
    "decoder_dense2 = Dense(5, activation='relu', name='dense2')\n",
    "decoder_dense3 = Dense(num_encoder_tokens, activation='relu', name='dense3')\n",
    "decoder_outputs = decoder_dense3(decoder_dense2(decoder_dense1(decoder_outputs)))\n",
    "\n",
    "# 定义整个模型\n",
    "model = Model([encoder_inputs, y], decoder_outputs)\n",
    "\n",
    "# 编译模型\n",
    "# xent_loss是重构loss，kl_loss是KL loss,修改K.square(z_mean)为K.square(z_mean - yh)，也就是让隐变量向类内均值看齐\n",
    "\n",
    "\n",
    "def VAE_loss(y_true, y_predicted):\n",
    "    reconstruction_loss = num_encoder_tokens * K.sum(mse(y_true, y_predicted), axis=-1)\n",
    "    kl_loss = - 0.5 * K.sum(1 + z_log_var - K.square(z_mean - yh) - K.exp(z_log_var), axis=-1)\n",
    "    return K.mean(reconstruction_loss) + K.mean(kl_loss)\n",
    "\n",
    "model.compile(loss=VAE_loss, optimizer='RMSprop')\n",
    "\n",
    "print(model.summary())\n",
    "plot_model(model,to_file='CVAE.png')"
   ]
  },
  {
   "cell_type": "markdown",
   "metadata": {},
   "source": [
    "# 模型训练与结果分析"
   ]
  },
  {
   "cell_type": "code",
   "execution_count": 6,
   "metadata": {},
   "outputs": [
    {
     "name": "stdout",
     "output_type": "stream",
     "text": [
      "Train on 5531 samples, validate on 2372 samples\n",
      "Epoch 1/40\n",
      "5460/5531 [============================>.] - ETA: 0s - loss: 2.5037WARNING:tensorflow:From D:\\Anaconda3\\envs\\py36\\lib\\site-packages\\tensorflow\\python\\keras\\engine\\training_v1.py:2048: Model.state_updates (from tensorflow.python.keras.engine.training) is deprecated and will be removed in a future version.\n",
      "Instructions for updating:\n",
      "This property should not be used in TensorFlow 2.0, as updates are applied automatically.\n",
      "5531/5531 [==============================] - 2s 375us/sample - loss: 2.5009 - val_loss: 2.5465\n",
      "Epoch 2/40\n",
      "5531/5531 [==============================] - 2s 341us/sample - loss: 2.3605 - val_loss: 2.4850\n",
      "Epoch 3/40\n",
      "5531/5531 [==============================] - 2s 340us/sample - loss: 2.3207 - val_loss: 2.5673\n",
      "Epoch 4/40\n",
      "5531/5531 [==============================] - 2s 338us/sample - loss: 2.2997 - val_loss: 2.4579\n",
      "Epoch 5/40\n",
      "5531/5531 [==============================] - 2s 339us/sample - loss: 1.3856 - val_loss: 0.2662\n",
      "Epoch 6/40\n",
      "5531/5531 [==============================] - 2s 338us/sample - loss: 0.1264 - val_loss: 0.0815\n",
      "Epoch 7/40\n",
      "5531/5531 [==============================] - 2s 344us/sample - loss: 0.0958 - val_loss: 0.0633\n",
      "Epoch 8/40\n",
      "5531/5531 [==============================] - 2s 339us/sample - loss: 0.0781 - val_loss: 0.0536\n",
      "Epoch 9/40\n",
      "5531/5531 [==============================] - 2s 344us/sample - loss: 0.0679 - val_loss: 0.0540\n",
      "Epoch 10/40\n",
      "5531/5531 [==============================] - 2s 356us/sample - loss: 0.0612 - val_loss: 0.0837\n",
      "Epoch 11/40\n",
      "5531/5531 [==============================] - 2s 354us/sample - loss: 0.0567 - val_loss: 0.0461\n",
      "Epoch 12/40\n",
      "5531/5531 [==============================] - 2s 347us/sample - loss: 0.0532 - val_loss: 0.0800\n",
      "Epoch 13/40\n",
      "5531/5531 [==============================] - 2s 366us/sample - loss: 0.0484 - val_loss: 0.0643\n",
      "Epoch 14/40\n",
      "5531/5531 [==============================] - 2s 348us/sample - loss: 0.0466 - val_loss: 0.0325\n",
      "Epoch 15/40\n",
      "5531/5531 [==============================] - 2s 351us/sample - loss: 0.0431 - val_loss: 0.0383\n",
      "Epoch 16/40\n",
      "5531/5531 [==============================] - 2s 355us/sample - loss: 0.0421 - val_loss: 0.0586\n",
      "Epoch 17/40\n",
      "5531/5531 [==============================] - 2s 351us/sample - loss: 0.0385 - val_loss: 0.0621\n",
      "Epoch 18/40\n",
      "5531/5531 [==============================] - 2s 357us/sample - loss: 0.0376 - val_loss: 0.0258\n",
      "Epoch 19/40\n",
      "5531/5531 [==============================] - 2s 356us/sample - loss: 0.0364 - val_loss: 0.0337\n",
      "Epoch 20/40\n",
      "5531/5531 [==============================] - 2s 356us/sample - loss: 0.0336 - val_loss: 0.0186\n",
      "Epoch 21/40\n",
      "5531/5531 [==============================] - 2s 356us/sample - loss: 0.0336 - val_loss: 0.0404\n",
      "Epoch 22/40\n",
      "5531/5531 [==============================] - 2s 359us/sample - loss: 0.0314 - val_loss: 0.0302\n",
      "Epoch 23/40\n",
      "5531/5531 [==============================] - 2s 358us/sample - loss: 0.0315 - val_loss: 0.0530\n",
      "Epoch 24/40\n",
      "5531/5531 [==============================] - 2s 358us/sample - loss: 0.0292 - val_loss: 0.0811\n",
      "Epoch 25/40\n",
      "5531/5531 [==============================] - 2s 358us/sample - loss: 0.0295 - val_loss: 0.0259\n",
      "Epoch 26/40\n",
      "5531/5531 [==============================] - 2s 361us/sample - loss: 0.0286 - val_loss: 0.0212\n",
      "Epoch 27/40\n",
      "5531/5531 [==============================] - 2s 357us/sample - loss: 0.0274 - val_loss: 0.0549\n",
      "Epoch 28/40\n",
      "5531/5531 [==============================] - 2s 368us/sample - loss: 0.0269 - val_loss: 0.0812s: 0.\n",
      "Epoch 29/40\n",
      "5531/5531 [==============================] - 2s 364us/sample - loss: 0.0266 - val_loss: 0.0323\n",
      "Epoch 30/40\n",
      "5531/5531 [==============================] - 2s 358us/sample - loss: 0.0259 - val_loss: 0.0228\n",
      "Epoch 31/40\n",
      "5531/5531 [==============================] - 2s 355us/sample - loss: 0.0250 - val_loss: 0.0304\n",
      "Epoch 32/40\n",
      "5531/5531 [==============================] - 2s 354us/sample - loss: 0.0250 - val_loss: 0.0257\n",
      "Epoch 33/40\n",
      "5531/5531 [==============================] - 2s 354us/sample - loss: 0.0239 - val_loss: 0.0313\n",
      "Epoch 34/40\n",
      "5531/5531 [==============================] - 2s 354us/sample - loss: 0.0240 - val_loss: 0.0190\n",
      "Epoch 35/40\n",
      "5531/5531 [==============================] - 2s 355us/sample - loss: 0.0238 - val_loss: 0.0192\n",
      "Epoch 36/40\n",
      "5531/5531 [==============================] - 2s 353us/sample - loss: 0.0231 - val_loss: 0.0200\n",
      "Epoch 37/40\n",
      "5531/5531 [==============================] - 2s 354us/sample - loss: 0.0225 - val_loss: 0.0183\n",
      "Epoch 38/40\n",
      "5531/5531 [==============================] - 2s 359us/sample - loss: 0.0221 - val_loss: 0.0321\n",
      "Epoch 39/40\n",
      "5531/5531 [==============================] - 2s 359us/sample - loss: 0.0224 - val_loss: 0.0191\n",
      "Epoch 40/40\n",
      "5531/5531 [==============================] - 2s 354us/sample - loss: 0.0215 - val_loss: 0.0211\n"
     ]
    }
   ],
   "source": [
    "History = model.fit([InLtrain,OutLtrain],Outtrain,epochs=epochs,batch_size=batch_size,validation_data=([InLtest,OutLtest],Outtest))"
   ]
  },
  {
   "cell_type": "code",
   "execution_count": 7,
   "metadata": {},
   "outputs": [
    {
     "data": {
      "image/png": "[encoded data removed]",
      "text/plain": [
       "<Figure size 432x288 with 1 Axes>"
      ]
     },
     "metadata": {
      "needs_background": "light"
     },
     "output_type": "display_data"
    }
   ],
   "source": [
    "# 绘制训练 & 验证的损失值\n",
    "plt.plot(History.history['loss'])\n",
    "\n",
    "plt.title('Model loss')\n",
    "plt.ylabel('Loss')\n",
    "plt.xlabel('Epoch')\n",
    "plt.legend(['Train'], loc='upper left')\n",
    "plt.show()"
   ]
  },
  {
   "cell_type": "code",
   "execution_count": 8,
   "metadata": {},
   "outputs": [
    {
     "name": "stdout",
     "output_type": "stream",
     "text": [
      "Loss: 0.02108723349856687\n"
     ]
    }
   ],
   "source": [
    "score = model.evaluate([InLtest,OutLtest],Outtest)\n",
    "print('Loss:', score)"
   ]
  },
  {
   "cell_type": "markdown",
   "metadata": {},
   "source": [
    "# 可视化"
   ]
  },
  {
   "cell_type": "code",
   "execution_count": 33,
   "metadata": {},
   "outputs": [
    {
     "data": {
      "image/png": "[encoded data removed]",
      "text/plain": [
       "<Figure size 432x288 with 1 Axes>"
      ]
     },
     "metadata": {
      "needs_background": "light"
     },
     "output_type": "display_data"
    }
   ],
   "source": [
    "i = 31\n",
    "\n",
    "vis1 = model.predict([[InLtest[i]], np.array([[1, 0, 0]])])\n",
    "vis2 = model.predict([[InLtest[i]], np.array([[0, 1, 0]])])\n",
    "vis3 = model.predict([[InLtest[i]], np.array([[0, 0, 1]])])\n",
    "\n",
    "avis1 = vis1[0].swapaxes(0, 1)\n",
    "avis2 = vis2[0].swapaxes(0, 1)\n",
    "avis3 = vis3[0].swapaxes(0, 1)\n",
    "aIntest = Intest[i].swapaxes(0, 1)\n",
    "aOuttest = Outtest[i].swapaxes(0, 1)\n",
    "\n",
    "plt.plot(aOuttest[1], aOuttest[0], lw=2, label=\"Outtest\")\n",
    "plt.scatter(avis1[1], avis1[0], lw=2, label=\"L\")\n",
    "plt.scatter(avis2[1], avis2[0], lw=2, label=\"K\")\n",
    "plt.scatter(avis3[1], avis3[0], lw=2, label=\"R\")\n",
    "plt.plot(aIntest[1], aIntest[0], lw=2, label=\"Intest\")\n",
    "\n",
    "plt.plot(np.linspace(0, 1, 2), [0.8, 0.8], lw=2, linestyle='--')\n",
    "plt.plot(np.linspace(0, 1, 2), [0.6, 0.6], lw=2, linestyle='--')\n",
    "plt.plot(np.linspace(0, 1, 2), [0.4, 0.4], lw=2, linestyle='--')\n",
    "plt.plot(np.linspace(0, 1, 2), [0.2, 0.2], lw=2, linestyle='--')\n",
    "\n",
    "plt.xlim(0, 1)\n",
    "plt.ylim(0, 1)\n",
    "plt.title('trajectory')\n",
    "plt.ylabel('horizontal')\n",
    "plt.xlabel('longitudinal')\n",
    "plt.legend()\n",
    "plt.show()"
   ]
  },
  {
   "cell_type": "code",
   "execution_count": null,
   "metadata": {},
   "outputs": [],
   "source": []
  }
 ],
 "metadata": {
  "kernelspec": {
   "display_name": "Python 3.6.10 64-bit ('py36': conda)",
   "language": "python",
   "name": "python361064bitpy36conda1b2e35c9346148d2a8b6ebb718535481"
  },
  "language_info": {
   "codemirror_mode": {
    "name": "ipython",
    "version": 3
   },
   "file_extension": ".py",
   "mimetype": "text/x-python",
   "name": "python",
   "nbconvert_exporter": "python",
   "pygments_lexer": "ipython3",
   "version": "3.6.10"
  },
  "toc": {
   "base_numbering": 1,
   "nav_menu": {},
   "number_sections": true,
   "sideBar": true,
   "skip_h1_title": false,
   "title_cell": "Table of Contents",
   "title_sidebar": "Contents",
   "toc_cell": false,
   "toc_position": {
    "height": "calc(100% - 180px)",
    "left": "10px",
    "top": "150px",
    "width": "258.6px"
   },
   "toc_section_display": true,
   "toc_window_display": true
  },
  "varInspector": {
   "cols": {
    "lenName": 16,
    "lenType": 16,
    "lenVar": 40
   },
   "kernels_config": {
    "python": {
     "delete_cmd_postfix": "",
     "delete_cmd_prefix": "del ",
     "library": "var_list.py",
     "varRefreshCmd": "print(var_dic_list())"
    },
    "r": {
     "delete_cmd_postfix": ") ",
     "delete_cmd_prefix": "rm(",
     "library": "var_list.r",
     "varRefreshCmd": "cat(var_dic_list()) "
    }
   },
   "types_to_exclude": [
    "module",
    "function",
    "builtin_function_or_method",
    "instance",
    "_Feature"
   ],
   "window_display": false
  }
 },
 "nbformat": 4,
 "nbformat_minor": 2
}
