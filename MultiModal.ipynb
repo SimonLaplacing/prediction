{
 "cells": [
  {
   "cell_type": "markdown",
   "metadata": {},
   "source": [
    "# 库导入"
   ]
  },
  {
   "cell_type": "code",
   "execution_count": 1,
   "metadata": {
    "ExecuteTime": {
     "end_time": "2021-04-18T02:23:48.857254Z",
     "start_time": "2021-04-18T02:23:45.922595Z"
    }
   },
   "outputs": [
    {
     "name": "stdout",
     "output_type": "stream",
     "text": [
      "1 Physical GPUs, 1 Logical GPUs\n"
     ]
    }
   ],
   "source": [
    "from tensorflow.keras.layers import *\n",
    "from tensorflow.keras.models import Model\n",
    "from tensorflow.keras import backend as K\n",
    "import tensorflow as tf\n",
    "import numpy as np\n",
    "from tensorflow.keras.layers import Input\n",
    "from tensorflow.keras.optimizers import Adam,RMSprop\n",
    "import matplotlib.pyplot as plt\n",
    "from tensorflow.keras.losses import mse\n",
    "from tensorflow.keras.utils import plot_model\n",
    "\n",
    "tf.compat.v1.disable_eager_execution()\n",
    "\n",
    "gpus = tf.config.experimental.list_physical_devices('GPU')\n",
    "if gpus:\n",
    "  try:\n",
    "    # Currently, memory growth needs to be the same across GPUs\n",
    "    for gpu in gpus:\n",
    "      tf.config.experimental.set_memory_growth(gpu, True)\n",
    "    logical_gpus = tf.config.experimental.list_logical_devices('GPU')\n",
    "    print(len(gpus), \"Physical GPUs,\", len(logical_gpus), \"Logical GPUs\")\n",
    "  except RuntimeError as e:\n",
    "    # Memory growth must be set before GPUs have been initialized\n",
    "    print(e)"
   ]
  },
  {
   "cell_type": "markdown",
   "metadata": {},
   "source": [
    "# 数据导入"
   ]
  },
  {
   "cell_type": "code",
   "execution_count": 2,
   "metadata": {
    "ExecuteTime": {
     "end_time": "2021-04-18T02:23:48.904415Z",
     "start_time": "2021-04-18T02:23:48.857254Z"
    }
   },
   "outputs": [
    {
     "name": "stdout",
     "output_type": "stream",
     "text": [
      "(3086, 10, 2) (3086, 3) (1325, 10, 2) (1325, 3)\n",
      "(2445, 10, 2) (2445, 3) (1047, 10, 2) (1047, 3)\n",
      "(2445, 10, 2) (2445, 3) (1047, 10, 2) (1047, 3)\n"
     ]
    }
   ],
   "source": [
    "style='Inc' # En状态量 or Inc变化量\n",
    "\n",
    "index80 = 1\n",
    "\n",
    "Intrain80 = np.load('data/%sIntrain%s.npy' % (style,index80))\n",
    "Outtrain80 = np.load('data/%sOuttrain%s.npy' % (style,index80))\n",
    "\n",
    "InLtrain80 = np.load('data/EnIntrain%s.npy' % index80)\n",
    "OutLtrain80 = np.load('data/EnOutLtrain%s.npy' % index80)\n",
    "\n",
    "Intest80 = np.load('data/%sIntest%s.npy' % (style,index80))\n",
    "Outtest80 = np.load('data/%sOuttest%s.npy' % (style,index80))\n",
    "\n",
    "InStest80 = np.load('data/EnIntest%s.npy' % index80)\n",
    "OutLtest80 = np.load('data/EnOutLtest%s.npy' % index80)\n",
    "OutStest80 = np.load('data/EnOuttest%s.npy' % index80)\n",
    "\n",
    "print(Intrain80.shape, OutLtrain80.shape, Outtest80.shape, OutLtest80.shape)\n",
    "\n",
    "index101 = 2\n",
    "\n",
    "Intrain101 = np.load('data/%sIntrain%s.npy' % (style,index101))\n",
    "Outtrain101 = np.load('data/%sOuttrain%s.npy' % (style,index101))\n",
    "\n",
    "InLtrain101 = np.load('data/EnIntrain%s.npy' % index101)\n",
    "OutLtrain101 = np.load('data/EnOutLtrain%s.npy' % index101)\n",
    "\n",
    "Intest101 = np.load('data/%sIntest%s.npy' % (style,index101))\n",
    "Outtest101 = np.load('data/%sOuttest%s.npy' % (style,index101))\n",
    "\n",
    "InStest101 = np.load('data/EnIntest%s.npy' % index101)\n",
    "OutLtest101 = np.load('data/EnOutLtest%s.npy' % index101)\n",
    "OutStest101 = np.load('data/EnOuttest%s.npy' % index101)\n",
    "\n",
    "print(Intrain101.shape, OutLtrain101.shape,\n",
    "      Outtest101.shape, OutLtest101.shape)\n",
    "\n",
    "\n",
    "Intrain = np.concatenate((Intrain80,Intrain101),axis=0)\n",
    "Outtrain = np.concatenate((Outtrain80,Outtrain101),axis=0)\n",
    "\n",
    "InLtrain = np.concatenate((InLtrain80,InLtrain101),axis=0)\n",
    "OutLtrain = np.concatenate((OutLtrain80,OutLtrain101),axis=0)\n",
    "\n",
    "Intest = np.concatenate((Intest80,Intest101),axis=0)\n",
    "Outtest = np.concatenate((Outtest80,Outtest101),axis=0)\n",
    "\n",
    "InStest = np.concatenate((InStest80,InStest101),axis=0)\n",
    "OutLtest = np.concatenate((OutLtest80,OutLtest101),axis=0)\n",
    "OutStest = np.concatenate((OutStest80,OutStest101),axis=0)\n",
    "\n",
    "# 使用的数据\n",
    "index=1 # 0:80;1:101;2:total\n",
    "if index == 0:\n",
    "    Intrain,Outtrain,InLtrain,OutLtrain,Intest,Outtest,InStest,OutLtest,OutStest = Intrain80,Outtrain80,InLtrain80,OutLtrain80,Intest80,Outtest80,InStest80,OutLtest80,OutStest80\n",
    "elif index == 1:\n",
    "    Intrain,Outtrain,InLtrain,OutLtrain,Intest,Outtest,InStest,OutLtest,OutStest = Intrain101,Outtrain101,InLtrain101,OutLtrain101,Intest101,Outtest101,InStest101,OutLtest101,OutStest101\n",
    "\n",
    "print(Intrain.shape, OutLtrain.shape, Outtest.shape, OutLtest.shape)"
   ]
  },
  {
   "cell_type": "markdown",
   "metadata": {},
   "source": [
    "# 参数设置"
   ]
  },
  {
   "cell_type": "code",
   "execution_count": 3,
   "metadata": {
    "ExecuteTime": {
     "end_time": "2021-04-18T02:23:48.920405Z",
     "start_time": "2021-04-18T02:23:48.906413Z"
    }
   },
   "outputs": [],
   "source": [
    "# 基本参数\n",
    "batch_size = 32\n",
    "epochs = 20\n",
    "latent_dim = 32  # LSTM 的单元个数\n",
    "num_classes = 3 # 类数\n",
    "encoder_length = InLtrain.shape[1]\n",
    "decoder_length = Outtrain.shape[1]\n",
    "num_encoder_tokens = InLtrain.shape[2]\n",
    "num_decoder_tokens = Outtrain.shape[2]\n",
    "mode = 1 # 1:CVAE1 2:CVAE2 3:CVAE3"
   ]
  },
  {
   "cell_type": "markdown",
   "metadata": {},
   "source": [
    "# 采样"
   ]
  },
  {
   "cell_type": "code",
   "execution_count": 4,
   "metadata": {
    "ExecuteTime": {
     "end_time": "2021-04-18T02:23:48.935395Z",
     "start_time": "2021-04-18T02:23:48.922404Z"
    }
   },
   "outputs": [],
   "source": [
    "def sampling(args):\n",
    "    z_mean, z_log_var = args\n",
    "    batch = K.shape(z_mean)[0]\n",
    "    length = K.shape(z_mean)[1]\n",
    "    dim = K.int_shape(z_mean)[2]\n",
    "    epsilon = K.random_normal(shape=(batch,length,dim))\n",
    "#     epsilon = K.random_normal(shape=(batch,dim))\n",
    "    return z_mean + K.exp(0.5 * z_log_var) * epsilon"
   ]
  },
  {
   "cell_type": "markdown",
   "metadata": {},
   "source": [
    "# CVAE1"
   ]
  },
  {
   "cell_type": "code",
   "execution_count": 5,
   "metadata": {
    "ExecuteTime": {
     "end_time": "2021-04-18T02:23:48.966375Z",
     "start_time": "2021-04-18T02:23:48.937392Z"
    }
   },
   "outputs": [
    {
     "name": "stdout",
     "output_type": "stream",
     "text": [
      "WARNING:tensorflow:Layer LSTM1 will not use cuDNN kernel since it doesn't meet the cuDNN kernel criteria. It will use generic GPU kernel as fallback when running on GPU\n",
      "WARNING:tensorflow:Layer LSTM2 will not use cuDNN kernel since it doesn't meet the cuDNN kernel criteria. It will use generic GPU kernel as fallback when running on GPU\n",
      "WARNING:tensorflow:Layer LSTM3 will not use cuDNN kernel since it doesn't meet the cuDNN kernel criteria. It will use generic GPU kernel as fallback when running on GPU\n"
     ]
    },
    {
     "data": {
      "image/png": "[encoded data removed]",
      "text/plain": [
       "<IPython.core.display.Image object>"
      ]
     },
     "metadata": {},
     "output_type": "display_data"
    }
   ],
   "source": [
    "if mode ==1:\n",
    "    # 定义编码器的输入\n",
    "    y = Input(shape=(num_classes,))  # 输入类别\n",
    "    yh = RepeatVector(encoder_length)(y)\n",
    "    yh = Dense(8,activation='relu')(yh)\n",
    "    yh = Dense(num_encoder_tokens, activation='relu',\n",
    "               name='dense_yh2')(yh)  # 这里就是直接构建每个类别的均值\n",
    "\n",
    "    encoder_inputs = Input(shape=(encoder_length, num_encoder_tokens))\n",
    "\n",
    "    # 编码器，要求其返回状态\n",
    "    encoder = LSTM(latent_dim, return_sequences=True,\n",
    "                   return_state=False, name='LSTM1')\n",
    "\n",
    "    # 调用编码器，得到编码器的输出，以及状态信息 state_h 和 state_c\n",
    "    encoder_outpus = encoder(encoder_inputs)\n",
    "    # encoder_outpus = RepeatVector(encoder_length)(encoder_outpus)\n",
    "\n",
    "    z_mean = Dense(num_encoder_tokens, name='z_mean1')(encoder_outpus)\n",
    "    # z_mean = Dense(num_encoder_tokens, name='z_mean2')(z_mean1)\n",
    "    z_log_var = Dense(num_encoder_tokens, name='z_log_var1')(encoder_outpus)\n",
    "    # z_log_var = Dense(num_encoder_tokens, name='z_log_var2')(z_log_var1)\n",
    "\n",
    "    # 采样\n",
    "    # z_mean = RepeatVector(encoder_length)(z_mean)\n",
    "    # z_log_var = RepeatVector(encoder_length)(z_log_var)\n",
    "\n",
    "    z = Lambda(sampling, name='z')([z_mean, z_log_var])\n",
    "    # print(z_mean.shape,z_log_var.shape)\n",
    "    # 控制标签\n",
    "    zy = tf.concat([z, yh], axis=-1)\n",
    "    # print(z.shape, yh.shape, zy.shape)\n",
    "\n",
    "\n",
    "    # 接下来建立解码器1，解码器将返回整个输出序列\n",
    "    decoder2 = LSTM(latent_dim, return_sequences=True, name='LSTM2')\n",
    "    label_decoder = LSTM(latent_dim, return_sequences=False, name='LSTM3')\n",
    "\n",
    "    # 将编码器输出的状态作为初始解码器的初始状态\n",
    "    decoder_outputs2 = decoder2(zy)\n",
    "    label_outputs = label_decoder(zy)\n",
    "\n",
    "    # 添加全连接层\n",
    "    decoder_dense1 = Dense(8, activation='relu', name='dense1')\n",
    "    decoder_dense2 = Dense(num_encoder_tokens, activation='relu', name='dense2')\n",
    "    decoder_outputs2 = decoder_dense2(decoder_dense1(decoder_outputs2))\n",
    "    \n",
    "    label_dense1 = Dense(num_classes, activation='softmax', name='softmax')\n",
    "    label_outputs2 = label_dense1(label_outputs)\n",
    "\n",
    "\n",
    "    # 定义整个模型\n",
    "    model = Model([encoder_inputs, y], [decoder_outputs2,label_outputs2])\n",
    "\n",
    "    # 编译模型\n",
    "    # xent_loss是重构loss，kl_loss是KL loss,修改K.square(z_mean)为K.square(z_mean - yh)，也就是让隐变量向类内均值看齐\n",
    "\n",
    "\n",
    "    def VAE_loss(y_true, y_predicted):\n",
    "        reconstruction_loss1 = K.sum(mse(y_true, y_predicted), axis=-1)\n",
    "        kl_loss = - 0.5 * K.sum(1 + z_log_var - K.square(z_mean - yh) - K.exp(z_log_var), axis=-1)\n",
    "        return 0.8*K.mean(reconstruction_loss1) + 1.2*K.mean(kl_loss)\n",
    "\n",
    "\n",
    "    model.compile(loss=[VAE_loss,'categorical_crossentropy'], optimizer='Adam', loss_weights=[1,1])\n",
    "\n",
    "#     print(model.summary())\n",
    "    display(plot_model(model))"
   ]
  },
  {
   "cell_type": "markdown",
   "metadata": {},
   "source": [
    "# CVAE2"
   ]
  },
  {
   "cell_type": "code",
   "execution_count": 6,
   "metadata": {
    "ExecuteTime": {
     "end_time": "2021-04-18T02:23:48.998356Z",
     "start_time": "2021-04-18T02:23:48.968374Z"
    }
   },
   "outputs": [],
   "source": [
    "if mode == 2:\n",
    "    # 定义编码器的输入\n",
    "    y = Input(shape=(num_classes,))  # 输入类别\n",
    "    yh = RepeatVector(encoder_length)(y)\n",
    "    yh = Dense(8,activation='relu')(yh)\n",
    "    yh = Dense(num_encoder_tokens, activation='relu',\n",
    "               name='dense_yh2')(yh)  # 这里就是直接构建每个类别的均值\n",
    "\n",
    "    encoder_inputs = Input(shape=(encoder_length, num_encoder_tokens))\n",
    "\n",
    "    # 编码器，要求其返回状态\n",
    "    encoder = LSTM(latent_dim, return_sequences=True,\n",
    "                   return_state=False, name='LSTM1')\n",
    "\n",
    "    # 调用编码器，得到编码器的输出，以及状态信息 state_h 和 state_c\n",
    "    encoder_outpus = encoder(encoder_inputs)\n",
    "    # encoder_outpus = RepeatVector(encoder_length)(encoder_outpus)\n",
    "\n",
    "    z_mean1 = Dense(8, name='z_mean1')(encoder_outpus)\n",
    "    z_mean = Dense(num_encoder_tokens, name='z_mean2')(z_mean1)\n",
    "    z_log_var1 = Dense(8, name='z_log_var1')(encoder_outpus)\n",
    "    z_log_var = Dense(num_encoder_tokens, name='z_log_var2')(z_log_var1)\n",
    "\n",
    "    # 采样\n",
    "    # z_mean = RepeatVector(encoder_length)(z_mean)\n",
    "    # z_log_var = RepeatVector(encoder_length)(z_log_var)\n",
    "\n",
    "    z = Lambda(sampling, name='z')([z_mean, z_log_var])\n",
    "    # print(z_mean.shape,z_log_var.shape)\n",
    "    # 控制标签\n",
    "    zy = tf.concat([z, yh], axis=-1)\n",
    "    # print(z.shape, yh.shape, zy.shape)\n",
    "\n",
    "\n",
    "    # 接下来建立解码器1，解码器将返回整个输出序列\n",
    "    encoder2 = LSTM(latent_dim, return_sequences=True, name='LSTM2')\n",
    "\n",
    "    # 将编码器输出的状态作为初始解码器的初始状态\n",
    "    encoder_outputs2 = encoder2(zy)\n",
    "\n",
    "    # 添加全连接层\n",
    "    encoder_dense1 = Dense(8, activation='relu', name='dense1')\n",
    "    encoder_dense2 = Dense(num_encoder_tokens, activation='relu', name='dense2')\n",
    "    encoder_outputs2 = encoder_dense2(encoder_dense1(encoder_outputs2))\n",
    "\n",
    "    # 接下来建立解码器2，解码器将返回整个输出序列\n",
    "    decoder_lstm = LSTM(latent_dim, return_sequences=True, name='LSTM3')\n",
    "    label_lstm = LSTM(latent_dim, return_sequences=False, name='LSTM4')\n",
    "    # 将编码器输出的状态作为初始解码器的初始状态\n",
    "    decoder_outputs1 = decoder_lstm(encoder_outputs2)\n",
    "    label_outputs1 = label_lstm(encoder_outputs2)\n",
    "\n",
    "    # 添加全连接层\n",
    "    decoder_dense1 = Dense(8, activation='relu', name='dense3')\n",
    "    decoder_dense2 = Dense(num_encoder_tokens, activation='relu', name='dense4')\n",
    "    decoder_outputs = decoder_dense2(decoder_dense1(decoder_outputs1))\n",
    "    label_dense1 = Dense(num_classes,activation='softmax',name='softmax')\n",
    "    label_outputs = label_dense1(label_outputs1)\n",
    "\n",
    "    # 定义整个模型\n",
    "    model = Model([encoder_inputs, y], [encoder_outputs2,decoder_outputs,label_outputs])\n",
    "\n",
    "    # 编译模型\n",
    "    # xent_loss是重构loss，kl_loss是KL loss,修改K.square(z_mean)为K.square(z_mean - yh)，也就是让隐变量向类内均值看齐\n",
    "\n",
    "\n",
    "    def VAE_loss(y_true, y_predicted):\n",
    "        reconstruction_loss1 = K.sum(mse(y_true, y_predicted), axis=-1)\n",
    "        kl_loss = - 0.5 * K.sum(1 + z_log_var - K.square(z_mean - yh) - K.exp(z_log_var), axis=-1)\n",
    "        return 0.8*K.mean(reconstruction_loss1) + 1.2*K.mean(kl_loss)\n",
    "\n",
    "\n",
    "    model.compile(loss=[VAE_loss,'mse','categorical_crossentropy'], optimizer='Adam', loss_weights=[1,1,1])\n",
    "\n",
    "    # print(model.summary())\n",
    "    display(plot_model(model))"
   ]
  },
  {
   "cell_type": "markdown",
   "metadata": {},
   "source": [
    "# CVAE3"
   ]
  },
  {
   "cell_type": "code",
   "execution_count": 7,
   "metadata": {
    "ExecuteTime": {
     "end_time": "2021-04-18T02:23:50.047282Z",
     "start_time": "2021-04-18T02:23:49.002354Z"
    }
   },
   "outputs": [],
   "source": [
    "if mode == 3:\n",
    "    # 定义编码器的输入\n",
    "    y = Input(shape=(num_classes,))  # 输入类别\n",
    "    yh = RepeatVector(encoder_length)(y)\n",
    "    yh = Dense(8,activation='relu')(yh)\n",
    "    yh = Dense(num_encoder_tokens, activation='relu',\n",
    "               name='dense_yh2')(yh)  # 直接构建每个类别的均值\n",
    "\n",
    "    encoder_inputs = Input(shape=(encoder_length, num_encoder_tokens))\n",
    "\n",
    "    # 编码器\n",
    "    encoder = LSTM(latent_dim, return_sequences=True,\n",
    "                   return_state=False, name='LSTM1')\n",
    "\n",
    "    encoder_outputs1 = encoder(encoder_inputs)\n",
    "    # encoder_outpus = RepeatVector(encoder_length)(encoder_outpus)\n",
    "    \n",
    "    # 接下来建立解码器1，解码器将返回整个输出序列\n",
    "    encoder_lstm = LSTM(latent_dim, return_sequences=True, name='LSTM2')\n",
    "    encoder_outputs1 = encoder_lstm(encoder_outputs1)\n",
    "\n",
    "    # 添加全连接层\n",
    "    encoder_dense1 = Dense(8, activation='relu', name='dense1')\n",
    "    encoder_dense2 = Dense(num_encoder_tokens, activation='relu', name='dense2')\n",
    "    encoder_outputs2 = encoder_dense2(encoder_dense1(encoder_outputs1))\n",
    "\n",
    "    z_mean1 = Dense(8, name='z_mean1')(encoder_outputs2)\n",
    "    z_mean = Dense(num_encoder_tokens, name='z_mean2')(z_mean1)\n",
    "    z_log_var1 = Dense(8, name='z_log_var1')(encoder_outputs2)\n",
    "    z_log_var = Dense(num_encoder_tokens, name='z_log_var2')(z_log_var1)\n",
    "\n",
    "    # 采样\n",
    "    # z_mean = RepeatVector(encoder_length)(z_mean)\n",
    "    # z_log_var = RepeatVector(encoder_length)(z_log_var)\n",
    "\n",
    "    z = Lambda(sampling, name='z')([z_mean, z_log_var])\n",
    "    # print(z_mean.shape,z_log_var.shape)\n",
    "    # 控制标签\n",
    "    zy = tf.concat([z, yh], axis=-1)\n",
    "    # print(z.shape, yh.shape, zy.shape)\n",
    "\n",
    "    # 接下来建立解码器2，解码器将返回整个输出序列\n",
    "    decoder = LSTM(latent_dim, return_sequences=True, name='LSTM3')\n",
    "    decoder_outputs = decoder(zy)\n",
    "    label_decoder = LSTM(latent_dim, return_sequences=False, name='LSTM4')\n",
    "    label_outputs = label_decoder(zy)\n",
    "\n",
    "    # 添加全连接层\n",
    "    decoder_dense1 = Dense(8, activation='relu', name='dense3')\n",
    "    decoder_dense2 = Dense(num_encoder_tokens, activation='relu', name='dense4')\n",
    "    decoder_outputs2 = decoder_dense2(decoder_dense1(decoder_outputs))\n",
    "    \n",
    "    label_dense1 = Dense(num_classes, activation='softmax', name='softmax')\n",
    "    label_outputs2 = label_dense1(label_outputs)\n",
    "\n",
    "    # 定义整个模型\n",
    "    model = Model([encoder_inputs, y], [encoder_outputs2,decoder_outputs2,label_outputs2])\n",
    "\n",
    "    # 编译模型\n",
    "    # xent_loss是重构loss，kl_loss是KL loss,修改K.square(z_mean)为K.square(z_mean - yh)，也就是让隐变量向类内均值看齐\n",
    "\n",
    "\n",
    "    def VAE_loss(y_true, y_predicted):\n",
    "        reconstruction_loss1 = K.sum(mse(y_true, y_predicted), axis=-1)\n",
    "        kl_loss = - 0.5 * K.sum(1 + z_log_var - K.square(z_mean - yh) - K.exp(z_log_var), axis=-1)\n",
    "        return 0.8*K.mean(reconstruction_loss1) + 1.2*K.mean(kl_loss)\n",
    "\n",
    "\n",
    "    model.compile(loss=['mse',VAE_loss,'categorical_crossentropy'], optimizer='Adam', loss_weights=[2,1,1])\n",
    "\n",
    "    # print(model.summary())\n",
    "    display(plot_model(model))"
   ]
  },
  {
   "cell_type": "markdown",
   "metadata": {},
   "source": [
    "# 模型训练与结果分析"
   ]
  },
  {
   "cell_type": "code",
   "execution_count": 8,
   "metadata": {
    "ExecuteTime": {
     "end_time": "2021-04-18T02:24:12.160434Z",
     "start_time": "2021-04-18T02:23:50.049279Z"
    }
   },
   "outputs": [
    {
     "name": "stdout",
     "output_type": "stream",
     "text": [
      "Train on 2445 samples\n",
      "Epoch 1/20\n",
      "2445/2445 [==============================] - 1s 522us/sample - loss: 1.6710 - dense2_loss: 0.7978 - softmax_loss: 0.8678\n",
      "Epoch 2/20\n",
      "2445/2445 [==============================] - 1s 531us/sample - loss: 0.4242 - dense2_loss: 0.2642 - softmax_loss: 0.1582\n",
      "Epoch 3/20\n",
      "2445/2445 [==============================] - 1s 516us/sample - loss: 0.2306 - dense2_loss: 0.2137 - softmax_loss: 0.0168\n",
      "Epoch 4/20\n",
      "2445/2445 [==============================] - 1s 510us/sample - loss: 0.2029 - dense2_loss: 0.1950 - softmax_loss: 0.0076 - loss: 0.2138 - dense2_loss: 0\n",
      "Epoch 5/20\n",
      "2445/2445 [==============================] - 1s 531us/sample - loss: 0.1973 - dense2_loss: 0.1900 - softmax_loss: 0.0076\n",
      "Epoch 6/20\n",
      "2445/2445 [==============================] - 1s 528us/sample - loss: 0.1866 - dense2_loss: 0.1837 - softmax_loss: 0.0030\n",
      "Epoch 7/20\n",
      "2445/2445 [==============================] - 1s 517us/sample - loss: 0.1776 - dense2_loss: 0.1756 - softmax_loss: 0.0022\n",
      "Epoch 8/20\n",
      "2445/2445 [==============================] - 1s 513us/sample - loss: 0.1708 - dense2_loss: 0.1687 - softmax_loss: 0.0018\n",
      "Epoch 9/20\n",
      "2445/2445 [==============================] - 1s 554us/sample - loss: 0.1627 - dense2_loss: 0.1609 - softmax_loss: 0.0014\n",
      "Epoch 10/20\n",
      "2445/2445 [==============================] - 1s 519us/sample - loss: 0.1541 - dense2_loss: 0.1533 - softmax_loss: 0.0012 - loss: 0.1535 - dense2_loss: 0.1523 - softmax_loss: 0.\n",
      "Epoch 11/20\n",
      "2445/2445 [==============================] - 1s 520us/sample - loss: 0.1449 - dense2_loss: 0.1441 - softmax_loss: 9.6411e-04\n",
      "Epoch 12/20\n",
      "2445/2445 [==============================] - 1s 530us/sample - loss: 0.1374 - dense2_loss: 0.1362 - softmax_loss: 7.5245e-04\n",
      "Epoch 13/20\n",
      "2445/2445 [==============================] - 1s 531us/sample - loss: 0.1336 - dense2_loss: 0.1335 - softmax_loss: 7.1366e-04\n",
      "Epoch 14/20\n",
      "2445/2445 [==============================] - 1s 530us/sample - loss: 0.1306 - dense2_loss: 0.1298 - softmax_loss: 5.8738e-04\n",
      "Epoch 15/20\n",
      "2445/2445 [==============================] - 1s 546us/sample - loss: 0.1291 - dense2_loss: 0.1288 - softmax_loss: 5.1908e-04\n",
      "Epoch 16/20\n",
      "2445/2445 [==============================] - 1s 546us/sample - loss: 0.1286 - dense2_loss: 0.1279 - softmax_loss: 4.7371e-04\n",
      "Epoch 17/20\n",
      "2445/2445 [==============================] - 1s 543us/sample - loss: 0.1279 - dense2_loss: 0.1275 - softmax_loss: 4.2993e-04\n",
      "Epoch 18/20\n",
      "2445/2445 [==============================] - 1s 546us/sample - loss: 0.1579 - dense2_loss: 0.1268 - softmax_loss: 0.0308\n",
      "Epoch 19/20\n",
      "2445/2445 [==============================] - 1s 581us/sample - loss: 0.1887 - dense2_loss: 0.1453 - softmax_loss: 0.0440\n",
      "Epoch 20/20\n",
      "2445/2445 [==============================] - 1s 536us/sample - loss: 0.1371 - dense2_loss: 0.1368 - softmax_loss: 8.1859e-04\n"
     ]
    }
   ],
   "source": [
    "if mode ==1:\n",
    "    History = model.fit([Intrain,OutLtrain],[Outtrain,OutLtrain],epochs=epochs,batch_size=batch_size)\n",
    "if mode ==2:\n",
    "    History = model.fit([Intrain,OutLtrain],[Intrain,Outtrain,OutLtrain],epochs=epochs,batch_size=batch_size)\n",
    "if mode ==3:\n",
    "    History = model.fit([Intrain,OutLtrain],[Outtrain,Outtrain,OutLtrain],epochs=epochs,batch_size=batch_size)"
   ]
  },
  {
   "cell_type": "code",
   "execution_count": 9,
   "metadata": {
    "ExecuteTime": {
     "end_time": "2021-04-18T02:24:12.335332Z",
     "start_time": "2021-04-18T02:24:12.162436Z"
    }
   },
   "outputs": [
    {
     "data": {
      "image/png": "[encoded data removed]",
      "text/plain": [
       "<Figure size 432x288 with 1 Axes>"
      ]
     },
     "metadata": {
      "needs_background": "light"
     },
     "output_type": "display_data"
    }
   ],
   "source": [
    "# 绘制训练 & 验证的损失值\n",
    "plt.plot(History.history['loss'])\n",
    "\n",
    "plt.title('Model loss')\n",
    "plt.ylabel('Loss')\n",
    "plt.xlabel('Epoch')\n",
    "plt.legend(['Train'], loc='upper left')\n",
    "plt.show()"
   ]
  },
  {
   "cell_type": "code",
   "execution_count": 10,
   "metadata": {
    "ExecuteTime": {
     "end_time": "2021-04-18T02:24:12.860538Z",
     "start_time": "2021-04-18T02:24:12.337331Z"
    }
   },
   "outputs": [
    {
     "name": "stdout",
     "output_type": "stream",
     "text": [
      "WARNING:tensorflow:From D:\\Anaconda3\\envs\\py36\\lib\\site-packages\\tensorflow\\python\\keras\\engine\\training_v1.py:2048: Model.state_updates (from tensorflow.python.keras.engine.training) is deprecated and will be removed in a future version.\n",
      "Instructions for updating:\n",
      "This property should not be used in TensorFlow 2.0, as updates are applied automatically.\n",
      "Loss: [0.163176410163485, 0.16227107, 0.0009325789]\n"
     ]
    }
   ],
   "source": [
    "if mode==1:\n",
    "    score = model.evaluate([Intest,OutLtest],[Outtest,OutLtest])\n",
    "    print('Loss:', score)\n",
    "if mode==2:\n",
    "    score = model.evaluate([Intest,OutLtest],[Intest,Outtest,OutLtest])\n",
    "    print('Loss:', score)\n",
    "if mode==3:\n",
    "    score = model.evaluate([Intest,OutLtest],[Outtest,Outtest,OutLtest])\n",
    "    print('Loss:', score)"
   ]
  },
  {
   "cell_type": "markdown",
   "metadata": {},
   "source": [
    "# 可视化"
   ]
  },
  {
   "cell_type": "code",
   "execution_count": 11,
   "metadata": {},
   "outputs": [],
   "source": [
    "# 可视化参数设置\n",
    "FDE1,FDE3,FDE5 = [],[],[]\n",
    "ADE1,ADE3,ADE5 = [],[],[]\n",
    "i=28 # 可视化的样本"
   ]
  },
  {
   "cell_type": "code",
   "execution_count": 12,
   "metadata": {
    "ExecuteTime": {
     "end_time": "2021-04-18T02:24:12.891863Z",
     "start_time": "2021-04-18T02:24:12.862538Z"
    }
   },
   "outputs": [],
   "source": [
    "if style == 'En':\n",
    "    if mode == 2 or 3:\n",
    "        vis1,_,act1 = model.predict([[Intest[i]], np.array([[1, 0, 0]])])\n",
    "        vis2,_,act2 = model.predict([[Intest[i]], np.array([[0, 1, 0]])])\n",
    "        vis3,_,act3 = model.predict([[Intest[i]], np.array([[0, 0, 1]])])\n",
    "    if mode == 1:\n",
    "        vis1,act1 = model.predict([[Intest[i]], np.array([[1, 0, 0]])])\n",
    "        vis2,act2 = model.predict([[Intest[i]], np.array([[0, 1, 0]])])\n",
    "        vis3,act3 = model.predict([[Intest[i]], np.array([[0, 0, 1]])])\n",
    "        \n",
    "    print(act1,act2,act3)\n",
    "\n",
    "    avis1 = vis1[0].swapaxes(0, 1)\n",
    "    avis2 = vis2[0].swapaxes(0, 1)\n",
    "    avis3 = vis3[0].swapaxes(0, 1)\n",
    "    aIntest = Intest101[i].swapaxes(0, 1)\n",
    "    aOuttest = Outtest101[i].swapaxes(0, 1)\n",
    "\n",
    "    plt.plot(aOuttest[1], aOuttest[0], lw=2, label=\"Outtest\")\n",
    "    plt.scatter(avis1[1], avis1[0], lw=2, label=\"Left\")\n",
    "    plt.scatter(avis2[1], avis2[0], lw=2, label=\"Keep\")\n",
    "    plt.scatter(avis3[1], avis3[0], lw=2, label=\"Right\")\n",
    "    plt.plot(aIntest[1], aIntest[0], lw=2, label=\"Intest\")\n",
    "\n",
    "    plt.plot(np.linspace(0, 1, 2), [0.8, 0.8], lw=2, linestyle='--')\n",
    "    plt.plot(np.linspace(0, 1, 2), [0.6, 0.6], lw=2, linestyle='--')\n",
    "    plt.plot(np.linspace(0, 1, 2), [0.4, 0.4], lw=2, linestyle='--')\n",
    "    plt.plot(np.linspace(0, 1, 2), [0.2, 0.2], lw=2, linestyle='--')\n",
    "\n",
    "    plt.xlim(0, 1)\n",
    "    plt.ylim(0, 1)\n",
    "    plt.title('trajectory')\n",
    "    plt.ylabel('horizontal')\n",
    "    plt.xlabel('longitudinal')\n",
    "    plt.legend()\n",
    "    plt.show()"
   ]
  },
  {
   "cell_type": "code",
   "execution_count": 13,
   "metadata": {},
   "outputs": [
    {
     "name": "stdout",
     "output_type": "stream",
     "text": [
      "[[0.99180686 0.0024105  0.00578269]] [[2.5154841e-05 9.9957722e-01 3.9760678e-04]] [[4.3538224e-05 1.5977297e-04 9.9979669e-01]]\n"
     ]
    },
    {
     "data": {
      "image/png": "[encoded data removed]",
      "text/plain": [
       "<Figure size 432x288 with 1 Axes>"
      ]
     },
     "metadata": {
      "needs_background": "light"
     },
     "output_type": "display_data"
    },
    {
     "name": "stdout",
     "output_type": "stream",
     "text": [
      "[ 0.04226811  1.14877622  1.84511124  3.20490708  4.86937317  6.45119767\n",
      "  8.28492228 10.15080593 11.94246463 14.25806389]\n",
      "1s error: 1.148776m; 3s error: 6.451198m; 5s error: 14.258064m;\n",
      "1s error: 0.042268m; 3s error: 2.222087m; 5s error: 5.326647m;\n"
     ]
    }
   ],
   "source": [
    "if style == 'Inc':    \n",
    "    if mode == 2 or mode == 3:\n",
    "        vis1,_,act1 = model.predict([[Intest[i]], np.array([[1, 0, 0]])])\n",
    "        vis2,_,act2 = model.predict([[Intest[i]], np.array([[0, 1, 0]])])\n",
    "        vis3,_,act3 = model.predict([[Intest[i]], np.array([[0, 0, 1]])])\n",
    "    elif mode == 1:\n",
    "        vis1,act1 = model.predict([[Intest[i]], np.array([[1, 0, 0]])])\n",
    "        vis2,act2 = model.predict([[Intest[i]], np.array([[0, 1, 0]])])\n",
    "        vis3,act3 = model.predict([[Intest[i]], np.array([[0, 0, 1]])])\n",
    "\n",
    "    print(act1,act2,act3)\n",
    "    # 逆归一化\n",
    "    if index ==0:\n",
    "        minx,miny,maxx,maxy = -0.08069654511150287,0.0,0.05337498582371923,0.0901874766834021\n",
    "    if index ==1:\n",
    "        minx,miny,maxx,maxy = -0.05825761624799569,0.0,0.05758570665037799,0.059151017599056055\n",
    "    ir_vis1 = vis1[0] * np.array([maxx-minx,maxy-miny]) + np.array([minx,miny]) \n",
    "    ir_vis2 = vis2[0] * np.array([maxx-minx,maxy-miny]) + np.array([minx,miny])\n",
    "    ir_vis3 = vis3[0] * np.array([maxx-minx,maxy-miny]) + np.array([minx,miny])\n",
    "#     print(ir_vis1,'\\n\\n',ir_vis2,'\\n\\n',ir_vis3)\n",
    "    # 逆增量化\n",
    "    for j in range(Intrain.shape[1]):\n",
    "        ir_vis1[j] += OutStest[i][j] if j==0 else ir_vis1[j-1]\n",
    "        ir_vis2[j] += OutStest[i][j] if j==0 else ir_vis2[j-1]\n",
    "        ir_vis3[j] += OutStest[i][j] if j==0 else ir_vis3[j-1]\n",
    "\n",
    "    avis1 = ir_vis1.swapaxes(0, 1)\n",
    "    avis2 = ir_vis2.swapaxes(0, 1)\n",
    "    avis3 = ir_vis3.swapaxes(0, 1)\n",
    "    aIntest = InStest[i].swapaxes(0, 1)\n",
    "    aOuttest = OutStest[i].swapaxes(0, 1)\n",
    "\n",
    "    plt.plot(aOuttest[1], aOuttest[0], lw=2, label=\"Outtest\")\n",
    "    plt.scatter(avis1[1], avis1[0], lw=2, label=\"Left\")\n",
    "    plt.scatter(avis2[1], avis2[0], lw=2, label=\"Keep\")\n",
    "    plt.scatter(avis3[1], avis3[0], lw=2, label=\"Right\")\n",
    "    plt.plot(aIntest[1], aIntest[0], lw=2, label=\"Intest\")\n",
    "\n",
    "    plt.plot(np.linspace(0, 1, 2), [0.8, 0.8], lw=2, linestyle='--')\n",
    "    plt.plot(np.linspace(0, 1, 2), [0.6, 0.6], lw=2, linestyle='--')\n",
    "    plt.plot(np.linspace(0, 1, 2), [0.4, 0.4], lw=2, linestyle='--')\n",
    "    plt.plot(np.linspace(0, 1, 2), [0.2, 0.2], lw=2, linestyle='--')\n",
    "\n",
    "    plt.xlim(0, 1)\n",
    "    plt.ylim(0, 1)\n",
    "    plt.title('trajectory')\n",
    "    plt.ylabel('horizontal')\n",
    "    plt.xlabel('longitudinal')\n",
    "    plt.legend()\n",
    "    plt.show()\n",
    "\n",
    "    if index == 0:\n",
    "        minx,maxx,miny,maxy = 0.003,96.996, 0.0, 444.962\n",
    "    elif index == 1:\n",
    "        minx,maxx,miny,maxy = 3.598, 69.083, 1584.308, 2235.252\n",
    "    ratio = 0.3048\n",
    "\n",
    "    # 再逆归一化，以此单位米化\n",
    "    if OutLtest[i][0]==1:\n",
    "        ir_vis = ir_vis1\n",
    "    if OutLtest[i][1]==1:\n",
    "        ir_vis = ir_vis2\n",
    "    if OutLtest[i][2]==1:\n",
    "        ir_vis = ir_vis3\n",
    "\n",
    "    irir_vis = (ir_vis * np.array([maxx-minx,maxy-miny]) + np.array([minx,miny])) * ratio\n",
    "    ir_OutStest = (OutStest[i] * np.array([maxx-minx,maxy-miny]) + np.array([minx,miny])) * ratio\n",
    "    l1 = np.abs(irir_vis - ir_OutStest)\n",
    "#     FDE = np.power((np.power(l1[...,0],2)+np.power(l1[...,1],2)),0.5)\n",
    "    FDE = ((l1[...,0])**2 + (l1[...,1])**2)**0.5\n",
    "    print(FDE)\n",
    "    print('1s error: %fm; 3s error: %fm; 5s error: %fm;'%(FDE[1],FDE[5],FDE[-1]))\n",
    "    print('1s error: %fm; 3s error: %fm; 5s error: %fm;'%(np.mean(FDE[0:1]),np.mean(FDE[0:5]),np.mean(FDE[0:-1])))"
   ]
  },
  {
   "cell_type": "markdown",
   "metadata": {},
   "source": [
    "# 误差分析"
   ]
  },
  {
   "cell_type": "code",
   "execution_count": 14,
   "metadata": {
    "ExecuteTime": {
     "end_time": "2021-04-18T02:24:25.891837Z",
     "start_time": "2021-04-18T02:24:12.893866Z"
    }
   },
   "outputs": [],
   "source": [
    "for i in range(Intest.shape[0]):\n",
    "    if style == 'Inc':    \n",
    "        if mode == 2 or mode == 3:\n",
    "            vis1,_,act1 = model.predict([[Intest[i]], np.array([[1, 0, 0]])])\n",
    "            vis2,_,act2 = model.predict([[Intest[i]], np.array([[0, 1, 0]])])\n",
    "            vis3,_,act3 = model.predict([[Intest[i]], np.array([[0, 0, 1]])])\n",
    "        elif mode == 1:\n",
    "            vis1,act1 = model.predict([[Intest[i]], np.array([[1, 0, 0]])])\n",
    "            vis2,act2 = model.predict([[Intest[i]], np.array([[0, 1, 0]])])\n",
    "            vis3,act3 = model.predict([[Intest[i]], np.array([[0, 0, 1]])])\n",
    "\n",
    "#         print(act1,act2,act3)\n",
    "        # 逆归一化\n",
    "        if index ==0:\n",
    "            minx,miny,maxx,maxy = -0.08069654511150287,0.0,0.05337498582371923,0.0901874766834021\n",
    "        if index ==1:\n",
    "            minx,miny,maxx,maxy = -0.05825761624799569,0.0,0.05758570665037799,0.059151017599056055\n",
    "        ir_vis1 = vis1[0] * np.array([maxx-minx,maxy-miny]) + np.array([minx,miny]) \n",
    "        ir_vis2 = vis2[0] * np.array([maxx-minx,maxy-miny]) + np.array([minx,miny])\n",
    "        ir_vis3 = vis3[0] * np.array([maxx-minx,maxy-miny]) + np.array([minx,miny])\n",
    "    #     print(ir_vis1,'\\n\\n',ir_vis2,'\\n\\n',ir_vis3)\n",
    "        # 逆增量化\n",
    "        for j in range(Intrain.shape[1]):\n",
    "            ir_vis1[j] += OutStest[i][j] if j==0 else ir_vis1[j-1]\n",
    "            ir_vis2[j] += OutStest[i][j] if j==0 else ir_vis2[j-1]\n",
    "            ir_vis3[j] += OutStest[i][j] if j==0 else ir_vis3[j-1]\n",
    "\n",
    "        avis1 = ir_vis1.swapaxes(0, 1)\n",
    "        avis2 = ir_vis2.swapaxes(0, 1)\n",
    "        avis3 = ir_vis3.swapaxes(0, 1)\n",
    "        aIntest = InStest[i].swapaxes(0, 1)\n",
    "        aOuttest = OutStest[i].swapaxes(0, 1)\n",
    "\n",
    "#         plt.plot(aOuttest[1], aOuttest[0], lw=2, label=\"Outtest\")\n",
    "#         plt.scatter(avis1[1], avis1[0], lw=2, label=\"Left\")\n",
    "#         plt.scatter(avis2[1], avis2[0], lw=2, label=\"Keep\")\n",
    "#         plt.scatter(avis3[1], avis3[0], lw=2, label=\"Right\")\n",
    "#         plt.plot(aIntest[1], aIntest[0], lw=2, label=\"Intest\")\n",
    "\n",
    "#         plt.plot(np.linspace(0, 1, 2), [0.8, 0.8], lw=2, linestyle='--')\n",
    "#         plt.plot(np.linspace(0, 1, 2), [0.6, 0.6], lw=2, linestyle='--')\n",
    "#         plt.plot(np.linspace(0, 1, 2), [0.4, 0.4], lw=2, linestyle='--')\n",
    "#         plt.plot(np.linspace(0, 1, 2), [0.2, 0.2], lw=2, linestyle='--')\n",
    "\n",
    "#         plt.xlim(0, 1)\n",
    "#         plt.ylim(0, 1)\n",
    "#         plt.title('trajectory')\n",
    "#         plt.ylabel('horizontal')\n",
    "#         plt.xlabel('longitudinal')\n",
    "#         plt.legend()\n",
    "#         plt.show()\n",
    "\n",
    "        if index == 0:\n",
    "            minx,maxx,miny,maxy = 0.003,96.996, 0.0, 444.962\n",
    "        elif index == 1:\n",
    "            minx,maxx,miny,maxy = 3.598, 69.083, 1584.308, 2235.252\n",
    "        ratio = 0.3048\n",
    "\n",
    "        # 再逆归一化，以此单位米化\n",
    "        if OutLtest[i][0]==1:\n",
    "            ir_vis = ir_vis1\n",
    "        if OutLtest[i][1]==1:\n",
    "            ir_vis = ir_vis2\n",
    "        if OutLtest[i][2]==1:\n",
    "            ir_vis = ir_vis3\n",
    "\n",
    "        irir_vis = (ir_vis * np.array([maxx-minx,maxy-miny]) + np.array([minx,miny])) * ratio\n",
    "        ir_OutStest = (OutStest[i] * np.array([maxx-minx,maxy-miny]) + np.array([minx,miny])) * ratio\n",
    "        l1 = np.abs(irir_vis - ir_OutStest)\n",
    "        FDE = np.power((np.power(l1[...,0],2)+np.power(l1[...,1],2)),0.5)\n",
    "        FDE1.append(FDE[1])\n",
    "        FDE3.append(FDE[5])\n",
    "        FDE5.append(FDE[-1])\n",
    "        ADE1.append(np.mean(FDE[0:1]))\n",
    "        ADE3.append(np.mean(FDE[0:5]))\n",
    "        ADE5.append(np.mean(FDE[0:-1]))\n",
    "#         print(FDE)\n",
    "#         print('1s error: %fm; 3s error: %fm; 5s error: %fm;'%(FDE[1],FDE[5],FDE[-1]))\n",
    "#         print('1s error: %fm; 3s error: %fm; 5s error: %fm;'%(np.mean(FDE[0:1]),np.mean(FDE[0:5]),np.mean(FDE[0:-1])))"
   ]
  },
  {
   "cell_type": "code",
   "execution_count": 24,
   "metadata": {
    "ExecuteTime": {
     "end_time": "2021-04-18T02:27:56.825617Z",
     "start_time": "2021-04-18T02:27:56.799019Z"
    }
   },
   "outputs": [
    {
     "name": "stdout",
     "output_type": "stream",
     "text": [
      "----平均数FDE/ADE误差----\n",
      "1.7435996147976314 , 8.848908342983487 , 15.764149275329654 , 0.07592420738315599 , 3.617547145857524 , 7.12876751397613\n",
      "----中位数FDE/ADE误差----\n",
      "1.6488425786372585 , 7.820795847602148 , 13.556089795818178 , 0.039199165557144866 , 3.232146782814305 , 6.137617023596499\n",
      "----达标比例----\n",
      "0.3018147086914995 , 0.17191977077363896 , 0.19579751671442217 , 1.0 , 0.22731614135625597 , 0.2588347659980898\n"
     ]
    }
   ],
   "source": [
    "meanFDE1 = np.mean(FDE1)\n",
    "meanFDE3 = np.mean(FDE3)\n",
    "meanFDE5 = np.mean(FDE5)\n",
    "meanADE1 = np.mean(ADE1)\n",
    "meanADE3 = np.mean(ADE3)\n",
    "meanADE5 = np.mean(ADE5)\n",
    "print('----平均数FDE/ADE误差----')\n",
    "print(meanFDE1,',',meanFDE3,',',meanFDE5,',',meanADE1,',',meanADE3,',',meanADE5)\n",
    "FDE1=np.array(FDE1)\n",
    "FDE3 = np.array(FDE3)\n",
    "FDE5 = np.array(FDE5)\n",
    "ADE1 = np.array(ADE1)\n",
    "ADE3 = np.array(ADE3)\n",
    "ADE5 = np.array(ADE5)\n",
    "print('----中位数FDE/ADE误差----')\n",
    "print(np.median(FDE1),',',np.median(FDE3),',',np.median(FDE5),',',np.median(ADE1),',',np.median(ADE3),',',np.median(ADE5))\n",
    "print('----达标比例----')\n",
    "print(len(np.where(FDE1<=1)[0])/len(FDE1),',',len(np.where(FDE3<=3)[0])/len(FDE3),',',len(np.where(FDE5<=6)[0])/len(FDE5),',',len(np.where(ADE1<=0.75)[0])/len(ADE1),',',len(np.where(ADE3<=1.5)[0])/len(ADE3),',',len(np.where(ADE5<=3.5)[0])/len(ADE5))"
   ]
  },
  {
   "cell_type": "code",
   "execution_count": null,
   "metadata": {},
   "outputs": [],
   "source": []
  }
 ],
 "metadata": {
  "kernelspec": {
   "display_name": "Python 3.6.10 64-bit ('py36': conda)",
   "language": "python",
   "name": "python361064bitpy36conda1b2e35c9346148d2a8b6ebb718535481"
  },
  "language_info": {
   "codemirror_mode": {
    "name": "ipython",
    "version": 3
   },
   "file_extension": ".py",
   "mimetype": "text/x-python",
   "name": "python",
   "nbconvert_exporter": "python",
   "pygments_lexer": "ipython3",
   "version": "3.6.10"
  },
  "toc": {
   "base_numbering": 1,
   "nav_menu": {},
   "number_sections": true,
   "sideBar": true,
   "skip_h1_title": false,
   "title_cell": "Table of Contents",
   "title_sidebar": "Contents",
   "toc_cell": false,
   "toc_position": {
    "height": "calc(100% - 180px)",
    "left": "10px",
    "top": "150px",
    "width": "258.594px"
   },
   "toc_section_display": true,
   "toc_window_display": true
  },
  "varInspector": {
   "cols": {
    "lenName": 16,
    "lenType": 16,
    "lenVar": 40
   },
   "kernels_config": {
    "python": {
     "delete_cmd_postfix": "",
     "delete_cmd_prefix": "del ",
     "library": "var_list.py",
     "varRefreshCmd": "print(var_dic_list())"
    },
    "r": {
     "delete_cmd_postfix": ") ",
     "delete_cmd_prefix": "rm(",
     "library": "var_list.r",
     "varRefreshCmd": "cat(var_dic_list()) "
    }
   },
   "types_to_exclude": [
    "module",
    "function",
    "builtin_function_or_method",
    "instance",
    "_Feature"
   ],
   "window_display": false
  }
 },
 "nbformat": 4,
 "nbformat_minor": 2
}
