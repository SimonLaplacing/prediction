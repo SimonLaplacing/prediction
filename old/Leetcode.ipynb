{
 "cells": [
  {
   "cell_type": "markdown",
   "metadata": {},
   "source": [
    "# 两数之和"
   ]
  },
  {
   "cell_type": "code",
   "execution_count": 1,
   "metadata": {},
   "outputs": [],
   "source": [
    "def twoSum1(nums: [int], target: int) -> [int]:\n",
    "    lens = len(nums)\n",
    "        for i in range(lens):\n",
    "            for j in range(i+1,lens):\n",
    "                if nums[i] + nums[j] == target:\n",
    "                    return [i, j]"
   ]
  },
  {
   "cell_type": "code",
   "execution_count": 2,
   "metadata": {},
   "outputs": [],
   "source": [
    "def twoSum2(nums: [int], target: int) -> [int]:\n",
    "    index = {}\n",
    "    for i, n in enumerate(nums):\n",
    "        if target - nums[i] in index:\n",
    "            return [index[target - nums[i]], i]\n",
    "        else:\n",
    "            index[n] = i"
   ]
  },
  {
   "cell_type": "code",
   "execution_count": 4,
   "metadata": {},
   "outputs": [
    {
     "data": {
      "text/plain": [
       "[1, 2]"
      ]
     },
     "execution_count": 4,
     "metadata": {},
     "output_type": "execute_result"
    }
   ],
   "source": [
    "twoSum2([2,7,13,23],20)"
   ]
  },
  {
   "cell_type": "markdown",
   "metadata": {},
   "source": [
    "# 两数相加"
   ]
  },
  {
   "cell_type": "code",
   "execution_count": 14,
   "metadata": {},
   "outputs": [
    {
     "data": {
      "text/plain": [
       "[3, 0, 7, 2, 4]"
      ]
     },
     "execution_count": 14,
     "metadata": {},
     "output_type": "execute_result"
    }
   ],
   "source": [
    "def addTwoNumbers(l1, l2):\n",
    "    l3 = []\n",
    "    sum1 = 0\n",
    "    sum2 = []\n",
    "    if len(l1) < len(l2):\n",
    "        l3 = l1\n",
    "        l1 = l2\n",
    "        l2 = l3\n",
    "    for i in range(len(l2)):\n",
    "        sum1 = sum1 + l1[i] + l2[i]\n",
    "        zheng = sum1 // 10\n",
    "        yu = sum1 % 10\n",
    "        sum2.append(yu)\n",
    "        if zheng:\n",
    "            sum1 = 1\n",
    "        else:\n",
    "            sum1 = 0\n",
    "    for j in range(len(l1)-len(l2)):\n",
    "        sum2.append(l1[j+len(l2)]+sum1)\n",
    "        sum1 = 0\n",
    "    return sum2\n",
    "\n",
    "\n",
    "addTwoNumbers([9, 4, 4, 2, 4], [4, 5, 2])"
   ]
  },
  {
   "cell_type": "code",
   "execution_count": 25,
   "metadata": {},
   "outputs": [
    {
     "name": "stdout",
     "output_type": "stream",
     "text": [
      "a: [1, 2] \n",
      "b: [1, 2]\n"
     ]
    }
   ],
   "source": [
    "a = [1]\n",
    "b = a\n",
    "b.append(2)\n",
    "print('a:', a, '\\nb:', b)"
   ]
  },
  {
   "cell_type": "code",
   "execution_count": null,
   "metadata": {},
   "outputs": [],
   "source": [
    "def addTwoNumbers(self, l1: ListNode, l2: ListNode) -> ListNode:\n",
    "        # 创建一个结点值为 None 的头结点, dummy 和 p 指向头结点, dummy 用来最后返回, p 用来遍历\n",
    "        dummy = p = ListNode(None)          \n",
    "        s = 0               # 初始化进位 s 为 0\n",
    "        while l1 or l2 or s:\n",
    "            # 如果 l1 或 l2 存在, 则取l1的值 + l2的值 + s(s初始为0, 如果下面有进位1, 下次加上)\n",
    "            s += (l1.val if l1 else 0) + (l2.val if l2 else 0)  \n",
    "            p.next = ListNode(s % 10)       # p.next 指向新链表, 用来创建一个新的链表\n",
    "            p = p.next                      # p 向后遍历\n",
    "            s //= 10                        # 有进位情况则取模, eg. s = 18, 18 // 10 = 1\n",
    "            l1 = l1.next if l1 else None    # 如果l1存在, 则向后遍历, 否则为 None\n",
    "            l2 = l2.next if l2 else None    # 如果l2存在, 则向后遍历, 否则为 None\n",
    "        return dummy.next   # 返回 dummy 的下一个节点, 因为 dummy 指向的是空的头结点, 下一个节点才是新建链表的后序节点"
   ]
  },
  {
   "cell_type": "markdown",
   "metadata": {},
   "source": [
    "# 无重复的最长子串"
   ]
  },
  {
   "cell_type": "code",
   "execution_count": 37,
   "metadata": {},
   "outputs": [],
   "source": [
    "def lengthOfLongestSubstring(self, s: str) -> int:\n",
    "    str_list = []\n",
    "    max_length = 0\n",
    "    for i in range(len(s)):\n",
    "        if s[i] not in str_list:\n",
    "            str_list.append(s[i])\n",
    "            max_length = max(max_length, len(str_list))\n",
    "        else:\n",
    "            str_list = str_list[str_list.index(s[i])+1:]\n",
    "            str_list.append(s[i])\n",
    "    return max_length"
   ]
  },
  {
   "cell_type": "code",
   "execution_count": null,
   "metadata": {},
   "outputs": [],
   "source": [
    "def lengthOfLongestSubstring(self, s: str) -> int:\n",
    "        # 哈希集合，记录每个字符是否出现过\n",
    "        occ = set()\n",
    "        n = len(s)\n",
    "        # 右指针，初始值为 -1，相当于我们在字符串的左边界的左侧，还没有开始移动\n",
    "        rk, ans = -1, 0\n",
    "        for i in range(n):\n",
    "            if i != 0:\n",
    "                # 左指针向右移动一格，移除一个字符\n",
    "                occ.remove(s[i - 1])\n",
    "            while rk + 1 < n and s[rk + 1] not in occ:\n",
    "                # 不断地移动右指针\n",
    "                occ.add(s[rk + 1])\n",
    "                rk += 1\n",
    "            # 第 i 到 rk 个字符是一个极长的无重复字符子串\n",
    "            ans = max(ans, rk - i + 1)\n",
    "        return ans"
   ]
  },
  {
   "cell_type": "code",
   "execution_count": 38,
   "metadata": {},
   "outputs": [
    {
     "data": {
      "text/plain": [
       "6"
      ]
     },
     "execution_count": 38,
     "metadata": {},
     "output_type": "execute_result"
    }
   ],
   "source": [
    "lengthOfLongestSubstring(None,' wfe rgrthwhrgw')"
   ]
  },
  {
   "cell_type": "markdown",
   "metadata": {},
   "source": [
    "# 两数组中位数"
   ]
  },
  {
   "cell_type": "markdown",
   "metadata": {},
   "source": [
    "# 最长回文子串"
   ]
  },
  {
   "cell_type": "code",
   "execution_count": 15,
   "metadata": {},
   "outputs": [],
   "source": [
    "def longestPalindrome(self, s: str) -> str:\n",
    "    maxhuiwen = ''\n",
    "    j = 0\n",
    "    for left in range(len(s)):\n",
    "        for right in range(left,len(s)):\n",
    "            ratio = (right-left+1)//2\n",
    "            if ratio==0:\n",
    "                if len(maxhuiwen) < len(s[left:right+1]):\n",
    "                        maxhuiwen = s[left]\n",
    "            for j in range(ratio):\n",
    "                if s[left+j] != s[right-j]:\n",
    "                    break\n",
    "                elif j + 1 == ratio:\n",
    "                    if len(maxhuiwen) < len(s[left:right+1]):\n",
    "                        maxhuiwen = s[left:right+1]\n",
    "    return maxhuiwen"
   ]
  },
  {
   "cell_type": "code",
   "execution_count": 18,
   "metadata": {},
   "outputs": [
    {
     "data": {
      "text/plain": [
       "'acdca'"
      ]
     },
     "execution_count": 18,
     "metadata": {},
     "output_type": "execute_result"
    }
   ],
   "source": [
    "longestPalindrome(None,'acdca')"
   ]
  },
  {
   "cell_type": "code",
   "execution_count": 127,
   "metadata": {},
   "outputs": [],
   "source": [
    "def longestPalindrome1(self, s: str) -> str:\n",
    "    maxhuiwen = ''\n",
    "    for left in range(len(s)):\n",
    "        for right in range(left,len(s)):\n",
    "            if s[right-len(s):left-len(s)-1:-1] == s[left:(right+1)]:\n",
    "                if len(maxhuiwen) < len(s[left:right+1]):\n",
    "                    maxhuiwen = s[left:right+1]\n",
    "    return maxhuiwen"
   ]
  },
  {
   "cell_type": "code",
   "execution_count": 128,
   "metadata": {},
   "outputs": [
    {
     "data": {
      "text/plain": [
       "'ewe'"
      ]
     },
     "execution_count": 128,
     "metadata": {},
     "output_type": "execute_result"
    }
   ],
   "source": [
    "longestPalindrome1(None,'aadfeweagawc')"
   ]
  },
  {
   "cell_type": "code",
   "execution_count": 123,
   "metadata": {},
   "outputs": [],
   "source": [
    "def longestPalindrome2(self, s: str) -> str:\n",
    "    maxhuiwen = ''\n",
    "    for left in range(len(s)):\n",
    "        right = len(s)-1\n",
    "        while right >= left and right < len(s):\n",
    "            if s[right-len(s):left-len(s)-1:-1] == s[left:(right+1)]:\n",
    "                if len(maxhuiwen) < len(s[left:right+1]):\n",
    "                    maxhuiwen = s[left:right+1]\n",
    "            right -= 1\n",
    "    return maxhuiwen"
   ]
  },
  {
   "cell_type": "code",
   "execution_count": 126,
   "metadata": {},
   "outputs": [
    {
     "data": {
      "text/plain": [
       "'a'"
      ]
     },
     "execution_count": 126,
     "metadata": {},
     "output_type": "execute_result"
    }
   ],
   "source": [
    "longestPalindrome2(None,'ad')"
   ]
  },
  {
   "cell_type": "code",
   "execution_count": 110,
   "metadata": {},
   "outputs": [
    {
     "data": {
      "text/plain": [
       "'54'"
      ]
     },
     "execution_count": 110,
     "metadata": {},
     "output_type": "execute_result"
    }
   ],
   "source": [
    "a='1234567'\n",
    "a[-3:-5:-1]"
   ]
  },
  {
   "cell_type": "markdown",
   "metadata": {},
   "source": [
    "# Z字形转换"
   ]
  },
  {
   "cell_type": "code",
   "execution_count": 72,
   "metadata": {},
   "outputs": [],
   "source": [
    "def convert(self, s: str, numRows: int) -> str:\n",
    "    if numRows < 2:\n",
    "        return s\n",
    "    n = len(s)\n",
    "    numBlock = n // (2*numRows-2)\n",
    "    rest = n % (2*numRows-2)\n",
    "    if rest <= numRows:\n",
    "        numColumns = numBlock*(numRows-1)+1\n",
    "    else:\n",
    "        numColumns = numBlock*(numRows-1)+(rest-numRows)+1\n",
    "    output = ''\n",
    "    dict = {}\n",
    "    for i in range(numColumns):\n",
    "        B = i//(numRows-1)\n",
    "        R = i % (numRows-1)\n",
    "        block_column = R\n",
    "        for j in range(numRows):\n",
    "            if block_column == 0 and B*(2*numRows-2)+j <= n-1:\n",
    "                dict['%d,%d' % (j, i)] = s[B*(2*numRows-2)+j]\n",
    "            elif block_column > 0 and (i+j) == ((B+1)*(numRows-1)) and B*(2*numRows-2)+numRows+block_column-1<= n-1:\n",
    "                dict['%d,%d' % (j, i)] = s[B*(2*numRows-2) +\n",
    "                                           numRows+block_column-1]\n",
    "            else:\n",
    "                dict['%d,%d' % (j, i)] = 0\n",
    "#             print(dict)\n",
    "    for i in range(numRows):\n",
    "        for j in range(numColumns):\n",
    "            if dict['%d,%d' % (i, j)]:\n",
    "                output = output+dict['%d,%d' % (i, j)]\n",
    "    return output"
   ]
  },
  {
   "cell_type": "code",
   "execution_count": 73,
   "metadata": {},
   "outputs": [
    {
     "data": {
      "text/plain": [
       "'LIEESGEDHNTOIICR'"
      ]
     },
     "execution_count": 73,
     "metadata": {},
     "output_type": "execute_result"
    }
   ],
   "source": [
    "convert(None,\"LEETCODEISHIRING\",5)"
   ]
  },
  {
   "cell_type": "code",
   "execution_count": 74,
   "metadata": {},
   "outputs": [],
   "source": [
    "    def convert(self, s: str, numRows: int) -> str:\n",
    "        if numRows < 2: return s\n",
    "        res = [\"\" for _ in range(numRows)]\n",
    "        i, flag = 0, -1\n",
    "        for c in s:\n",
    "            res[i] += c\n",
    "            if i == 0 or i == numRows - 1: flag = -flag\n",
    "            i += flag\n",
    "        return \"\".join(res)"
   ]
  },
  {
   "cell_type": "code",
   "execution_count": 75,
   "metadata": {},
   "outputs": [
    {
     "data": {
      "text/plain": [
       "'LIEESGEDHNTOIICR'"
      ]
     },
     "execution_count": 75,
     "metadata": {},
     "output_type": "execute_result"
    }
   ],
   "source": [
    "convert(None,\"LEETCODEISHIRING\",5)"
   ]
  },
  {
   "cell_type": "markdown",
   "metadata": {},
   "source": [
    "# 整数反转"
   ]
  },
  {
   "cell_type": "code",
   "execution_count": 29,
   "metadata": {},
   "outputs": [],
   "source": [
    "def reverse(self, x: int) -> int:\n",
    "    flag = 1\n",
    "    if x < 0:\n",
    "        x = -x\n",
    "        flag = -1\n",
    "    s = str(x)\n",
    "    ans = flag*int(s[::-1])\n",
    "    if ans <= -2 ** 31 or ans >= 2 ** 31 - 1:\n",
    "        ans = 0\n",
    "    return ans"
   ]
  },
  {
   "cell_type": "code",
   "execution_count": 30,
   "metadata": {},
   "outputs": [
    {
     "data": {
      "text/plain": [
       "0"
      ]
     },
     "execution_count": 30,
     "metadata": {},
     "output_type": "execute_result"
    }
   ],
   "source": [
    "reverse(None, 2**32)"
   ]
  },
  {
   "cell_type": "markdown",
   "metadata": {},
   "source": [
    "# 字符串转换整数"
   ]
  },
  {
   "cell_type": "code",
   "execution_count": 117,
   "metadata": {},
   "outputs": [],
   "source": [
    "def myAtoi(self, str: str) -> int:\n",
    "    ans = ''\n",
    "    flag = 1\n",
    "    state2 = 1\n",
    "    for i in range(len(str)):\n",
    "        if i != 0:\n",
    "            pre_str = str[i-1]\n",
    "        if str[i].isspace() and ans == '' and state2:\n",
    "            continue\n",
    "        if str[i] == '-' and ans == '' and state2:\n",
    "            flag = -1\n",
    "            state2 = 0\n",
    "            continue\n",
    "        if str[i] == '+' and ans == '' and state2:\n",
    "            flag = 1\n",
    "            state2 = 0\n",
    "            continue\n",
    "        if str[i].isnumeric():\n",
    "            if ans == '':\n",
    "                ans += str[i]\n",
    "                continue\n",
    "            if pre_str.isnumeric() == 1:\n",
    "                ans += str[i]\n",
    "            else:\n",
    "                break\n",
    "        else:\n",
    "            if ans == '':\n",
    "                return 0\n",
    "    if ans == '':\n",
    "        return 0\n",
    "    ans = flag * int(ans)\n",
    "    if ans <= -2 ** 31:\n",
    "        return -2 ** 31\n",
    "    if ans >= 2 ** 31 - 1:\n",
    "        return 2 ** 31 - 1\n",
    "    return ans"
   ]
  },
  {
   "cell_type": "code",
   "execution_count": 122,
   "metadata": {},
   "outputs": [
    {
     "data": {
      "text/plain": [
       "0"
      ]
     },
     "execution_count": 122,
     "metadata": {},
     "output_type": "execute_result"
    }
   ],
   "source": [
    "myAtoi(None,'  - 42')"
   ]
  },
  {
   "cell_type": "code",
   "execution_count": 128,
   "metadata": {},
   "outputs": [],
   "source": [
    "import re\n",
    "def myAtoi(self, str: str) -> int:\n",
    "    return max(min(int(*re.findall('^[\\+\\-]?\\d+', str.lstrip())), 2**31 - 1), -2**31)"
   ]
  },
  {
   "cell_type": "code",
   "execution_count": 129,
   "metadata": {},
   "outputs": [
    {
     "data": {
      "text/plain": [
       "0"
      ]
     },
     "execution_count": 129,
     "metadata": {},
     "output_type": "execute_result"
    }
   ],
   "source": [
    "myAtoi(None,'  - 42')"
   ]
  },
  {
   "cell_type": "markdown",
   "metadata": {},
   "source": [
    "# 回文数"
   ]
  },
  {
   "cell_type": "code",
   "execution_count": 14,
   "metadata": {},
   "outputs": [],
   "source": [
    "def isPalindrome(self, x: int) -> bool:\n",
    "    return str(x)[::-1] == str(x)"
   ]
  },
  {
   "cell_type": "code",
   "execution_count": 15,
   "metadata": {},
   "outputs": [
    {
     "data": {
      "text/plain": [
       "False"
      ]
     },
     "execution_count": 15,
     "metadata": {},
     "output_type": "execute_result"
    }
   ],
   "source": [
    "isPalindrome(None,10)"
   ]
  },
  {
   "cell_type": "code",
   "execution_count": 24,
   "metadata": {},
   "outputs": [],
   "source": [
    "def isPalindrome(self, x: int) -> bool:\n",
    "    if x < 10:\n",
    "        if x < 0:\n",
    "            return False\n",
    "        else:\n",
    "            return True\n",
    "    else:\n",
    "        p = []\n",
    "        while x != 0:\n",
    "            yushu = x % 10\n",
    "            x = x // 10\n",
    "            p.append(yushu)\n",
    "        return p == p[::-1]"
   ]
  },
  {
   "cell_type": "code",
   "execution_count": 26,
   "metadata": {},
   "outputs": [
    {
     "data": {
      "text/plain": [
       "False"
      ]
     },
     "execution_count": 26,
     "metadata": {},
     "output_type": "execute_result"
    }
   ],
   "source": [
    "isPalindrome(None,121123)"
   ]
  },
  {
   "cell_type": "code",
   "execution_count": 30,
   "metadata": {},
   "outputs": [],
   "source": [
    "def isPalindrome(self, x: int) -> bool:\n",
    "    lst = str(x)\n",
    "    L, R = 0, len(lst)-1\n",
    "    while L <= R:\n",
    "        if lst[L] != lst[R]:\n",
    "            return  False\n",
    "        L += 1\n",
    "        R -= 1\n",
    "    return True"
   ]
  },
  {
   "cell_type": "code",
   "execution_count": 35,
   "metadata": {},
   "outputs": [
    {
     "data": {
      "text/plain": [
       "False"
      ]
     },
     "execution_count": 35,
     "metadata": {},
     "output_type": "execute_result"
    }
   ],
   "source": [
    "isPalindrome(None,1234532)"
   ]
  },
  {
   "cell_type": "markdown",
   "metadata": {},
   "source": [
    "# 最长公共前缀"
   ]
  },
  {
   "cell_type": "code",
   "execution_count": 4,
   "metadata": {},
   "outputs": [],
   "source": [
    "def longestCommonPrefix(self, strs) -> str:\n",
    "    if not strs: return \"\"\n",
    "    str0 = min(strs)\n",
    "    str1 = max(strs)\n",
    "    for i in range(len(str0)):\n",
    "        if str0[i] != str1[i]:\n",
    "            return str0[:i]\n",
    "    return str0"
   ]
  },
  {
   "cell_type": "code",
   "execution_count": 3,
   "metadata": {},
   "outputs": [
    {
     "data": {
      "text/plain": [
       "3"
      ]
     },
     "execution_count": 3,
     "metadata": {},
     "output_type": "execute_result"
    }
   ],
   "source": [
    "len('qwe')"
   ]
  },
  {
   "cell_type": "markdown",
   "metadata": {},
   "source": [
    "# 盛水最多的容器"
   ]
  },
  {
   "cell_type": "code",
   "execution_count": 4,
   "metadata": {},
   "outputs": [],
   "source": [
    "def maxArea(self, height) -> int:\n",
    "    n = len(height)\n",
    "    cap0 = 0\n",
    "    for i in range(n-1):\n",
    "        if i == 0:\n",
    "            cap0 = min(height[0], height[-1])*(n-1)\n",
    "        else:\n",
    "            if height[0] <= height[-1]:\n",
    "                height.pop(0)\n",
    "            else:\n",
    "                height.pop(-1)\n",
    "            cap1 = min(height[0], height[-1])*(n-1-i)\n",
    "            cap0 = max(cap0, cap1)\n",
    "    return cap0"
   ]
  },
  {
   "cell_type": "code",
   "execution_count": 9,
   "metadata": {},
   "outputs": [
    {
     "data": {
      "text/plain": [
       "24"
      ]
     },
     "execution_count": 9,
     "metadata": {},
     "output_type": "execute_result"
    }
   ],
   "source": [
    "maxArea(None,[4,3,4,2,4,6,8])"
   ]
  },
  {
   "cell_type": "markdown",
   "metadata": {},
   "source": [
    "# 罗马数字转整数"
   ]
  },
  {
   "cell_type": "code",
   "execution_count": 16,
   "metadata": {},
   "outputs": [],
   "source": [
    "def romanToInt(self, s: str) -> int:\n",
    "    n = len(s)\n",
    "    zhengshu = 0\n",
    "    for i in range(n - 1):\n",
    "        if s[i] == 'I':\n",
    "            if s[i+1] == 'V' or s[i+1] == 'X':\n",
    "                zhengshu -= 1\n",
    "            else:\n",
    "                zhengshu += 1\n",
    "        elif s[i] == 'V':\n",
    "            zhengshu += 5\n",
    "        elif s[i] == 'X':\n",
    "            if s[i+1] == 'L' or s[i+1] == 'C':\n",
    "                zhengshu -= 10\n",
    "            else:\n",
    "                zhengshu += 10\n",
    "        elif s[i] == 'L':\n",
    "            zhengshu += 50\n",
    "        elif s[i] == 'C':\n",
    "            if s[i+1] == 'D' or s[i+1] == 'M':\n",
    "                zhengshu -= 100\n",
    "            else:\n",
    "                zhengshu += 100\n",
    "        elif s[i] == 'D':\n",
    "            zhengshu += 500\n",
    "        else:\n",
    "            zhengshu += 1000\n",
    "\n",
    "    if s[n-1] == 'I':\n",
    "        zhengshu += 1\n",
    "        return zhengshu\n",
    "    elif s[n-1] == 'V':\n",
    "        zhengshu += 5\n",
    "        return zhengshu\n",
    "    elif s[n-1] == 'X':\n",
    "        zhengshu += 10\n",
    "        return zhengshu\n",
    "    elif s[n-1] == 'L':\n",
    "        zhengshu += 50\n",
    "        return zhengshu\n",
    "    elif s[n-1] == 'C':\n",
    "        zhengshu += 100\n",
    "        return zhengshu\n",
    "    elif s[n-1] == 'D':\n",
    "        zhengshu += 500\n",
    "        return zhengshu\n",
    "    else:\n",
    "        zhengshu += 1000\n",
    "        return zhengshu"
   ]
  },
  {
   "cell_type": "code",
   "execution_count": 17,
   "metadata": {},
   "outputs": [
    {
     "data": {
      "text/plain": [
       "100"
      ]
     },
     "execution_count": 17,
     "metadata": {},
     "output_type": "execute_result"
    }
   ],
   "source": [
    "romanToInt(None,'C')"
   ]
  },
  {
   "cell_type": "code",
   "execution_count": 20,
   "metadata": {},
   "outputs": [],
   "source": [
    "def romanToInt(self, s: str) -> int:    \n",
    "    d = {'I':1, 'IV':3, 'V':5, 'IX':8, 'X':10, 'XL':30, 'L':50, 'XC':80, 'C':100, 'CD':300, 'D':500, 'CM':800, 'M':1000}\n",
    "    return sum(d.get(s[max(i-1, 0):i+1], d[n]) for i, n in enumerate(s))"
   ]
  },
  {
   "cell_type": "code",
   "execution_count": 21,
   "metadata": {},
   "outputs": [
    {
     "data": {
      "text/plain": [
       "100"
      ]
     },
     "execution_count": 21,
     "metadata": {},
     "output_type": "execute_result"
    }
   ],
   "source": [
    "romanToInt(None,'C')"
   ]
  },
  {
   "cell_type": "code",
   "execution_count": 22,
   "metadata": {},
   "outputs": [],
   "source": [
    "def romanToInt(self, s: str) -> int:\n",
    "    Roman2Int = {'I':1,'V':5,'X':10,'L':50,'C':100,'D':500,'M':1000}\n",
    "    Int = 0\n",
    "    n = len(s)\n",
    "\n",
    "    for index in range(n - 1):\n",
    "        if Roman2Int[s[index]] < Roman2Int[s[index + 1]]:\n",
    "            Int -= Roman2Int[s[index]]\n",
    "        else:\n",
    "            Int += Roman2Int[s[index]]\n",
    "\n",
    "    return Int + Roman2Int[s[-1]]"
   ]
  },
  {
   "cell_type": "markdown",
   "metadata": {},
   "source": [
    "# 整数转罗马数字"
   ]
  },
  {
   "cell_type": "code",
   "execution_count": 18,
   "metadata": {},
   "outputs": [],
   "source": [
    "def intToRoman(self, num: int) -> str:\n",
    "    s = ''\n",
    "    while num >= 1000:\n",
    "        num -= 1000\n",
    "        s += 'M'\n",
    "    while num >= 900:\n",
    "        num -= 900\n",
    "        s += 'CM'\n",
    "    while num >= 500:\n",
    "        num -= 500\n",
    "        s += 'D'\n",
    "    while num >= 400:\n",
    "        num -= 400\n",
    "        s += 'CD'\n",
    "    while num >= 100:\n",
    "        num -= 100\n",
    "        s += 'C'\n",
    "    while num >= 90:\n",
    "        num -= 90\n",
    "        s += 'XC'\n",
    "    while num >= 50:\n",
    "        num -= 50\n",
    "        s += 'L'\n",
    "    while num >= 40:\n",
    "        num -= 40\n",
    "        s += 'XL'\n",
    "    while num >= 10:\n",
    "        num -= 10\n",
    "        s += 'X'\n",
    "    while num >= 9:\n",
    "        num -= 9\n",
    "        s += 'IX'\n",
    "    while num >= 5:\n",
    "        num -= 5\n",
    "        s += 'V'\n",
    "    while num >= 4:\n",
    "        num -= 4\n",
    "        s += 'IV'\n",
    "    while num >= 1:\n",
    "        num -= 1\n",
    "        s += 'I'\n",
    "    return s"
   ]
  },
  {
   "cell_type": "code",
   "execution_count": 24,
   "metadata": {},
   "outputs": [
    {
     "data": {
      "text/plain": [
       "'VII'"
      ]
     },
     "execution_count": 24,
     "metadata": {},
     "output_type": "execute_result"
    }
   ],
   "source": [
    "intToRoman(None,7)"
   ]
  },
  {
   "cell_type": "code",
   "execution_count": 11,
   "metadata": {},
   "outputs": [
    {
     "data": {
      "text/plain": [
       "True"
      ]
     },
     "execution_count": 11,
     "metadata": {},
     "output_type": "execute_result"
    }
   ],
   "source": [
    "def intToRoman(self, num: int) -> str:\n",
    "    M = [\"\", \"M\", \"MM\", \"MMM\"] # 1000，2000，3000\n",
    "    C = [\"\", \"C\", \"CC\", \"CCC\", \"CD\", \"D\", \"DC\", \"DCC\", \"DCCC\", \"CM\"] # 100~900\n",
    "    X = [\"\", \"X\", \"XX\", \"XXX\", \"XL\", \"L\", \"LX\", \"LXX\", \"LXXX\", \"XC\"] # 10~90\n",
    "    I = [\"\", \"I\", \"II\", \"III\", \"IV\", \"V\", \"VI\", \"VII\", \"VIII\", \"IX\"] # 1~9\n",
    "    return M[num//1000] + C[(num%1000)//100] + X[(num%100)//10] + I[num%10]"
   ]
  },
  {
   "cell_type": "code",
   "execution_count": 1,
   "metadata": {},
   "outputs": [],
   "source": [
    "def intToRoman(self, num: int) -> str:\n",
    "    # 使用哈希表，按照从大到小顺序排列\n",
    "    hashmap = {1000:'M', 900:'CM', 500:'D', 400:'CD', 100:'C', 90:'XC', 50:'L', 40:'XL', 10:'X', 9:'IX', 5:'V', 4:'IV', 1:'I'}\n",
    "    res = ''\n",
    "    for key in hashmap:\n",
    "        if num // key != 0:\n",
    "            count = num // key  # 比如输入4000，count 为 4\n",
    "            res += hashmap[key] * count \n",
    "            num %= key\n",
    "    return res"
   ]
  },
  {
   "cell_type": "markdown",
   "metadata": {},
   "source": [
    "# 三数之和"
   ]
  },
  {
   "cell_type": "code",
   "execution_count": 31,
   "metadata": {},
   "outputs": [],
   "source": [
    "def threeSum(self, nums) -> [[int]]:\n",
    "    n = len(nums)\n",
    "    res = []\n",
    "    if(not nums or n < 3):\n",
    "        return []\n",
    "    nums.sort()\n",
    "    res = []\n",
    "    for i in range(n):\n",
    "        if(nums[i] > 0):\n",
    "            return res\n",
    "        if(i > 0 and nums[i] == nums[i-1]):\n",
    "            continue\n",
    "        L = i+1\n",
    "        R = n-1\n",
    "        while(L < R):\n",
    "            if(nums[i]+nums[L]+nums[R] == 0):\n",
    "                res.append([nums[i], nums[L], nums[R]])\n",
    "                while(L < R and nums[L] == nums[L+1]):\n",
    "                    L = L+1\n",
    "                while(L < R and nums[R] == nums[R-1]):\n",
    "                    R = R-1\n",
    "                L = L+1\n",
    "                R = R-1\n",
    "            elif(nums[i]+nums[L]+nums[R] > 0):\n",
    "                R = R-1\n",
    "            else:\n",
    "                L = L+1\n",
    "    return res"
   ]
  },
  {
   "cell_type": "code",
   "execution_count": 32,
   "metadata": {},
   "outputs": [
    {
     "data": {
      "text/plain": [
       "[[-1, -1, 2], [-1, 0, 1]]"
      ]
     },
     "execution_count": 32,
     "metadata": {},
     "output_type": "execute_result"
    }
   ],
   "source": [
    "threeSum(None,[-1, 0, 1, 2, -1, -4])"
   ]
  },
  {
   "cell_type": "markdown",
   "metadata": {},
   "source": [
    "# 电话号码的字母组合"
   ]
  },
  {
   "cell_type": "code",
   "execution_count": 5,
   "metadata": {},
   "outputs": [],
   "source": [
    "def letterCombinations(self, digits: str) -> str:\n",
    "    if not digits: return []\n",
    "\n",
    "    phone = {'2':['a','b','c'],\n",
    "                '3':['d','e','f'],\n",
    "                 '4':['g','h','i'],\n",
    "                 '5':['j','k','l'],\n",
    "                 '6':['m','n','o'],\n",
    "                 '7':['p','q','r','s'],\n",
    "                 '8':['t','u','v'],\n",
    "                 '9':['w','x','y','z']}\n",
    "                \n",
    "    def backtrack(conbination,nextdigit):\n",
    "        if len(nextdigit) == 0:\n",
    "            res.append(conbination)\n",
    "        else:\n",
    "            for letter in phone[nextdigit[0]]:\n",
    "                backtrack(conbination + letter,nextdigit[1:])\n",
    "\n",
    "    res = []\n",
    "    backtrack('',digits)\n",
    "    return res"
   ]
  },
  {
   "cell_type": "code",
   "execution_count": null,
   "metadata": {},
   "outputs": [],
   "source": [
    "def letterCombinations(self, digits: str) -> str: \n",
    "    if not digits: return []\n",
    "        phone = ['abc','def','ghi','jkl','mno','pqrs','tuv','wxyz']\n",
    "        queue = ['']  # 初始化队列\n",
    "        for digit in digits:\n",
    "            for _ in range(len(queue)):\n",
    "                tmp = queue.pop(0)\n",
    "                for letter in phone[ord(digit)-50]:# 这里我们不使用 int() 转换字符串，使用ASCII码\n",
    "                    queue.append(tmp + letter)\n",
    "        return queue"
   ]
  },
  {
   "cell_type": "code",
   "execution_count": 6,
   "metadata": {},
   "outputs": [
    {
     "data": {
      "text/plain": [
       "['dagmgj',\n",
       " 'dagmgk',\n",
       " 'dagmgl',\n",
       " 'dagmhj',\n",
       " 'dagmhk',\n",
       " 'dagmhl',\n",
       " 'dagmij',\n",
       " 'dagmik',\n",
       " 'dagmil',\n",
       " 'dagngj',\n",
       " 'dagngk',\n",
       " 'dagngl',\n",
       " 'dagnhj',\n",
       " 'dagnhk',\n",
       " 'dagnhl',\n",
       " 'dagnij',\n",
       " 'dagnik',\n",
       " 'dagnil',\n",
       " 'dagogj',\n",
       " 'dagogk',\n",
       " 'dagogl',\n",
       " 'dagohj',\n",
       " 'dagohk',\n",
       " 'dagohl',\n",
       " 'dagoij',\n",
       " 'dagoik',\n",
       " 'dagoil',\n",
       " 'dahmgj',\n",
       " 'dahmgk',\n",
       " 'dahmgl',\n",
       " 'dahmhj',\n",
       " 'dahmhk',\n",
       " 'dahmhl',\n",
       " 'dahmij',\n",
       " 'dahmik',\n",
       " 'dahmil',\n",
       " 'dahngj',\n",
       " 'dahngk',\n",
       " 'dahngl',\n",
       " 'dahnhj',\n",
       " 'dahnhk',\n",
       " 'dahnhl',\n",
       " 'dahnij',\n",
       " 'dahnik',\n",
       " 'dahnil',\n",
       " 'dahogj',\n",
       " 'dahogk',\n",
       " 'dahogl',\n",
       " 'dahohj',\n",
       " 'dahohk',\n",
       " 'dahohl',\n",
       " 'dahoij',\n",
       " 'dahoik',\n",
       " 'dahoil',\n",
       " 'daimgj',\n",
       " 'daimgk',\n",
       " 'daimgl',\n",
       " 'daimhj',\n",
       " 'daimhk',\n",
       " 'daimhl',\n",
       " 'daimij',\n",
       " 'daimik',\n",
       " 'daimil',\n",
       " 'daingj',\n",
       " 'daingk',\n",
       " 'daingl',\n",
       " 'dainhj',\n",
       " 'dainhk',\n",
       " 'dainhl',\n",
       " 'dainij',\n",
       " 'dainik',\n",
       " 'dainil',\n",
       " 'daiogj',\n",
       " 'daiogk',\n",
       " 'daiogl',\n",
       " 'daiohj',\n",
       " 'daiohk',\n",
       " 'daiohl',\n",
       " 'daioij',\n",
       " 'daioik',\n",
       " 'daioil',\n",
       " 'dbgmgj',\n",
       " 'dbgmgk',\n",
       " 'dbgmgl',\n",
       " 'dbgmhj',\n",
       " 'dbgmhk',\n",
       " 'dbgmhl',\n",
       " 'dbgmij',\n",
       " 'dbgmik',\n",
       " 'dbgmil',\n",
       " 'dbgngj',\n",
       " 'dbgngk',\n",
       " 'dbgngl',\n",
       " 'dbgnhj',\n",
       " 'dbgnhk',\n",
       " 'dbgnhl',\n",
       " 'dbgnij',\n",
       " 'dbgnik',\n",
       " 'dbgnil',\n",
       " 'dbgogj',\n",
       " 'dbgogk',\n",
       " 'dbgogl',\n",
       " 'dbgohj',\n",
       " 'dbgohk',\n",
       " 'dbgohl',\n",
       " 'dbgoij',\n",
       " 'dbgoik',\n",
       " 'dbgoil',\n",
       " 'dbhmgj',\n",
       " 'dbhmgk',\n",
       " 'dbhmgl',\n",
       " 'dbhmhj',\n",
       " 'dbhmhk',\n",
       " 'dbhmhl',\n",
       " 'dbhmij',\n",
       " 'dbhmik',\n",
       " 'dbhmil',\n",
       " 'dbhngj',\n",
       " 'dbhngk',\n",
       " 'dbhngl',\n",
       " 'dbhnhj',\n",
       " 'dbhnhk',\n",
       " 'dbhnhl',\n",
       " 'dbhnij',\n",
       " 'dbhnik',\n",
       " 'dbhnil',\n",
       " 'dbhogj',\n",
       " 'dbhogk',\n",
       " 'dbhogl',\n",
       " 'dbhohj',\n",
       " 'dbhohk',\n",
       " 'dbhohl',\n",
       " 'dbhoij',\n",
       " 'dbhoik',\n",
       " 'dbhoil',\n",
       " 'dbimgj',\n",
       " 'dbimgk',\n",
       " 'dbimgl',\n",
       " 'dbimhj',\n",
       " 'dbimhk',\n",
       " 'dbimhl',\n",
       " 'dbimij',\n",
       " 'dbimik',\n",
       " 'dbimil',\n",
       " 'dbingj',\n",
       " 'dbingk',\n",
       " 'dbingl',\n",
       " 'dbinhj',\n",
       " 'dbinhk',\n",
       " 'dbinhl',\n",
       " 'dbinij',\n",
       " 'dbinik',\n",
       " 'dbinil',\n",
       " 'dbiogj',\n",
       " 'dbiogk',\n",
       " 'dbiogl',\n",
       " 'dbiohj',\n",
       " 'dbiohk',\n",
       " 'dbiohl',\n",
       " 'dbioij',\n",
       " 'dbioik',\n",
       " 'dbioil',\n",
       " 'dcgmgj',\n",
       " 'dcgmgk',\n",
       " 'dcgmgl',\n",
       " 'dcgmhj',\n",
       " 'dcgmhk',\n",
       " 'dcgmhl',\n",
       " 'dcgmij',\n",
       " 'dcgmik',\n",
       " 'dcgmil',\n",
       " 'dcgngj',\n",
       " 'dcgngk',\n",
       " 'dcgngl',\n",
       " 'dcgnhj',\n",
       " 'dcgnhk',\n",
       " 'dcgnhl',\n",
       " 'dcgnij',\n",
       " 'dcgnik',\n",
       " 'dcgnil',\n",
       " 'dcgogj',\n",
       " 'dcgogk',\n",
       " 'dcgogl',\n",
       " 'dcgohj',\n",
       " 'dcgohk',\n",
       " 'dcgohl',\n",
       " 'dcgoij',\n",
       " 'dcgoik',\n",
       " 'dcgoil',\n",
       " 'dchmgj',\n",
       " 'dchmgk',\n",
       " 'dchmgl',\n",
       " 'dchmhj',\n",
       " 'dchmhk',\n",
       " 'dchmhl',\n",
       " 'dchmij',\n",
       " 'dchmik',\n",
       " 'dchmil',\n",
       " 'dchngj',\n",
       " 'dchngk',\n",
       " 'dchngl',\n",
       " 'dchnhj',\n",
       " 'dchnhk',\n",
       " 'dchnhl',\n",
       " 'dchnij',\n",
       " 'dchnik',\n",
       " 'dchnil',\n",
       " 'dchogj',\n",
       " 'dchogk',\n",
       " 'dchogl',\n",
       " 'dchohj',\n",
       " 'dchohk',\n",
       " 'dchohl',\n",
       " 'dchoij',\n",
       " 'dchoik',\n",
       " 'dchoil',\n",
       " 'dcimgj',\n",
       " 'dcimgk',\n",
       " 'dcimgl',\n",
       " 'dcimhj',\n",
       " 'dcimhk',\n",
       " 'dcimhl',\n",
       " 'dcimij',\n",
       " 'dcimik',\n",
       " 'dcimil',\n",
       " 'dcingj',\n",
       " 'dcingk',\n",
       " 'dcingl',\n",
       " 'dcinhj',\n",
       " 'dcinhk',\n",
       " 'dcinhl',\n",
       " 'dcinij',\n",
       " 'dcinik',\n",
       " 'dcinil',\n",
       " 'dciogj',\n",
       " 'dciogk',\n",
       " 'dciogl',\n",
       " 'dciohj',\n",
       " 'dciohk',\n",
       " 'dciohl',\n",
       " 'dcioij',\n",
       " 'dcioik',\n",
       " 'dcioil',\n",
       " 'eagmgj',\n",
       " 'eagmgk',\n",
       " 'eagmgl',\n",
       " 'eagmhj',\n",
       " 'eagmhk',\n",
       " 'eagmhl',\n",
       " 'eagmij',\n",
       " 'eagmik',\n",
       " 'eagmil',\n",
       " 'eagngj',\n",
       " 'eagngk',\n",
       " 'eagngl',\n",
       " 'eagnhj',\n",
       " 'eagnhk',\n",
       " 'eagnhl',\n",
       " 'eagnij',\n",
       " 'eagnik',\n",
       " 'eagnil',\n",
       " 'eagogj',\n",
       " 'eagogk',\n",
       " 'eagogl',\n",
       " 'eagohj',\n",
       " 'eagohk',\n",
       " 'eagohl',\n",
       " 'eagoij',\n",
       " 'eagoik',\n",
       " 'eagoil',\n",
       " 'eahmgj',\n",
       " 'eahmgk',\n",
       " 'eahmgl',\n",
       " 'eahmhj',\n",
       " 'eahmhk',\n",
       " 'eahmhl',\n",
       " 'eahmij',\n",
       " 'eahmik',\n",
       " 'eahmil',\n",
       " 'eahngj',\n",
       " 'eahngk',\n",
       " 'eahngl',\n",
       " 'eahnhj',\n",
       " 'eahnhk',\n",
       " 'eahnhl',\n",
       " 'eahnij',\n",
       " 'eahnik',\n",
       " 'eahnil',\n",
       " 'eahogj',\n",
       " 'eahogk',\n",
       " 'eahogl',\n",
       " 'eahohj',\n",
       " 'eahohk',\n",
       " 'eahohl',\n",
       " 'eahoij',\n",
       " 'eahoik',\n",
       " 'eahoil',\n",
       " 'eaimgj',\n",
       " 'eaimgk',\n",
       " 'eaimgl',\n",
       " 'eaimhj',\n",
       " 'eaimhk',\n",
       " 'eaimhl',\n",
       " 'eaimij',\n",
       " 'eaimik',\n",
       " 'eaimil',\n",
       " 'eaingj',\n",
       " 'eaingk',\n",
       " 'eaingl',\n",
       " 'eainhj',\n",
       " 'eainhk',\n",
       " 'eainhl',\n",
       " 'eainij',\n",
       " 'eainik',\n",
       " 'eainil',\n",
       " 'eaiogj',\n",
       " 'eaiogk',\n",
       " 'eaiogl',\n",
       " 'eaiohj',\n",
       " 'eaiohk',\n",
       " 'eaiohl',\n",
       " 'eaioij',\n",
       " 'eaioik',\n",
       " 'eaioil',\n",
       " 'ebgmgj',\n",
       " 'ebgmgk',\n",
       " 'ebgmgl',\n",
       " 'ebgmhj',\n",
       " 'ebgmhk',\n",
       " 'ebgmhl',\n",
       " 'ebgmij',\n",
       " 'ebgmik',\n",
       " 'ebgmil',\n",
       " 'ebgngj',\n",
       " 'ebgngk',\n",
       " 'ebgngl',\n",
       " 'ebgnhj',\n",
       " 'ebgnhk',\n",
       " 'ebgnhl',\n",
       " 'ebgnij',\n",
       " 'ebgnik',\n",
       " 'ebgnil',\n",
       " 'ebgogj',\n",
       " 'ebgogk',\n",
       " 'ebgogl',\n",
       " 'ebgohj',\n",
       " 'ebgohk',\n",
       " 'ebgohl',\n",
       " 'ebgoij',\n",
       " 'ebgoik',\n",
       " 'ebgoil',\n",
       " 'ebhmgj',\n",
       " 'ebhmgk',\n",
       " 'ebhmgl',\n",
       " 'ebhmhj',\n",
       " 'ebhmhk',\n",
       " 'ebhmhl',\n",
       " 'ebhmij',\n",
       " 'ebhmik',\n",
       " 'ebhmil',\n",
       " 'ebhngj',\n",
       " 'ebhngk',\n",
       " 'ebhngl',\n",
       " 'ebhnhj',\n",
       " 'ebhnhk',\n",
       " 'ebhnhl',\n",
       " 'ebhnij',\n",
       " 'ebhnik',\n",
       " 'ebhnil',\n",
       " 'ebhogj',\n",
       " 'ebhogk',\n",
       " 'ebhogl',\n",
       " 'ebhohj',\n",
       " 'ebhohk',\n",
       " 'ebhohl',\n",
       " 'ebhoij',\n",
       " 'ebhoik',\n",
       " 'ebhoil',\n",
       " 'ebimgj',\n",
       " 'ebimgk',\n",
       " 'ebimgl',\n",
       " 'ebimhj',\n",
       " 'ebimhk',\n",
       " 'ebimhl',\n",
       " 'ebimij',\n",
       " 'ebimik',\n",
       " 'ebimil',\n",
       " 'ebingj',\n",
       " 'ebingk',\n",
       " 'ebingl',\n",
       " 'ebinhj',\n",
       " 'ebinhk',\n",
       " 'ebinhl',\n",
       " 'ebinij',\n",
       " 'ebinik',\n",
       " 'ebinil',\n",
       " 'ebiogj',\n",
       " 'ebiogk',\n",
       " 'ebiogl',\n",
       " 'ebiohj',\n",
       " 'ebiohk',\n",
       " 'ebiohl',\n",
       " 'ebioij',\n",
       " 'ebioik',\n",
       " 'ebioil',\n",
       " 'ecgmgj',\n",
       " 'ecgmgk',\n",
       " 'ecgmgl',\n",
       " 'ecgmhj',\n",
       " 'ecgmhk',\n",
       " 'ecgmhl',\n",
       " 'ecgmij',\n",
       " 'ecgmik',\n",
       " 'ecgmil',\n",
       " 'ecgngj',\n",
       " 'ecgngk',\n",
       " 'ecgngl',\n",
       " 'ecgnhj',\n",
       " 'ecgnhk',\n",
       " 'ecgnhl',\n",
       " 'ecgnij',\n",
       " 'ecgnik',\n",
       " 'ecgnil',\n",
       " 'ecgogj',\n",
       " 'ecgogk',\n",
       " 'ecgogl',\n",
       " 'ecgohj',\n",
       " 'ecgohk',\n",
       " 'ecgohl',\n",
       " 'ecgoij',\n",
       " 'ecgoik',\n",
       " 'ecgoil',\n",
       " 'echmgj',\n",
       " 'echmgk',\n",
       " 'echmgl',\n",
       " 'echmhj',\n",
       " 'echmhk',\n",
       " 'echmhl',\n",
       " 'echmij',\n",
       " 'echmik',\n",
       " 'echmil',\n",
       " 'echngj',\n",
       " 'echngk',\n",
       " 'echngl',\n",
       " 'echnhj',\n",
       " 'echnhk',\n",
       " 'echnhl',\n",
       " 'echnij',\n",
       " 'echnik',\n",
       " 'echnil',\n",
       " 'echogj',\n",
       " 'echogk',\n",
       " 'echogl',\n",
       " 'echohj',\n",
       " 'echohk',\n",
       " 'echohl',\n",
       " 'echoij',\n",
       " 'echoik',\n",
       " 'echoil',\n",
       " 'ecimgj',\n",
       " 'ecimgk',\n",
       " 'ecimgl',\n",
       " 'ecimhj',\n",
       " 'ecimhk',\n",
       " 'ecimhl',\n",
       " 'ecimij',\n",
       " 'ecimik',\n",
       " 'ecimil',\n",
       " 'ecingj',\n",
       " 'ecingk',\n",
       " 'ecingl',\n",
       " 'ecinhj',\n",
       " 'ecinhk',\n",
       " 'ecinhl',\n",
       " 'ecinij',\n",
       " 'ecinik',\n",
       " 'ecinil',\n",
       " 'eciogj',\n",
       " 'eciogk',\n",
       " 'eciogl',\n",
       " 'eciohj',\n",
       " 'eciohk',\n",
       " 'eciohl',\n",
       " 'ecioij',\n",
       " 'ecioik',\n",
       " 'ecioil',\n",
       " 'fagmgj',\n",
       " 'fagmgk',\n",
       " 'fagmgl',\n",
       " 'fagmhj',\n",
       " 'fagmhk',\n",
       " 'fagmhl',\n",
       " 'fagmij',\n",
       " 'fagmik',\n",
       " 'fagmil',\n",
       " 'fagngj',\n",
       " 'fagngk',\n",
       " 'fagngl',\n",
       " 'fagnhj',\n",
       " 'fagnhk',\n",
       " 'fagnhl',\n",
       " 'fagnij',\n",
       " 'fagnik',\n",
       " 'fagnil',\n",
       " 'fagogj',\n",
       " 'fagogk',\n",
       " 'fagogl',\n",
       " 'fagohj',\n",
       " 'fagohk',\n",
       " 'fagohl',\n",
       " 'fagoij',\n",
       " 'fagoik',\n",
       " 'fagoil',\n",
       " 'fahmgj',\n",
       " 'fahmgk',\n",
       " 'fahmgl',\n",
       " 'fahmhj',\n",
       " 'fahmhk',\n",
       " 'fahmhl',\n",
       " 'fahmij',\n",
       " 'fahmik',\n",
       " 'fahmil',\n",
       " 'fahngj',\n",
       " 'fahngk',\n",
       " 'fahngl',\n",
       " 'fahnhj',\n",
       " 'fahnhk',\n",
       " 'fahnhl',\n",
       " 'fahnij',\n",
       " 'fahnik',\n",
       " 'fahnil',\n",
       " 'fahogj',\n",
       " 'fahogk',\n",
       " 'fahogl',\n",
       " 'fahohj',\n",
       " 'fahohk',\n",
       " 'fahohl',\n",
       " 'fahoij',\n",
       " 'fahoik',\n",
       " 'fahoil',\n",
       " 'faimgj',\n",
       " 'faimgk',\n",
       " 'faimgl',\n",
       " 'faimhj',\n",
       " 'faimhk',\n",
       " 'faimhl',\n",
       " 'faimij',\n",
       " 'faimik',\n",
       " 'faimil',\n",
       " 'faingj',\n",
       " 'faingk',\n",
       " 'faingl',\n",
       " 'fainhj',\n",
       " 'fainhk',\n",
       " 'fainhl',\n",
       " 'fainij',\n",
       " 'fainik',\n",
       " 'fainil',\n",
       " 'faiogj',\n",
       " 'faiogk',\n",
       " 'faiogl',\n",
       " 'faiohj',\n",
       " 'faiohk',\n",
       " 'faiohl',\n",
       " 'faioij',\n",
       " 'faioik',\n",
       " 'faioil',\n",
       " 'fbgmgj',\n",
       " 'fbgmgk',\n",
       " 'fbgmgl',\n",
       " 'fbgmhj',\n",
       " 'fbgmhk',\n",
       " 'fbgmhl',\n",
       " 'fbgmij',\n",
       " 'fbgmik',\n",
       " 'fbgmil',\n",
       " 'fbgngj',\n",
       " 'fbgngk',\n",
       " 'fbgngl',\n",
       " 'fbgnhj',\n",
       " 'fbgnhk',\n",
       " 'fbgnhl',\n",
       " 'fbgnij',\n",
       " 'fbgnik',\n",
       " 'fbgnil',\n",
       " 'fbgogj',\n",
       " 'fbgogk',\n",
       " 'fbgogl',\n",
       " 'fbgohj',\n",
       " 'fbgohk',\n",
       " 'fbgohl',\n",
       " 'fbgoij',\n",
       " 'fbgoik',\n",
       " 'fbgoil',\n",
       " 'fbhmgj',\n",
       " 'fbhmgk',\n",
       " 'fbhmgl',\n",
       " 'fbhmhj',\n",
       " 'fbhmhk',\n",
       " 'fbhmhl',\n",
       " 'fbhmij',\n",
       " 'fbhmik',\n",
       " 'fbhmil',\n",
       " 'fbhngj',\n",
       " 'fbhngk',\n",
       " 'fbhngl',\n",
       " 'fbhnhj',\n",
       " 'fbhnhk',\n",
       " 'fbhnhl',\n",
       " 'fbhnij',\n",
       " 'fbhnik',\n",
       " 'fbhnil',\n",
       " 'fbhogj',\n",
       " 'fbhogk',\n",
       " 'fbhogl',\n",
       " 'fbhohj',\n",
       " 'fbhohk',\n",
       " 'fbhohl',\n",
       " 'fbhoij',\n",
       " 'fbhoik',\n",
       " 'fbhoil',\n",
       " 'fbimgj',\n",
       " 'fbimgk',\n",
       " 'fbimgl',\n",
       " 'fbimhj',\n",
       " 'fbimhk',\n",
       " 'fbimhl',\n",
       " 'fbimij',\n",
       " 'fbimik',\n",
       " 'fbimil',\n",
       " 'fbingj',\n",
       " 'fbingk',\n",
       " 'fbingl',\n",
       " 'fbinhj',\n",
       " 'fbinhk',\n",
       " 'fbinhl',\n",
       " 'fbinij',\n",
       " 'fbinik',\n",
       " 'fbinil',\n",
       " 'fbiogj',\n",
       " 'fbiogk',\n",
       " 'fbiogl',\n",
       " 'fbiohj',\n",
       " 'fbiohk',\n",
       " 'fbiohl',\n",
       " 'fbioij',\n",
       " 'fbioik',\n",
       " 'fbioil',\n",
       " 'fcgmgj',\n",
       " 'fcgmgk',\n",
       " 'fcgmgl',\n",
       " 'fcgmhj',\n",
       " 'fcgmhk',\n",
       " 'fcgmhl',\n",
       " 'fcgmij',\n",
       " 'fcgmik',\n",
       " 'fcgmil',\n",
       " 'fcgngj',\n",
       " 'fcgngk',\n",
       " 'fcgngl',\n",
       " 'fcgnhj',\n",
       " 'fcgnhk',\n",
       " 'fcgnhl',\n",
       " 'fcgnij',\n",
       " 'fcgnik',\n",
       " 'fcgnil',\n",
       " 'fcgogj',\n",
       " 'fcgogk',\n",
       " 'fcgogl',\n",
       " 'fcgohj',\n",
       " 'fcgohk',\n",
       " 'fcgohl',\n",
       " 'fcgoij',\n",
       " 'fcgoik',\n",
       " 'fcgoil',\n",
       " 'fchmgj',\n",
       " 'fchmgk',\n",
       " 'fchmgl',\n",
       " 'fchmhj',\n",
       " 'fchmhk',\n",
       " 'fchmhl',\n",
       " 'fchmij',\n",
       " 'fchmik',\n",
       " 'fchmil',\n",
       " 'fchngj',\n",
       " 'fchngk',\n",
       " 'fchngl',\n",
       " 'fchnhj',\n",
       " 'fchnhk',\n",
       " 'fchnhl',\n",
       " 'fchnij',\n",
       " 'fchnik',\n",
       " 'fchnil',\n",
       " 'fchogj',\n",
       " 'fchogk',\n",
       " 'fchogl',\n",
       " 'fchohj',\n",
       " 'fchohk',\n",
       " 'fchohl',\n",
       " 'fchoij',\n",
       " 'fchoik',\n",
       " 'fchoil',\n",
       " 'fcimgj',\n",
       " 'fcimgk',\n",
       " 'fcimgl',\n",
       " 'fcimhj',\n",
       " 'fcimhk',\n",
       " 'fcimhl',\n",
       " 'fcimij',\n",
       " 'fcimik',\n",
       " 'fcimil',\n",
       " 'fcingj',\n",
       " 'fcingk',\n",
       " 'fcingl',\n",
       " 'fcinhj',\n",
       " 'fcinhk',\n",
       " 'fcinhl',\n",
       " 'fcinij',\n",
       " 'fcinik',\n",
       " 'fcinil',\n",
       " 'fciogj',\n",
       " 'fciogk',\n",
       " 'fciogl',\n",
       " 'fciohj',\n",
       " 'fciohk',\n",
       " 'fciohl',\n",
       " 'fcioij',\n",
       " 'fcioik',\n",
       " 'fcioil']"
      ]
     },
     "execution_count": 6,
     "metadata": {},
     "output_type": "execute_result"
    }
   ],
   "source": [
    "letterCombinations(None,'324645')"
   ]
  },
  {
   "cell_type": "code",
   "execution_count": 8,
   "metadata": {},
   "outputs": [],
   "source": [
    "def letterCombinations(self, digits: str) -> str:         \n",
    "    conversion={'2':'abc','3':'def','4':'ghi','5':'jkl','6':'mno','7':'pqrs','8':'tuv','9':'wxyz'}\n",
    "    if len(digits)==0:\n",
    "        return [] \n",
    "    product=['']\n",
    "    for k in digits:\n",
    "        product=[i+j for i in product for j in conversion[k]]\n",
    "    return product"
   ]
  },
  {
   "cell_type": "markdown",
   "metadata": {},
   "source": [
    "# 有效的括号"
   ]
  },
  {
   "cell_type": "code",
   "execution_count": 46,
   "metadata": {},
   "outputs": [],
   "source": [
    "def isValid(self, s: str) -> bool:\n",
    "    ans = []\n",
    "    left = {'(': ')', '[': ']', '{': '}'}\n",
    "    for c in s:\n",
    "        if c in left:\n",
    "            ans.append(c)\n",
    "        elif c == ' ':\n",
    "            continue\n",
    "        elif ans != [] and c == left[ans[-1]]:\n",
    "            ans.pop()\n",
    "        else:\n",
    "            return False\n",
    "    return ans==[]\n",
    "            "
   ]
  },
  {
   "cell_type": "code",
   "execution_count": 49,
   "metadata": {},
   "outputs": [
    {
     "data": {
      "text/plain": [
       "True"
      ]
     },
     "execution_count": 49,
     "metadata": {},
     "output_type": "execute_result"
    }
   ],
   "source": [
    "isValid(None,'([])')"
   ]
  },
  {
   "cell_type": "code",
   "execution_count": 7,
   "metadata": {},
   "outputs": [],
   "source": [
    "def generateParenthesis(self, n: int) -> [str]:\n",
    "        if n == 0:\n",
    "            return []\n",
    "        total_l = []\n",
    "        total_l.append([None])    # 0组括号时记为None\n",
    "        total_l.append([\"()\"])    # 1组括号只有一种情况\n",
    "        for i in range(2,n+1):    # 开始计算i组括号时的括号组合\n",
    "            l = []        \n",
    "            for j in range(i):    # 开始遍历 p q ，其中p+q=i-1 , j 作为索引\n",
    "                now_list1 = total_l[j]    # p = j 时的括号组合情况\n",
    "                now_list2 = total_l[i-1-j]    # q = (i-1) - j 时的括号组合情况\n",
    "                for k1 in now_list1:  \n",
    "                    for k2 in now_list2:\n",
    "                        if k1 == None:\n",
    "                            k1 = \"\"\n",
    "                        if k2 == None:\n",
    "                            k2 = \"\"\n",
    "                        el = \"(\" + k1 + \")\" + k2\n",
    "                        l.append(el)    # 把所有可能的情况添加到 l 中\n",
    "            total_l.append(l)    # l这个list就是i组括号的所有情况，添加到total_l中，继续求解i=i+1的情况\n",
    "        return total_l[n]"
   ]
  },
  {
   "cell_type": "code",
   "execution_count": 10,
   "metadata": {},
   "outputs": [
    {
     "data": {
      "text/plain": [
       "['()()()', '()(())', '(())()', '(()())', '((()))']"
      ]
     },
     "execution_count": 10,
     "metadata": {},
     "output_type": "execute_result"
    }
   ],
   "source": [
    "generateParenthesis(None,3)"
   ]
  },
  {
   "cell_type": "code",
   "execution_count": null,
   "metadata": {},
   "outputs": [],
   "source": []
  }
 ],
 "metadata": {
  "kernelspec": {
   "display_name": "Python 3.6.10 64-bit ('py36': conda)",
   "language": "python",
   "name": "python361064bitpy36conda1b2e35c9346148d2a8b6ebb718535481"
  },
  "language_info": {
   "codemirror_mode": {
    "name": "ipython",
    "version": 3
   },
   "file_extension": ".py",
   "mimetype": "text/x-python",
   "name": "python",
   "nbconvert_exporter": "python",
   "pygments_lexer": "ipython3",
   "version": "3.6.10"
  },
  "toc": {
   "base_numbering": 1,
   "nav_menu": {},
   "number_sections": true,
   "sideBar": true,
   "skip_h1_title": false,
   "title_cell": "Table of Contents",
   "title_sidebar": "Contents",
   "toc_cell": false,
   "toc_position": {},
   "toc_section_display": true,
   "toc_window_display": false
  },
  "varInspector": {
   "cols": {
    "lenName": 16,
    "lenType": 16,
    "lenVar": 40
   },
   "kernels_config": {
    "python": {
     "delete_cmd_postfix": "",
     "delete_cmd_prefix": "del ",
     "library": "var_list.py",
     "varRefreshCmd": "print(var_dic_list())"
    },
    "r": {
     "delete_cmd_postfix": ") ",
     "delete_cmd_prefix": "rm(",
     "library": "var_list.r",
     "varRefreshCmd": "cat(var_dic_list()) "
    }
   },
   "types_to_exclude": [
    "module",
    "function",
    "builtin_function_or_method",
    "instance",
    "_Feature"
   ],
   "window_display": false
  }
 },
 "nbformat": 4,
 "nbformat_minor": 2
}
