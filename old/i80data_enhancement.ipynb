{
 "cells": [
  {
   "cell_type": "markdown",
   "metadata": {},
   "source": [
    "# 载入数据"
   ]
  },
  {
   "cell_type": "code",
   "execution_count": 1,
   "metadata": {},
   "outputs": [],
   "source": [
    "import numpy as np\n",
    "import pandas as pd"
   ]
  },
  {
   "cell_type": "code",
   "execution_count": 2,
   "metadata": {
    "scrolled": true
   },
   "outputs": [
    {
     "name": "stdout",
     "output_type": "stream",
     "text": [
      "(2118, 3)\n",
      "(530, 10, 2)\n"
     ]
    }
   ],
   "source": [
    "Intrain = np.load('Intrain1.npy')\n",
    "Outtrain = np.load('Outtrain1.npy')\n",
    "Outlanetrain = np.load('Outlanetrain1.npy')\n",
    "\n",
    "Intest = np.load('Intest1.npy')\n",
    "Outtest = np.load('Outtest1.npy')\n",
    "Outlanetest = np.load('Outlanetest1.npy')\n",
    "\n",
    "\n",
    "print(Outlanetrain.shape)\n",
    "print(Outtest.shape)"
   ]
  },
  {
   "cell_type": "markdown",
   "metadata": {},
   "source": [
    "# 数据增强"
   ]
  },
  {
   "cell_type": "markdown",
   "metadata": {},
   "source": [
    "## 训练集数据提取"
   ]
  },
  {
   "cell_type": "code",
   "execution_count": 3,
   "metadata": {},
   "outputs": [
    {
     "name": "stdout",
     "output_type": "stream",
     "text": [
      "73 \n",
      "\n",
      " {21: [0, 0, 1], 73: [1, 0, 0], 94: [0, 0, 1], 141: [1, 0, 0], 260: [1, 0, 0], 261: [0, 0, 1], 270: [0, 0, 1], 281: [0, 0, 1], 314: [0, 0, 1], 378: [0, 0, 1], 446: [0, 0, 1], 448: [0, 0, 1], 483: [0, 0, 1], 502: [0, 0, 1], 552: [0, 0, 1], 568: [0, 0, 1], 578: [0, 0, 1], 584: [0, 0, 1], 630: [0, 0, 1], 800: [0, 0, 1], 826: [1, 0, 0], 829: [0, 0, 1], 835: [0, 0, 1], 855: [0, 0, 1], 872: [0, 0, 1], 906: [1, 0, 0], 995: [0, 0, 1], 1023: [0, 0, 1], 1069: [1, 0, 0], 1072: [0, 0, 1], 1088: [0, 0, 1], 1104: [0, 0, 1], 1108: [0, 0, 1], 1113: [1, 0, 0], 1127: [1, 0, 0], 1128: [1, 0, 0], 1163: [0, 0, 1], 1180: [0, 0, 1], 1182: [0, 0, 1], 1205: [0, 0, 1], 1257: [0, 0, 1], 1274: [1, 0, 0], 1276: [1, 0, 0], 1309: [1, 0, 0], 1322: [0, 0, 1], 1342: [0, 0, 1], 1353: [0, 0, 1], 1361: [0, 0, 1], 1373: [0, 0, 1], 1383: [0, 0, 1], 1407: [0, 0, 1], 1452: [1, 0, 0], 1454: [0, 0, 1], 1589: [0, 0, 1], 1718: [0, 0, 1], 1719: [1, 0, 0], 1721: [0, 0, 1], 1732: [0, 0, 1], 1746: [0, 0, 1], 1778: [0, 0, 1], 1847: [0, 0, 1], 1860: [0, 0, 1], 1863: [0, 0, 1], 1940: [0, 0, 1], 1956: [0, 0, 1], 1992: [0, 0, 1], 2000: [0, 0, 1], 2010: [0, 0, 1], 2038: [0, 0, 1], 2060: [0, 0, 1], 2071: [0, 0, 1], 2085: [0, 0, 1], 2101: [0, 0, 1]}\n"
     ]
    }
   ],
   "source": [
    "dic = {}\n",
    "\n",
    "for i in range(Outlanetrain.shape[0]):\n",
    "    if list(Outlanetrain[i]) == [1, 0, 0]:\n",
    "        dic[i] = [1, 0, 0]\n",
    "    elif list(Outlanetrain[i]) == [0, 0, 1]:\n",
    "        dic[i] = [0, 0, 1]\n",
    "    else:\n",
    "        continue\n",
    "\n",
    "print(len(dic), '\\n\\n', dic)\n",
    "\n",
    "newIntrain = []\n",
    "newOuttrain = []\n",
    "for i in dic:\n",
    "    newIntrain.append(Intrain[i])\n",
    "    newOuttrain.append(Outtrain[i])\n",
    "\n",
    "newIntrain = np.array(newIntrain)\n",
    "newOuttrain = np.array(newOuttrain)\n",
    "newOutlanetrain = np.array(list(dic.values()))"
   ]
  },
  {
   "cell_type": "markdown",
   "metadata": {},
   "source": [
    "## 测试集数据提取"
   ]
  },
  {
   "cell_type": "code",
   "execution_count": 4,
   "metadata": {},
   "outputs": [
    {
     "name": "stdout",
     "output_type": "stream",
     "text": [
      "19 \n",
      "\n",
      " {44: [0, 0, 1], 66: [0, 0, 1], 184: [1, 0, 0], 202: [0, 0, 1], 237: [1, 0, 0], 240: [0, 0, 1], 285: [0, 0, 1], 293: [0, 0, 1], 336: [0, 0, 1], 365: [0, 0, 1], 388: [0, 0, 1], 404: [1, 0, 0], 407: [0, 0, 1], 413: [0, 0, 1], 415: [1, 0, 0], 416: [0, 0, 1], 452: [0, 0, 1], 461: [0, 0, 1], 463: [1, 0, 0]}\n"
     ]
    }
   ],
   "source": [
    "dic = {}\n",
    "\n",
    "for i in range(Outlanetest.shape[0]):\n",
    "    if list(Outlanetest[i]) == [1, 0, 0]:\n",
    "        dic[i] = [1, 0, 0]\n",
    "    elif list(Outlanetest[i]) == [0, 0, 1]:\n",
    "        dic[i] = [0, 0, 1]\n",
    "    else:\n",
    "        continue\n",
    "\n",
    "\n",
    "print(len(dic), '\\n\\n', dic)\n",
    "\n",
    "newIntest = []\n",
    "newOuttest = []\n",
    "for i in dic:\n",
    "    newIntest.append(Intest[i])\n",
    "    newOuttest.append(Outtest[i])\n",
    "\n",
    "newIntest = np.array(newIntest)\n",
    "newOuttest = np.array(newOuttest)\n",
    "newOutlanetest = np.array(list(dic.values()))"
   ]
  },
  {
   "cell_type": "markdown",
   "metadata": {},
   "source": [
    "## 数据扩展"
   ]
  },
  {
   "cell_type": "code",
   "execution_count": 5,
   "metadata": {},
   "outputs": [
    {
     "name": "stdout",
     "output_type": "stream",
     "text": [
      "(4235, 10, 2) (4235, 3) (4235, 10, 2) (1043, 10, 2) (1043, 3) (1043, 10, 2)\n"
     ]
    }
   ],
   "source": [
    "# 扩展比例\n",
    "ratio1 = len(Intrain)//len(newOutlanetrain)\n",
    "ratio2 = len(Intest)//len(newOutlanetest)\n",
    "\n",
    "# 训练集\n",
    "InLtrain = []\n",
    "EnOuttrain = []\n",
    "OutLtrain = []\n",
    "\n",
    "for i in range(Intrain.shape[0]):\n",
    "    InLtrain.append(Intrain[i])\n",
    "    EnOuttrain.append(Outtrain[i])\n",
    "    OutLtrain.append(Outlanetrain[i])\n",
    "\n",
    "for i in range(ratio1):\n",
    "    for j in range(len(newIntrain)):\n",
    "        InLtrain.append(newIntrain[j])\n",
    "        EnOuttrain.append(newOuttrain[j])\n",
    "        OutLtrain.append(newOutlanetrain[j])\n",
    "\n",
    "# 测试集\n",
    "InLtest = []\n",
    "EnOuttest = []\n",
    "OutLtest = []\n",
    "\n",
    "for i in range(Intest.shape[0]):\n",
    "    InLtest.append(Intest[i])\n",
    "    EnOuttest.append(Outtest[i])\n",
    "    OutLtest.append(Outlanetest[i])\n",
    "\n",
    "for i in range(ratio2):\n",
    "    for j in range(len(newIntest)):\n",
    "        InLtest.append(newIntest[j])\n",
    "        EnOuttest.append(newOuttest[j])\n",
    "        OutLtest.append(newOutlanetest[j])\n",
    "\n",
    "print(np.shape(InLtrain), np.shape(OutLtrain),np.shape(EnOuttrain),\n",
    "      np.shape(InLtest), np.shape(OutLtest),np.shape(EnOuttest))"
   ]
  },
  {
   "cell_type": "code",
   "execution_count": 6,
   "metadata": {},
   "outputs": [],
   "source": [
    "np.save('EnIntrain1',InLtrain)\n",
    "np.save('EnOutLtrain1',OutLtrain)\n",
    "np.save('EnOuttrain1',EnOuttrain)\n",
    "np.save('EnIntest1',InLtest)\n",
    "np.save('EnOuttest1',EnOuttest)\n",
    "np.save('EnOutLtest1',OutLtest)"
   ]
  },
  {
   "cell_type": "code",
   "execution_count": null,
   "metadata": {},
   "outputs": [],
   "source": []
  }
 ],
 "metadata": {
  "kernelspec": {
   "display_name": "Python 3.6.10 64-bit ('py36': conda)",
   "language": "python",
   "name": "python361064bitpy36conda1b2e35c9346148d2a8b6ebb718535481"
  },
  "language_info": {
   "codemirror_mode": {
    "name": "ipython",
    "version": 3
   },
   "file_extension": ".py",
   "mimetype": "text/x-python",
   "name": "python",
   "nbconvert_exporter": "python",
   "pygments_lexer": "ipython3",
   "version": "3.6.10"
  },
  "toc": {
   "base_numbering": 1,
   "nav_menu": {},
   "number_sections": true,
   "sideBar": true,
   "skip_h1_title": false,
   "title_cell": "Table of Contents",
   "title_sidebar": "Contents",
   "toc_cell": false,
   "toc_position": {},
   "toc_section_display": true,
   "toc_window_display": true
  },
  "varInspector": {
   "cols": {
    "lenName": 16,
    "lenType": 16,
    "lenVar": 40
   },
   "kernels_config": {
    "python": {
     "delete_cmd_postfix": "",
     "delete_cmd_prefix": "del ",
     "library": "var_list.py",
     "varRefreshCmd": "print(var_dic_list())"
    },
    "r": {
     "delete_cmd_postfix": ") ",
     "delete_cmd_prefix": "rm(",
     "library": "var_list.r",
     "varRefreshCmd": "cat(var_dic_list()) "
    }
   },
   "types_to_exclude": [
    "module",
    "function",
    "builtin_function_or_method",
    "instance",
    "_Feature"
   ],
   "window_display": false
  }
 },
 "nbformat": 4,
 "nbformat_minor": 2
}
