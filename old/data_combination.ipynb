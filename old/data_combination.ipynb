{
 "cells": [
  {
   "cell_type": "markdown",
   "metadata": {},
   "source": [
    "# 导入库"
   ]
  },
  {
   "cell_type": "code",
   "execution_count": 1,
   "metadata": {},
   "outputs": [],
   "source": [
    "import numpy as np\n",
    "import pandas as pd"
   ]
  },
  {
   "cell_type": "markdown",
   "metadata": {},
   "source": [
    "# i80数据"
   ]
  },
  {
   "cell_type": "code",
   "execution_count": 2,
   "metadata": {},
   "outputs": [
    {
     "name": "stdout",
     "output_type": "stream",
     "text": [
      "(3507, 10, 2) (3507, 10, 2) (3507, 3) (883, 10, 2) (883, 10, 2) (883, 3)\n"
     ]
    }
   ],
   "source": [
    "EnIntrain = np.load('EnIntrain1.npy')\n",
    "EnOuttrain = np.load('EnOuttrain1.npy')\n",
    "EnOutLtrain = np.load('EnOutLtrain1.npy')\n",
    "\n",
    "EnIntest = np.load('EnIntest1.npy')\n",
    "EnOuttest = np.load('EnOuttest1.npy')\n",
    "EnOutLtest = np.load('EnOutLtest1.npy')\n",
    "\n",
    "print(EnIntrain.shape,EnOuttrain.shape,EnOutLtrain.shape,EnIntest.shape,EnOuttest.shape,EnOutLtest.shape)"
   ]
  },
  {
   "cell_type": "code",
   "execution_count": 3,
   "metadata": {},
   "outputs": [
    {
     "data": {
      "text/plain": [
       "(3507, 10, 5)"
      ]
     },
     "execution_count": 3,
     "metadata": {},
     "output_type": "execute_result"
    }
   ],
   "source": [
    "ComIntrain1 = []\n",
    "for i in range(EnIntrain.shape[0]):\n",
    "    middle = []\n",
    "    for j in range(EnIntrain.shape[1]):\n",
    "        middle.append(list(EnIntrain[i][j])+list(EnOutLtrain[i]))\n",
    "    ComIntrain1.append(middle)\n",
    "ComIntrain1 = np.array(ComIntrain1)\n",
    "ComIntrain1.shape"
   ]
  },
  {
   "cell_type": "code",
   "execution_count": 4,
   "metadata": {},
   "outputs": [
    {
     "data": {
      "text/plain": [
       "(883, 10, 5)"
      ]
     },
     "execution_count": 4,
     "metadata": {},
     "output_type": "execute_result"
    }
   ],
   "source": [
    "ComIntest1 = []\n",
    "for i in range(EnIntest.shape[0]):\n",
    "    middle = []\n",
    "    for j in range(EnIntest.shape[1]):\n",
    "        middle.append(list(EnIntest[i][j])+list(EnOutLtest[i]))\n",
    "    ComIntest1.append(middle)\n",
    "ComIntest1 = np.array(ComIntest1)\n",
    "ComIntest1.shape"
   ]
  },
  {
   "cell_type": "markdown",
   "metadata": {},
   "source": [
    "# us101数据"
   ]
  },
  {
   "cell_type": "code",
   "execution_count": 5,
   "metadata": {},
   "outputs": [
    {
     "name": "stdout",
     "output_type": "stream",
     "text": [
      "(2767, 10, 2) (2767, 10, 2) (2767, 3) (704, 10, 2) (704, 10, 2) (704, 3)\n"
     ]
    }
   ],
   "source": [
    "EnIntrain = np.load('EnIntrain2.npy')\n",
    "EnOuttrain = np.load('EnOuttrain2.npy')\n",
    "EnOutLtrain = np.load('EnOutLtrain2.npy')\n",
    "\n",
    "EnIntest = np.load('EnIntest2.npy')\n",
    "EnOuttest = np.load('EnOuttest2.npy')\n",
    "EnOutLtest = np.load('EnOutLtest2.npy')\n",
    "\n",
    "print(EnIntrain.shape,EnOuttrain.shape,EnOutLtrain.shape,EnIntest.shape,EnOuttest.shape,EnOutLtest.shape)"
   ]
  },
  {
   "cell_type": "code",
   "execution_count": 6,
   "metadata": {},
   "outputs": [
    {
     "data": {
      "text/plain": [
       "(2767, 10, 5)"
      ]
     },
     "execution_count": 6,
     "metadata": {},
     "output_type": "execute_result"
    }
   ],
   "source": [
    "ComIntrain2 = []\n",
    "for i in range(EnIntrain.shape[0]):\n",
    "    middle = []\n",
    "    for j in range(EnIntrain.shape[1]):\n",
    "        middle.append(list(EnIntrain[i][j])+list(EnOutLtrain[i]))\n",
    "    ComIntrain2.append(middle)\n",
    "ComIntrain2 = np.array(ComIntrain2)\n",
    "ComIntrain2.shape"
   ]
  },
  {
   "cell_type": "code",
   "execution_count": 7,
   "metadata": {},
   "outputs": [
    {
     "data": {
      "text/plain": [
       "(704, 10, 5)"
      ]
     },
     "execution_count": 7,
     "metadata": {},
     "output_type": "execute_result"
    }
   ],
   "source": [
    "ComIntest2 = []\n",
    "for i in range(EnIntest.shape[0]):\n",
    "    middle = []\n",
    "    for j in range(EnIntest.shape[1]):\n",
    "        middle.append(list(EnIntest[i][j])+list(EnOutLtest[i]))\n",
    "    ComIntest2.append(middle)\n",
    "ComIntest2 = np.array(ComIntest2)\n",
    "ComIntest2.shape"
   ]
  },
  {
   "cell_type": "markdown",
   "metadata": {},
   "source": [
    "# 保存数据"
   ]
  },
  {
   "cell_type": "code",
   "execution_count": 8,
   "metadata": {},
   "outputs": [],
   "source": [
    "np.save('ComIntrain1',ComIntrain1)\n",
    "np.save('ComIntest1',ComIntest1)\n",
    "\n",
    "np.save('ComIntrain2',ComIntrain2)\n",
    "np.save('ComIntest2',ComIntest2)"
   ]
  },
  {
   "cell_type": "code",
   "execution_count": null,
   "metadata": {},
   "outputs": [],
   "source": []
  }
 ],
 "metadata": {
  "kernelspec": {
   "display_name": "Python 3.6.10 64-bit ('py36': conda)",
   "language": "python",
   "name": "python361064bitpy36conda1b2e35c9346148d2a8b6ebb718535481"
  },
  "language_info": {
   "codemirror_mode": {
    "name": "ipython",
    "version": 3
   },
   "file_extension": ".py",
   "mimetype": "text/x-python",
   "name": "python",
   "nbconvert_exporter": "python",
   "pygments_lexer": "ipython3",
   "version": "3.6.10"
  },
  "toc": {
   "base_numbering": 1,
   "nav_menu": {},
   "number_sections": true,
   "sideBar": true,
   "skip_h1_title": false,
   "title_cell": "Table of Contents",
   "title_sidebar": "Contents",
   "toc_cell": false,
   "toc_position": {},
   "toc_section_display": true,
   "toc_window_display": true
  },
  "varInspector": {
   "cols": {
    "lenName": 16,
    "lenType": 16,
    "lenVar": 40
   },
   "kernels_config": {
    "python": {
     "delete_cmd_postfix": "",
     "delete_cmd_prefix": "del ",
     "library": "var_list.py",
     "varRefreshCmd": "print(var_dic_list())"
    },
    "r": {
     "delete_cmd_postfix": ") ",
     "delete_cmd_prefix": "rm(",
     "library": "var_list.r",
     "varRefreshCmd": "cat(var_dic_list()) "
    }
   },
   "types_to_exclude": [
    "module",
    "function",
    "builtin_function_or_method",
    "instance",
    "_Feature"
   ],
   "window_display": false
  }
 },
 "nbformat": 4,
 "nbformat_minor": 2
}
