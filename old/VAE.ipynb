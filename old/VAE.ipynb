{
 "cells": [
  {
   "cell_type": "markdown",
   "metadata": {},
   "source": [
    "# 库导入"
   ]
  },
  {
   "cell_type": "code",
   "execution_count": 18,
   "metadata": {},
   "outputs": [
    {
     "name": "stdout",
     "output_type": "stream",
     "text": [
      "1 Physical GPUs, 1 Logical GPUs\n"
     ]
    }
   ],
   "source": [
    "from tensorflow.keras.layers import *\n",
    "from tensorflow.keras.models import Model\n",
    "from tensorflow.keras import backend as K\n",
    "import tensorflow as tf\n",
    "import numpy as np\n",
    "from tensorflow.keras.layers import Input\n",
    "from tensorflow.keras.optimizers import Adam\n",
    "import matplotlib.pyplot as plt\n",
    "from tensorflow.keras.losses import mse\n",
    "\n",
    "tf.compat.v1.disable_eager_execution()\n",
    "\n",
    "gpus = tf.config.experimental.list_physical_devices('GPU')\n",
    "if gpus:\n",
    "  try:\n",
    "    # Currently, memory growth needs to be the same across GPUs\n",
    "    for gpu in gpus:\n",
    "      tf.config.experimental.set_memory_growth(gpu, True)\n",
    "    logical_gpus = tf.config.experimental.list_logical_devices('GPU')\n",
    "    print(len(gpus), \"Physical GPUs,\", len(logical_gpus), \"Logical GPUs\")\n",
    "  except RuntimeError as e:\n",
    "    # Memory growth must be set before GPUs have been initialized\n",
    "    print(e)"
   ]
  },
  {
   "cell_type": "markdown",
   "metadata": {},
   "source": [
    "# 数据导入"
   ]
  },
  {
   "cell_type": "code",
   "execution_count": 19,
   "metadata": {},
   "outputs": [
    {
     "name": "stdout",
     "output_type": "stream",
     "text": [
      "(4353, 10, 5) (4353, 10, 2) (4353, 10, 2) (4353, 3) (1110, 10, 2) (1110, 3)\n"
     ]
    }
   ],
   "source": [
    "indexx = 1\n",
    "\n",
    "Intrain = np.load('ComIntrain%s.npy'%indexx)\n",
    "Outtrain = np.load('EnOuttrain%s.npy'%indexx)\n",
    "\n",
    "InLtrain = np.load('EnIntrain%s.npy'%indexx)\n",
    "OutLtrain = np.load('EnOutLtrain%s.npy'%indexx)\n",
    "\n",
    "Intest = np.load('ComIntest%s.npy'%indexx)\n",
    "Outtest = np.load('EnOuttest%s.npy'%indexx)\n",
    "\n",
    "InLtest = np.load('EnIntest%s.npy'%indexx)\n",
    "OutLtest = np.load('EnOutLtest%s.npy'%indexx)\n",
    "\n",
    "\n",
    "print(Intrain.shape,Outtrain.shape,InLtrain.shape, OutLtrain.shape, Outtest.shape, OutLtest.shape)"
   ]
  },
  {
   "cell_type": "markdown",
   "metadata": {},
   "source": [
    "# 参数设置"
   ]
  },
  {
   "cell_type": "code",
   "execution_count": 20,
   "metadata": {},
   "outputs": [],
   "source": [
    "# 基本参数\n",
    "batch_size = 60\n",
    "epochs = 25\n",
    "latent_dim = 72  # LSTM 的单元个数\n",
    "encoder_length = InLtrain.shape[1]\n",
    "decoder_length = Outtrain.shape[1]\n",
    "num_encoder_tokens = InLtrain.shape[2]\n",
    "num_decoder_tokens = Outtrain.shape[2]"
   ]
  },
  {
   "cell_type": "markdown",
   "metadata": {},
   "source": [
    "# 采样"
   ]
  },
  {
   "cell_type": "code",
   "execution_count": 21,
   "metadata": {},
   "outputs": [],
   "source": [
    "def sampling(args):\n",
    "    z_mean, z_log_var = args\n",
    "    batch = K.shape(z_mean)[0]\n",
    "    dim = K.int_shape(z_mean)[1]\n",
    "    epsilon = K.random_normal(shape=(batch, dim))\n",
    "    return z_mean + K.exp(0.5 * z_log_var) * epsilon"
   ]
  },
  {
   "cell_type": "markdown",
   "metadata": {},
   "source": [
    "# 损失函数"
   ]
  },
  {
   "cell_type": "code",
   "execution_count": 22,
   "metadata": {},
   "outputs": [],
   "source": [
    "def VAE_loss(y_true, y_predicted):\n",
    "    reconstruction_loss = mse(y_true, y_predicted)\n",
    "    reconstruction_loss *= num_encoder_tokens\n",
    "    return K.mean(reconstruction_loss)\n",
    "\n",
    "\n",
    "def KL(z_mean, z_log_var):\n",
    "    kl_loss = 1 + z_log_var - K.square(z_mean) - K.exp(z_log_var)\n",
    "    kl_loss = K.sum(kl_loss, axis=-1)\n",
    "    kl_loss *= - 0.5\n",
    "    return K.mean(kl_loss)"
   ]
  },
  {
   "cell_type": "markdown",
   "metadata": {},
   "source": [
    "# 编码解码器"
   ]
  },
  {
   "cell_type": "code",
   "execution_count": 23,
   "metadata": {},
   "outputs": [
    {
     "name": "stdout",
     "output_type": "stream",
     "text": [
      "WARNING:tensorflow:Layer lstm_3 will not use cuDNN kernel since it doesn't meet the cuDNN kernel criteria. It will use generic GPU kernel as fallback when running on GPU\n",
      "WARNING:tensorflow:Layer lstm_4 will not use cuDNN kernel since it doesn't meet the cuDNN kernel criteria. It will use generic GPU kernel as fallback when running on GPU\n",
      "WARNING:tensorflow:Layer lstm_4 will not use cuDNN kernel since it doesn't meet the cuDNN kernel criteria. It will use generic GPU kernel as fallback when running on GPU\n",
      "WARNING:tensorflow:Layer lstm_4 will not use cuDNN kernel since it doesn't meet the cuDNN kernel criteria. It will use generic GPU kernel as fallback when running on GPU\n",
      "Model: \"functional_3\"\n",
      "__________________________________________________________________________________________________\n",
      "Layer (type)                    Output Shape         Param #     Connected to                     \n",
      "==================================================================================================\n",
      "input_3 (InputLayer)            [(None, 10, 2)]      0                                            \n",
      "__________________________________________________________________________________________________\n",
      "lstm_3 (LSTM)                   [(None, 72), (None,  21600       input_3[0][0]                    \n",
      "__________________________________________________________________________________________________\n",
      "z_mean1 (Dense)                 (None, 8)            584         lstm_3[0][0]                     \n",
      "__________________________________________________________________________________________________\n",
      "z_log_var1 (Dense)              (None, 8)            584         lstm_3[0][0]                     \n",
      "__________________________________________________________________________________________________\n",
      "z_mean2 (Dense)                 (None, 2)            18          z_mean1[0][0]                    \n",
      "__________________________________________________________________________________________________\n",
      "z_log_var2 (Dense)              (None, 2)            18          z_log_var1[0][0]                 \n",
      "__________________________________________________________________________________________________\n",
      "z (Lambda)                      (None, 2)            0           z_mean2[0][0]                    \n",
      "                                                                 z_log_var2[0][0]                 \n",
      "__________________________________________________________________________________________________\n",
      "repeat_vector_1 (RepeatVector)  (None, 10, 2)        0           z[0][0]                          \n",
      "__________________________________________________________________________________________________\n",
      "lstm_1 (LSTM)                   (None, 10, 72)       21600       repeat_vector_1[0][0]            \n",
      "                                                                 lstm_3[0][1]                     \n",
      "                                                                 lstm_3[0][2]                     \n",
      "__________________________________________________________________________________________________\n",
      "dense_3 (Dense)                 (None, 10, 8)        584         lstm_1[1][0]                     \n",
      "__________________________________________________________________________________________________\n",
      "dense_4 (Dense)                 (None, 10, 5)        45          dense_3[0][0]                    \n",
      "__________________________________________________________________________________________________\n",
      "dense_5 (Dense)                 (None, 10, 2)        12          dense_4[0][0]                    \n",
      "__________________________________________________________________________________________________\n",
      "tf_op_layer_add_1 (TensorFlowOp [(None, 2)]          0           z_log_var2[0][0]                 \n",
      "__________________________________________________________________________________________________\n",
      "tf_op_layer_Square_1 (TensorFlo [(None, 2)]          0           z_mean2[0][0]                    \n",
      "__________________________________________________________________________________________________\n",
      "tf_op_layer_sub_2 (TensorFlowOp [(None, 2)]          0           tf_op_layer_add_1[0][0]          \n",
      "                                                                 tf_op_layer_Square_1[0][0]       \n",
      "__________________________________________________________________________________________________\n",
      "tf_op_layer_Exp_1 (TensorFlowOp [(None, 2)]          0           z_log_var2[0][0]                 \n",
      "__________________________________________________________________________________________________\n",
      "tf_op_layer_sub_3 (TensorFlowOp [(None, 2)]          0           tf_op_layer_sub_2[0][0]          \n",
      "                                                                 tf_op_layer_Exp_1[0][0]          \n",
      "__________________________________________________________________________________________________\n",
      "tf_op_layer_Sum_1 (TensorFlowOp [(None,)]            0           tf_op_layer_sub_3[0][0]          \n",
      "__________________________________________________________________________________________________\n",
      "tf_op_layer_mul_1 (TensorFlowOp [(None,)]            0           tf_op_layer_Sum_1[0][0]          \n",
      "__________________________________________________________________________________________________\n",
      "tf_op_layer_Mean_1 (TensorFlowO [()]                 0           tf_op_layer_mul_1[0][0]          \n",
      "__________________________________________________________________________________________________\n",
      "add_loss_1 (AddLoss)            ()                   0           tf_op_layer_Mean_1[0][0]         \n",
      "==================================================================================================\n",
      "Total params: 45,045\n",
      "Trainable params: 45,045\n",
      "Non-trainable params: 0\n",
      "__________________________________________________________________________________________________\n",
      "None\n"
     ]
    }
   ],
   "source": [
    "# 定义编码器的输入\n",
    "# encoder_inputs (None, num_encoder_tokens), None表示可以处理任意长度的序列\n",
    "encoder_inputs = Input(shape=(encoder_length, num_encoder_tokens))\n",
    "\n",
    "# 编码器，要求其返回状态\n",
    "encoder = LSTM(latent_dim, return_state=True)\n",
    "\n",
    "# 调用编码器，得到编码器的输出，以及状态信息 state_h 和 state_c\n",
    "encoder_outpus, state_h, state_c = encoder(encoder_inputs)\n",
    "\n",
    "z_mean1 = Dense(8, name='z_mean1')(encoder_outpus)\n",
    "z_mean = Dense(num_decoder_tokens, name='z_mean2')(z_mean1)\n",
    "z_log_var1 = Dense(8, name='z_log_var1')(encoder_outpus)\n",
    "z_log_var = Dense(num_encoder_tokens, name='z_log_var2')(z_log_var1)\n",
    "\n",
    "# 编码器的状态\n",
    "encoder_state = [state_h, state_c]\n",
    "\n",
    "# 采样\n",
    "z = Lambda(sampling, name='z')([z_mean, z_log_var])\n",
    "z = RepeatVector(encoder_length)(z)\n",
    "\n",
    "# 定义解码器的输入\n",
    "# None表示可以处理任意长度的序列\n",
    "\n",
    "# 接下来建立解码器，解码器将返回整个输出序列并且返回其中间状态\n",
    "# decoder_lstm = LSTM(latent_dim, return_sequences=True)\n",
    "dencoder_lstm = Bidirectional(LSTM(latent_dim, return_sequences=True), merge_mode='concat')\n",
    "# 将编码器输出的状态作为初始解码器的初始状态\n",
    "decoder_outputs = decoder_lstm(z, initial_state=encoder_state)\n",
    "\n",
    "# 添加全连接层\n",
    "decoder_dense1 = Dense(8, activation='relu')\n",
    "decoder_dense2 = Dense(5, activation='relu')\n",
    "decoder_dense3 = Dense(num_decoder_tokens, activation='relu')\n",
    "decoder_outputs = decoder_dense3(\n",
    "    decoder_dense2(decoder_dense1(decoder_outputs)))\n",
    "\n",
    "# 定义整个模型\n",
    "model = Model(encoder_inputs, decoder_outputs)\n",
    "\n",
    "# 编译模型\n",
    "\n",
    "model.add_loss(KL(z_mean, z_log_var))\n",
    "model.compile(loss=VAE_loss, optimizer='adam')\n",
    "\n",
    "print(model.summary())"
   ]
  },
  {
   "cell_type": "markdown",
   "metadata": {},
   "source": [
    "# 模型训练与结果分析"
   ]
  },
  {
   "cell_type": "code",
   "execution_count": 24,
   "metadata": {},
   "outputs": [
    {
     "name": "stdout",
     "output_type": "stream",
     "text": [
      "Train on 4353 samples, validate on 1110 samples\n",
      "Epoch 1/30\n",
      "4353/4353 [==============================] - 1s 296us/sample - loss: 0.1429 - val_loss: 0.0798\n",
      "Epoch 2/30\n",
      "4353/4353 [==============================] - 1s 234us/sample - loss: 0.0765 - val_loss: 0.0595\n",
      "Epoch 3/30\n",
      "4353/4353 [==============================] - 1s 241us/sample - loss: 0.0519 - val_loss: 0.0474\n",
      "Epoch 4/30\n",
      "4353/4353 [==============================] - 1s 237us/sample - loss: 0.0423 - val_loss: 0.0398\n",
      "Epoch 5/30\n",
      "4353/4353 [==============================] - 1s 234us/sample - loss: 0.0351 - val_loss: 0.0353\n",
      "Epoch 6/30\n",
      "4353/4353 [==============================] - 1s 239us/sample - loss: 0.0320 - val_loss: 0.0344\n",
      "Epoch 7/30\n",
      "4353/4353 [==============================] - 1s 234us/sample - loss: 0.0308 - val_loss: 0.0329\n",
      "Epoch 8/30\n",
      "4353/4353 [==============================] - 1s 237us/sample - loss: 0.0291 - val_loss: 0.0316\n",
      "Epoch 9/30\n",
      "4353/4353 [==============================] - 1s 235us/sample - loss: 0.0277 - val_loss: 0.0293\n",
      "Epoch 10/30\n",
      "4353/4353 [==============================] - 1s 230us/sample - loss: 0.0271 - val_loss: 0.0288\n",
      "Epoch 11/30\n",
      "4353/4353 [==============================] - 1s 230us/sample - loss: 0.0263 - val_loss: 0.0287\n",
      "Epoch 12/30\n",
      "4353/4353 [==============================] - 1s 230us/sample - loss: 0.0261 - val_loss: 0.0267\n",
      "Epoch 13/30\n",
      "4353/4353 [==============================] - 1s 246us/sample - loss: 0.0257 - val_loss: 0.0275\n",
      "Epoch 14/30\n",
      "4353/4353 [==============================] - 1s 234us/sample - loss: 0.0254 - val_loss: 0.0275\n",
      "Epoch 15/30\n",
      "4353/4353 [==============================] - 1s 235us/sample - loss: 0.0249 - val_loss: 0.0261\n",
      "Epoch 16/30\n",
      "4353/4353 [==============================] - 1s 234us/sample - loss: 0.0245 - val_loss: 0.0277\n",
      "Epoch 17/30\n",
      "4353/4353 [==============================] - 1s 234us/sample - loss: 0.0244 - val_loss: 0.0267\n",
      "Epoch 18/30\n",
      "4353/4353 [==============================] - 1s 232us/sample - loss: 0.0241 - val_loss: 0.0253\n",
      "Epoch 19/30\n",
      "4353/4353 [==============================] - 1s 238us/sample - loss: 0.0238 - val_loss: 0.0254\n",
      "Epoch 20/30\n",
      "4353/4353 [==============================] - 1s 239us/sample - loss: 0.0235 - val_loss: 0.0265\n",
      "Epoch 21/30\n",
      "4353/4353 [==============================] - 1s 237us/sample - loss: 0.0244 - val_loss: 0.0270\n",
      "Epoch 22/30\n",
      "4353/4353 [==============================] - 1s 234us/sample - loss: 0.0234 - val_loss: 0.0256\n",
      "Epoch 23/30\n",
      "4353/4353 [==============================] - 1s 235us/sample - loss: 0.0230 - val_loss: 0.0253\n",
      "Epoch 24/30\n",
      "4353/4353 [==============================] - 1s 230us/sample - loss: 0.0231 - val_loss: 0.0275\n",
      "Epoch 25/30\n",
      "4353/4353 [==============================] - 1s 234us/sample - loss: 0.0230 - val_loss: 0.0265\n",
      "Epoch 26/30\n",
      "4353/4353 [==============================] - 1s 235us/sample - loss: 0.0232 - val_loss: 0.0243\n",
      "Epoch 27/30\n",
      "4353/4353 [==============================] - 1s 237us/sample - loss: 0.0225 - val_loss: 0.0259\n",
      "Epoch 28/30\n",
      "4353/4353 [==============================] - 1s 241us/sample - loss: 0.0233 - val_loss: 0.0240\n",
      "Epoch 29/30\n",
      "4353/4353 [==============================] - 1s 237us/sample - loss: 0.0224 - val_loss: 0.0258\n",
      "Epoch 30/30\n",
      "4353/4353 [==============================] - 1s 234us/sample - loss: 0.0226 - val_loss: 0.0242\n"
     ]
    }
   ],
   "source": [
    "History = model.fit(InLtrain,Outtrain,epochs=epochs,batch_size=batch_size,validation_data=(InLtest,Outtest))"
   ]
  },
  {
   "cell_type": "code",
   "execution_count": 25,
   "metadata": {},
   "outputs": [
    {
     "data": {
      "image/png": "[encoded data removed]",
      "text/plain": [
       "<Figure size 432x288 with 1 Axes>"
      ]
     },
     "metadata": {
      "needs_background": "light"
     },
     "output_type": "display_data"
    }
   ],
   "source": [
    "# 绘制训练 & 验证的损失值\n",
    "plt.plot(History.history['loss'])\n",
    "\n",
    "plt.title('Model loss')\n",
    "plt.ylabel('Loss')\n",
    "plt.xlabel('Epoch')\n",
    "plt.legend(['Train'], loc='upper left')\n",
    "plt.show()"
   ]
  },
  {
   "cell_type": "code",
   "execution_count": 26,
   "metadata": {},
   "outputs": [
    {
     "name": "stdout",
     "output_type": "stream",
     "text": [
      "Loss: 0.023670306701112438\n"
     ]
    }
   ],
   "source": [
    "score = model.evaluate(InLtest, Outtest)\n",
    "print('Loss:', score)"
   ]
  },
  {
   "cell_type": "code",
   "execution_count": 27,
   "metadata": {},
   "outputs": [
    {
     "data": {
      "text/plain": [
       "array([[[0.42436644, 0.42473093],\n",
       "        [0.4258107 , 0.44734043],\n",
       "        [0.42526922, 0.47473583],\n",
       "        ...,\n",
       "        [0.4107399 , 0.60803676],\n",
       "        [0.40585926, 0.63132876],\n",
       "        [0.40180662, 0.653785  ]],\n",
       "\n",
       "       [[0.22005449, 0.55329096],\n",
       "        [0.2191627 , 0.5977689 ],\n",
       "        [0.21206464, 0.647175  ],\n",
       "        ...,\n",
       "        [0.23195004, 0.7944394 ],\n",
       "        [0.2420936 , 0.783577  ],\n",
       "        [0.2532073 , 0.7502532 ]],\n",
       "\n",
       "       [[0.05835769, 0.6448543 ],\n",
       "        [0.0616805 , 0.68710923],\n",
       "        [0.06361169, 0.72898304],\n",
       "        ...,\n",
       "        [0.12982638, 0.78455335],\n",
       "        [0.18176927, 0.6971829 ],\n",
       "        [0.23259276, 0.5957357 ]],\n",
       "\n",
       "       ...,\n",
       "\n",
       "       [[0.3360662 , 0.43963686],\n",
       "        [0.3291427 , 0.47260582],\n",
       "        [0.32002524, 0.51054865],\n",
       "        ...,\n",
       "        [0.31932703, 0.6609957 ],\n",
       "        [0.32179016, 0.6820658 ],\n",
       "        [0.31453222, 0.70413816]],\n",
       "\n",
       "       [[0.10090079, 0.23136397],\n",
       "        [0.0420583 , 0.26814082],\n",
       "        [0.03493262, 0.3442387 ],\n",
       "        ...,\n",
       "        [0.04870078, 0.56512946],\n",
       "        [0.0472946 , 0.59164983],\n",
       "        [0.05795483, 0.60700417]],\n",
       "\n",
       "       [[0.19983274, 0.27175942],\n",
       "        [0.19687434, 0.295208  ],\n",
       "        [0.20461868, 0.3313666 ],\n",
       "        ...,\n",
       "        [0.21480171, 0.5190706 ],\n",
       "        [0.2108674 , 0.54143775],\n",
       "        [0.20535573, 0.56261295]]], dtype=float32)"
      ]
     },
     "execution_count": 27,
     "metadata": {},
     "output_type": "execute_result"
    }
   ],
   "source": [
    "pred = model.predict(InLtest)\n",
    "pred"
   ]
  },
  {
   "cell_type": "code",
   "execution_count": 28,
   "metadata": {},
   "outputs": [
    {
     "data": {
      "image/png": "[encoded data removed]",
      "text/plain": [
       "<Figure size 432x288 with 1 Axes>"
      ]
     },
     "metadata": {
      "needs_background": "light"
     },
     "output_type": "display_data"
    }
   ],
   "source": [
    "i = 56\n",
    "\n",
    "apred = pred[i].swapaxes(0, 1)\n",
    "\n",
    "aIntest = Intest[i].swapaxes(0, 1)\n",
    "aOuttest = Outtest[i].swapaxes(0, 1)\n",
    "# print(aIntest)\n",
    "\n",
    "plt.plot(aOuttest[1], aOuttest[0], lw=2, label=\"Outtest\")\n",
    "plt.scatter(apred[1], apred[0], lw=2, label=\"Model1\")\n",
    "plt.plot(aIntest[1], aIntest[0], lw=2, label=\"Intest\")\n",
    "\n",
    "plt.plot(np.linspace(0, 1, 2), [0.8, 0.8], lw=2, linestyle='--')\n",
    "plt.plot(np.linspace(0, 1, 2), [0.6, 0.6], lw=2, linestyle='--')\n",
    "plt.plot(np.linspace(0, 1, 2), [0.4, 0.4], lw=2, linestyle='--')\n",
    "plt.plot(np.linspace(0, 1, 2), [0.2, 0.2], lw=2, linestyle='--')\n",
    "\n",
    "plt.xlim(0, 1)\n",
    "plt.ylim(0, 1)\n",
    "plt.title('trajectory')\n",
    "plt.ylabel('horizontal')\n",
    "plt.xlabel('longitudinal')\n",
    "plt.legend()\n",
    "plt.show()"
   ]
  },
  {
   "cell_type": "code",
   "execution_count": null,
   "metadata": {},
   "outputs": [],
   "source": []
  }
 ],
 "metadata": {
  "kernelspec": {
   "display_name": "Python 3.6.10 64-bit ('py36': conda)",
   "language": "python",
   "name": "python361064bitpy36conda1b2e35c9346148d2a8b6ebb718535481"
  },
  "language_info": {
   "codemirror_mode": {
    "name": "ipython",
    "version": 3
   },
   "file_extension": ".py",
   "mimetype": "text/x-python",
   "name": "python",
   "nbconvert_exporter": "python",
   "pygments_lexer": "ipython3",
   "version": "3.6.10"
  },
  "toc": {
   "base_numbering": 1,
   "nav_menu": {},
   "number_sections": true,
   "sideBar": true,
   "skip_h1_title": false,
   "title_cell": "Table of Contents",
   "title_sidebar": "Contents",
   "toc_cell": false,
   "toc_position": {
    "height": "calc(100% - 180px)",
    "left": "10px",
    "top": "150px",
    "width": "258.6px"
   },
   "toc_section_display": true,
   "toc_window_display": true
  },
  "varInspector": {
   "cols": {
    "lenName": 16,
    "lenType": 16,
    "lenVar": 40
   },
   "kernels_config": {
    "python": {
     "delete_cmd_postfix": "",
     "delete_cmd_prefix": "del ",
     "library": "var_list.py",
     "varRefreshCmd": "print(var_dic_list())"
    },
    "r": {
     "delete_cmd_postfix": ") ",
     "delete_cmd_prefix": "rm(",
     "library": "var_list.r",
     "varRefreshCmd": "cat(var_dic_list()) "
    }
   },
   "types_to_exclude": [
    "module",
    "function",
    "builtin_function_or_method",
    "instance",
    "_Feature"
   ],
   "window_display": false
  }
 },
 "nbformat": 4,
 "nbformat_minor": 2
}
