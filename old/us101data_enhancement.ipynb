{
 "cells": [
  {
   "cell_type": "markdown",
   "metadata": {},
   "source": [
    "# 载入数据"
   ]
  },
  {
   "cell_type": "code",
   "execution_count": 1,
   "metadata": {},
   "outputs": [],
   "source": [
    "import numpy as np\n",
    "import pandas as pd"
   ]
  },
  {
   "cell_type": "code",
   "execution_count": 2,
   "metadata": {
    "scrolled": true
   },
   "outputs": [
    {
     "name": "stdout",
     "output_type": "stream",
     "text": [
      "(2158, 3)\n",
      "(540, 10, 2)\n"
     ]
    }
   ],
   "source": [
    "Intrain = np.load('Intrain2.npy')\n",
    "Outtrain = np.load('Outtrain2.npy')\n",
    "Outlanetrain = np.load('Outlanetrain2.npy')\n",
    "\n",
    "Intest = np.load('Intest2.npy')\n",
    "Outtest = np.load('Outtest2.npy')\n",
    "Outlanetest = np.load('Outlanetest2.npy')\n",
    "\n",
    "\n",
    "print(Outlanetrain.shape)\n",
    "print(Outtest.shape)"
   ]
  },
  {
   "cell_type": "markdown",
   "metadata": {},
   "source": [
    "# 数据增强"
   ]
  },
  {
   "cell_type": "markdown",
   "metadata": {},
   "source": [
    "## 训练集数据提取"
   ]
  },
  {
   "cell_type": "code",
   "execution_count": 3,
   "metadata": {},
   "outputs": [
    {
     "name": "stdout",
     "output_type": "stream",
     "text": [
      "115 \n",
      "\n",
      " {7: [0, 0, 1], 22: [1, 0, 0], 39: [0, 0, 1], 67: [0, 0, 1], 79: [0, 0, 1], 95: [1, 0, 0], 120: [0, 0, 1], 124: [0, 0, 1], 133: [1, 0, 0], 148: [1, 0, 0], 185: [0, 0, 1], 214: [0, 0, 1], 215: [1, 0, 0], 221: [0, 0, 1], 223: [1, 0, 0], 275: [0, 0, 1], 298: [0, 0, 1], 324: [0, 0, 1], 329: [0, 0, 1], 334: [0, 0, 1], 341: [1, 0, 0], 344: [0, 0, 1], 361: [0, 0, 1], 373: [0, 0, 1], 402: [0, 0, 1], 418: [0, 0, 1], 459: [1, 0, 0], 498: [0, 0, 1], 503: [1, 0, 0], 526: [0, 0, 1], 555: [0, 0, 1], 568: [0, 0, 1], 569: [1, 0, 0], 570: [0, 0, 1], 574: [0, 0, 1], 654: [0, 0, 1], 660: [0, 0, 1], 681: [1, 0, 0], 705: [0, 0, 1], 732: [0, 0, 1], 740: [0, 0, 1], 792: [0, 0, 1], 803: [0, 0, 1], 817: [1, 0, 0], 831: [0, 0, 1], 836: [0, 0, 1], 845: [0, 0, 1], 851: [1, 0, 0], 878: [1, 0, 0], 897: [0, 0, 1], 939: [0, 0, 1], 941: [0, 0, 1], 953: [1, 0, 0], 973: [0, 0, 1], 996: [0, 0, 1], 1039: [1, 0, 0], 1044: [1, 0, 0], 1068: [0, 0, 1], 1101: [0, 0, 1], 1134: [1, 0, 0], 1147: [0, 0, 1], 1158: [0, 0, 1], 1192: [0, 0, 1], 1193: [1, 0, 0], 1235: [0, 0, 1], 1258: [1, 0, 0], 1295: [1, 0, 0], 1310: [1, 0, 0], 1311: [0, 0, 1], 1344: [0, 0, 1], 1354: [0, 0, 1], 1365: [0, 0, 1], 1378: [0, 0, 1], 1405: [0, 0, 1], 1436: [0, 0, 1], 1444: [0, 0, 1], 1463: [0, 0, 1], 1464: [0, 0, 1], 1468: [0, 0, 1], 1481: [0, 0, 1], 1538: [0, 0, 1], 1596: [0, 0, 1], 1603: [1, 0, 0], 1642: [0, 0, 1], 1661: [0, 0, 1], 1677: [0, 0, 1], 1681: [0, 0, 1], 1683: [1, 0, 0], 1687: [0, 0, 1], 1715: [1, 0, 0], 1728: [0, 0, 1], 1742: [0, 0, 1], 1758: [0, 0, 1], 1762: [0, 0, 1], 1764: [1, 0, 0], 1805: [0, 0, 1], 1867: [0, 0, 1], 1913: [1, 0, 0], 1945: [0, 0, 1], 1947: [0, 0, 1], 1959: [0, 0, 1], 1969: [0, 0, 1], 1977: [0, 0, 1], 1997: [0, 0, 1], 2003: [0, 0, 1], 2020: [1, 0, 0], 2031: [0, 0, 1], 2038: [1, 0, 0], 2055: [1, 0, 0], 2068: [0, 0, 1], 2075: [0, 0, 1], 2113: [0, 0, 1], 2118: [0, 0, 1], 2139: [1, 0, 0], 2146: [1, 0, 0]}\n"
     ]
    }
   ],
   "source": [
    "dic = {}\n",
    "\n",
    "for i in range(Outlanetrain.shape[0]):\n",
    "    if list(Outlanetrain[i]) == [1, 0, 0]:\n",
    "        dic[i] = [1, 0, 0]\n",
    "    elif list(Outlanetrain[i]) == [0, 0, 1]:\n",
    "        dic[i] = [0, 0, 1]\n",
    "    else:\n",
    "        continue\n",
    "\n",
    "print(len(dic), '\\n\\n', dic)\n",
    "\n",
    "newIntrain = []\n",
    "newOuttrain = []\n",
    "for i in dic:\n",
    "    newIntrain.append(Intrain[i])\n",
    "    newOuttrain.append(Outtrain[i])\n",
    "\n",
    "newIntrain = np.array(newIntrain)\n",
    "newOuttrain = np.array(newOuttrain)\n",
    "newOutlanetrain = np.array(list(dic.values()))"
   ]
  },
  {
   "cell_type": "markdown",
   "metadata": {},
   "source": [
    "## 测试集数据提取"
   ]
  },
  {
   "cell_type": "code",
   "execution_count": 4,
   "metadata": {},
   "outputs": [
    {
     "name": "stdout",
     "output_type": "stream",
     "text": [
      "26 \n",
      "\n",
      " {38: [0, 0, 1], 39: [0, 0, 1], 79: [1, 0, 0], 96: [0, 0, 1], 129: [0, 0, 1], 132: [1, 0, 0], 200: [1, 0, 0], 222: [0, 0, 1], 228: [0, 0, 1], 234: [0, 0, 1], 275: [0, 0, 1], 289: [0, 0, 1], 324: [1, 0, 0], 326: [0, 0, 1], 363: [0, 0, 1], 380: [0, 0, 1], 381: [0, 0, 1], 421: [0, 0, 1], 431: [0, 0, 1], 436: [0, 0, 1], 442: [1, 0, 0], 454: [0, 0, 1], 471: [0, 0, 1], 489: [0, 0, 1], 524: [0, 0, 1], 527: [0, 0, 1]}\n"
     ]
    }
   ],
   "source": [
    "dic = {}\n",
    "\n",
    "for i in range(Outlanetest.shape[0]):\n",
    "    if list(Outlanetest[i]) == [1, 0, 0]:\n",
    "        dic[i] = [1, 0, 0]\n",
    "    elif list(Outlanetest[i]) == [0, 0, 1]:\n",
    "        dic[i] = [0, 0, 1]\n",
    "    else:\n",
    "        continue\n",
    "\n",
    "\n",
    "print(len(dic), '\\n\\n', dic)\n",
    "\n",
    "newIntest = []\n",
    "newOuttest = []\n",
    "for i in dic:\n",
    "    newIntest.append(Intest[i])\n",
    "    newOuttest.append(Outtest[i])\n",
    "\n",
    "newIntest = np.array(newIntest)\n",
    "newOuttest = np.array(newOuttest)\n",
    "newOutlanetest = np.array(list(dic.values()))"
   ]
  },
  {
   "cell_type": "markdown",
   "metadata": {},
   "source": [
    "## 数据扩展"
   ]
  },
  {
   "cell_type": "code",
   "execution_count": 5,
   "metadata": {},
   "outputs": [
    {
     "name": "stdout",
     "output_type": "stream",
     "text": [
      "(4228, 10, 2) (4228, 3) (4228, 10, 2) (1060, 10, 2) (1060, 3) (1060, 10, 2)\n"
     ]
    }
   ],
   "source": [
    "# 扩展比例\n",
    "ratio1 = len(Intrain)//len(newOutlanetrain)\n",
    "ratio2 = len(Intest)//len(newOutlanetest)\n",
    "\n",
    "# 训练集\n",
    "InLtrain = []\n",
    "EnOuttrain = []\n",
    "OutLtrain = []\n",
    "\n",
    "for i in range(Intrain.shape[0]):\n",
    "    InLtrain.append(Intrain[i])\n",
    "    EnOuttrain.append(Outtrain[i])\n",
    "    OutLtrain.append(Outlanetrain[i])\n",
    "\n",
    "for i in range(ratio1):\n",
    "    for j in range(len(newIntrain)):\n",
    "        InLtrain.append(newIntrain[j])\n",
    "        EnOuttrain.append(newOuttrain[j])\n",
    "        OutLtrain.append(newOutlanetrain[j])\n",
    "\n",
    "# 测试集\n",
    "InLtest = []\n",
    "EnOuttest = []\n",
    "OutLtest = []\n",
    "\n",
    "for i in range(Intest.shape[0]):\n",
    "    InLtest.append(Intest[i])\n",
    "    EnOuttest.append(Outtest[i])\n",
    "    OutLtest.append(Outlanetest[i])\n",
    "\n",
    "for i in range(ratio2):\n",
    "    for j in range(len(newIntest)):\n",
    "        InLtest.append(newIntest[j])\n",
    "        EnOuttest.append(newOuttest[j])\n",
    "        OutLtest.append(newOutlanetest[j])\n",
    "\n",
    "print(np.shape(InLtrain), np.shape(OutLtrain),np.shape(EnOuttrain),\n",
    "      np.shape(InLtest), np.shape(OutLtest),np.shape(EnOuttest))"
   ]
  },
  {
   "cell_type": "code",
   "execution_count": 6,
   "metadata": {},
   "outputs": [],
   "source": [
    "np.save('EnIntrain2',InLtrain)\n",
    "np.save('EnOutLtrain2',OutLtrain)\n",
    "np.save('EnOuttrain2',EnOuttrain)\n",
    "np.save('EnIntest2',InLtest)\n",
    "np.save('EnOuttest2',EnOuttest)\n",
    "np.save('EnOutLtest2',OutLtest)"
   ]
  },
  {
   "cell_type": "code",
   "execution_count": null,
   "metadata": {},
   "outputs": [],
   "source": []
  }
 ],
 "metadata": {
  "kernelspec": {
   "display_name": "Python 3.6.10 64-bit ('py36': conda)",
   "language": "python",
   "name": "python361064bitpy36conda1b2e35c9346148d2a8b6ebb718535481"
  },
  "language_info": {
   "codemirror_mode": {
    "name": "ipython",
    "version": 3
   },
   "file_extension": ".py",
   "mimetype": "text/x-python",
   "name": "python",
   "nbconvert_exporter": "python",
   "pygments_lexer": "ipython3",
   "version": "3.6.10"
  },
  "toc": {
   "base_numbering": 1,
   "nav_menu": {},
   "number_sections": true,
   "sideBar": true,
   "skip_h1_title": false,
   "title_cell": "Table of Contents",
   "title_sidebar": "Contents",
   "toc_cell": false,
   "toc_position": {},
   "toc_section_display": true,
   "toc_window_display": true
  },
  "varInspector": {
   "cols": {
    "lenName": 16,
    "lenType": 16,
    "lenVar": 40
   },
   "kernels_config": {
    "python": {
     "delete_cmd_postfix": "",
     "delete_cmd_prefix": "del ",
     "library": "var_list.py",
     "varRefreshCmd": "print(var_dic_list())"
    },
    "r": {
     "delete_cmd_postfix": ") ",
     "delete_cmd_prefix": "rm(",
     "library": "var_list.r",
     "varRefreshCmd": "cat(var_dic_list()) "
    }
   },
   "types_to_exclude": [
    "module",
    "function",
    "builtin_function_or_method",
    "instance",
    "_Feature"
   ],
   "window_display": false
  }
 },
 "nbformat": 4,
 "nbformat_minor": 2
}
