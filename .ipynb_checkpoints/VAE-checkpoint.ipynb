{
 "cells": [
  {
   "cell_type": "markdown",
   "metadata": {},
   "source": [
    "# 库导入"
   ]
  },
  {
   "cell_type": "code",
   "execution_count": 1,
   "metadata": {},
   "outputs": [
    {
     "name": "stdout",
     "output_type": "stream",
     "text": [
      "1 Physical GPUs, 1 Logical GPUs\n"
     ]
    }
   ],
   "source": [
    "from tensorflow.keras.layers import *\n",
    "from tensorflow.keras.models import Model\n",
    "from tensorflow.keras import backend as K\n",
    "import tensorflow as tf\n",
    "import numpy as np\n",
    "from tensorflow.keras.layers import Input\n",
    "from tensorflow.keras.optimizers import Adam\n",
    "import matplotlib.pyplot as plt\n",
    "from tensorflow.keras.losses import mse\n",
    "\n",
    "tf.compat.v1.disable_eager_execution()\n",
    "\n",
    "gpus = tf.config.experimental.list_physical_devices('GPU')\n",
    "if gpus:\n",
    "  try:\n",
    "    # Currently, memory growth needs to be the same across GPUs\n",
    "    for gpu in gpus:\n",
    "      tf.config.experimental.set_memory_growth(gpu, True)\n",
    "    logical_gpus = tf.config.experimental.list_logical_devices('GPU')\n",
    "    print(len(gpus), \"Physical GPUs,\", len(logical_gpus), \"Logical GPUs\")\n",
    "  except RuntimeError as e:\n",
    "    # Memory growth must be set before GPUs have been initialized\n",
    "    print(e)"
   ]
  },
  {
   "cell_type": "markdown",
   "metadata": {},
   "source": [
    "# 数据导入"
   ]
  },
  {
   "cell_type": "code",
   "execution_count": 2,
   "metadata": {},
   "outputs": [
    {
     "name": "stdout",
     "output_type": "stream",
     "text": [
      "(4353, 10, 5) (4353, 10, 2) (4353, 10, 2) (4353, 3) (1110, 10, 2) (1110, 3)\n"
     ]
    }
   ],
   "source": [
    "indexx = 1\n",
    "\n",
    "Intrain = np.load('ComIntrain%s.npy'%indexx)\n",
    "Outtrain = np.load('EnOuttrain%s.npy'%indexx)\n",
    "\n",
    "InLtrain = np.load('EnIntrain%s.npy'%indexx)\n",
    "OutLtrain = np.load('EnOutLtrain%s.npy'%indexx)\n",
    "\n",
    "Intest = np.load('ComIntest%s.npy'%indexx)\n",
    "Outtest = np.load('EnOuttest%s.npy'%indexx)\n",
    "\n",
    "InLtest = np.load('EnIntest%s.npy'%indexx)\n",
    "OutLtest = np.load('EnOutLtest%s.npy'%indexx)\n",
    "\n",
    "\n",
    "print(Intrain.shape,Outtrain.shape,InLtrain.shape, OutLtrain.shape, Outtest.shape, OutLtest.shape)"
   ]
  },
  {
   "cell_type": "markdown",
   "metadata": {},
   "source": [
    "# 参数设置"
   ]
  },
  {
   "cell_type": "code",
   "execution_count": 3,
   "metadata": {},
   "outputs": [],
   "source": [
    "# 基本参数\n",
    "batch_size = 60\n",
    "epochs = 30\n",
    "latent_dim = 72  # LSTM 的单元个数\n",
    "encoder_length = InLtrain.shape[1]\n",
    "decoder_length = Outtrain.shape[1]\n",
    "num_encoder_tokens = InLtrain.shape[2]\n",
    "num_decoder_tokens = Outtrain.shape[2]"
   ]
  },
  {
   "cell_type": "markdown",
   "metadata": {},
   "source": [
    "# 采样"
   ]
  },
  {
   "cell_type": "code",
   "execution_count": 4,
   "metadata": {},
   "outputs": [],
   "source": [
    "def sampling(args):\n",
    "    z_mean, z_log_var = args\n",
    "    batch = K.shape(z_mean)[0]\n",
    "    dim = K.int_shape(z_mean)[1]\n",
    "    epsilon = K.random_normal(shape=(batch, dim))\n",
    "    return z_mean + K.exp(0.5 * z_log_var) * epsilon"
   ]
  },
  {
   "cell_type": "markdown",
   "metadata": {},
   "source": [
    "# 损失函数"
   ]
  },
  {
   "cell_type": "code",
   "execution_count": 5,
   "metadata": {},
   "outputs": [],
   "source": [
    "def VAE_loss(y_true, y_predicted):\n",
    "    reconstruction_loss = mse(y_true, y_predicted)\n",
    "    reconstruction_loss *= num_encoder_tokens\n",
    "    return K.mean(reconstruction_loss)\n",
    "\n",
    "\n",
    "def KL(z_mean, z_log_var):\n",
    "    kl_loss = 1 + z_log_var - K.square(z_mean) - K.exp(z_log_var)\n",
    "    kl_loss = K.sum(kl_loss, axis=-1)\n",
    "    kl_loss *= - 0.5\n",
    "    return K.mean(kl_loss)"
   ]
  },
  {
   "cell_type": "markdown",
   "metadata": {},
   "source": [
    "# 编码解码器"
   ]
  },
  {
   "cell_type": "code",
   "execution_count": 6,
   "metadata": {},
   "outputs": [
    {
     "name": "stdout",
     "output_type": "stream",
     "text": [
      "WARNING:tensorflow:Layer lstm will not use cuDNN kernel since it doesn't meet the cuDNN kernel criteria. It will use generic GPU kernel as fallback when running on GPU\n",
      "WARNING:tensorflow:Layer lstm_1 will not use cuDNN kernel since it doesn't meet the cuDNN kernel criteria. It will use generic GPU kernel as fallback when running on GPU\n",
      "Model: \"functional_1\"\n",
      "__________________________________________________________________________________________________\n",
      "Layer (type)                    Output Shape         Param #     Connected to                     \n",
      "==================================================================================================\n",
      "input_1 (InputLayer)            [(None, 10, 2)]      0                                            \n",
      "__________________________________________________________________________________________________\n",
      "lstm (LSTM)                     [(None, 72), (None,  21600       input_1[0][0]                    \n",
      "__________________________________________________________________________________________________\n",
      "z_mean1 (Dense)                 (None, 8)            584         lstm[0][0]                       \n",
      "__________________________________________________________________________________________________\n",
      "z_log_var1 (Dense)              (None, 8)            584         lstm[0][0]                       \n",
      "__________________________________________________________________________________________________\n",
      "z_mean2 (Dense)                 (None, 2)            18          z_mean1[0][0]                    \n",
      "__________________________________________________________________________________________________\n",
      "z_log_var2 (Dense)              (None, 2)            18          z_log_var1[0][0]                 \n",
      "__________________________________________________________________________________________________\n",
      "z (Lambda)                      (None, 2)            0           z_mean2[0][0]                    \n",
      "                                                                 z_log_var2[0][0]                 \n",
      "__________________________________________________________________________________________________\n",
      "repeat_vector (RepeatVector)    (None, 10, 2)        0           z[0][0]                          \n",
      "__________________________________________________________________________________________________\n",
      "lstm_1 (LSTM)                   (None, 10, 72)       21600       repeat_vector[0][0]              \n",
      "                                                                 lstm[0][1]                       \n",
      "                                                                 lstm[0][2]                       \n",
      "__________________________________________________________________________________________________\n",
      "dense (Dense)                   (None, 10, 2)        146         lstm_1[0][0]                     \n",
      "__________________________________________________________________________________________________\n",
      "tf_op_layer_add (TensorFlowOpLa [(None, 2)]          0           z_log_var2[0][0]                 \n",
      "__________________________________________________________________________________________________\n",
      "tf_op_layer_Square (TensorFlowO [(None, 2)]          0           z_mean2[0][0]                    \n",
      "__________________________________________________________________________________________________\n",
      "tf_op_layer_sub (TensorFlowOpLa [(None, 2)]          0           tf_op_layer_add[0][0]            \n",
      "                                                                 tf_op_layer_Square[0][0]         \n",
      "__________________________________________________________________________________________________\n",
      "tf_op_layer_Exp (TensorFlowOpLa [(None, 2)]          0           z_log_var2[0][0]                 \n",
      "__________________________________________________________________________________________________\n",
      "tf_op_layer_sub_1 (TensorFlowOp [(None, 2)]          0           tf_op_layer_sub[0][0]            \n",
      "                                                                 tf_op_layer_Exp[0][0]            \n",
      "__________________________________________________________________________________________________\n",
      "tf_op_layer_Sum (TensorFlowOpLa [(None,)]            0           tf_op_layer_sub_1[0][0]          \n",
      "__________________________________________________________________________________________________\n",
      "tf_op_layer_mul (TensorFlowOpLa [(None,)]            0           tf_op_layer_Sum[0][0]            \n",
      "__________________________________________________________________________________________________\n",
      "tf_op_layer_Mean (TensorFlowOpL [()]                 0           tf_op_layer_mul[0][0]            \n",
      "__________________________________________________________________________________________________\n",
      "add_loss (AddLoss)              ()                   0           tf_op_layer_Mean[0][0]           \n",
      "==================================================================================================\n",
      "Total params: 44,550\n",
      "Trainable params: 44,550\n",
      "Non-trainable params: 0\n",
      "__________________________________________________________________________________________________\n",
      "None\n"
     ]
    }
   ],
   "source": [
    "# 定义编码器的输入\n",
    "# encoder_inputs (None, num_encoder_tokens), None表示可以处理任意长度的序列\n",
    "encoder_inputs = Input(shape=(encoder_length, num_encoder_tokens))\n",
    "\n",
    "# 编码器，要求其返回状态\n",
    "encoder = LSTM(latent_dim, return_state=True)\n",
    "\n",
    "# 调用编码器，得到编码器的输出，以及状态信息 state_h 和 state_c\n",
    "encoder_outpus, state_h, state_c = encoder(encoder_inputs)\n",
    "\n",
    "z_mean1 = Dense(8, name='z_mean1')(encoder_outpus)\n",
    "z_mean = Dense(num_decoder_tokens, name='z_mean2')(z_mean1)\n",
    "z_log_var1 = Dense(8, name='z_log_var1')(encoder_outpus)\n",
    "z_log_var = Dense(num_encoder_tokens, name='z_log_var2')(z_log_var1)\n",
    "\n",
    "# 编码器的状态\n",
    "encoder_state = [state_h, state_c]\n",
    "\n",
    "# 采样\n",
    "z = Lambda(sampling, name='z')([z_mean, z_log_var])\n",
    "z = RepeatVector(encoder_length)(z)\n",
    "\n",
    "# 定义解码器的输入\n",
    "# None表示可以处理任意长度的序列\n",
    "\n",
    "# 接下来建立解码器，解码器将返回整个输出序列并且返回其中间状态\n",
    "decoder_lstm = LSTM(latent_dim, return_sequences=True)\n",
    "\n",
    "# 将编码器输出的状态作为初始解码器的初始状态\n",
    "decoder_outputs = decoder_lstm(z, initial_state=encoder_state)\n",
    "\n",
    "# 添加全连接层\n",
    "decoder_dense = Dense(num_decoder_tokens, activation='relu')\n",
    "decoder_outputs = decoder_dense(decoder_outputs)\n",
    "\n",
    "# 定义整个模型\n",
    "model = Model(encoder_inputs, decoder_outputs)\n",
    "\n",
    "# 编译模型\n",
    "\n",
    "model.add_loss(KL(z_mean, z_log_var))\n",
    "model.compile(loss=VAE_loss, optimizer='adam')\n",
    "\n",
    "print(model.summary())"
   ]
  },
  {
   "cell_type": "markdown",
   "metadata": {},
   "source": [
    "# 模型训练与结果分析"
   ]
  },
  {
   "cell_type": "code",
   "execution_count": 7,
   "metadata": {},
   "outputs": [
    {
     "name": "stdout",
     "output_type": "stream",
     "text": [
      "Train on 4353 samples, validate on 1110 samples\n",
      "Epoch 1/30\n",
      "4353/4353 [==============================] - ETA: 0s - loss: 0.1270WARNING:tensorflow:From D:\\Anaconda3\\envs\\py36\\lib\\site-packages\\tensorflow\\python\\keras\\engine\\training_v1.py:2048: Model.state_updates (from tensorflow.python.keras.engine.training) is deprecated and will be removed in a future version.\n",
      "Instructions for updating:\n",
      "This property should not be used in TensorFlow 2.0, as updates are applied automatically.\n",
      "4353/4353 [==============================] - 1s 253us/sample - loss: 0.1270 - val_loss: 0.0571\n",
      "Epoch 2/30\n",
      "4353/4353 [==============================] - 1s 218us/sample - loss: 0.0505 - val_loss: 0.0465\n",
      "Epoch 3/30\n",
      "4353/4353 [==============================] - 1s 223us/sample - loss: 0.0431 - val_loss: 0.0425\n",
      "Epoch 4/30\n",
      "4353/4353 [==============================] - 1s 219us/sample - loss: 0.0382 - val_loss: 0.0388\n",
      "Epoch 5/30\n",
      "4353/4353 [==============================] - 1s 222us/sample - loss: 0.0351 - val_loss: 0.0376\n",
      "Epoch 6/30\n",
      "4353/4353 [==============================] - 1s 223us/sample - loss: 0.0331 - val_loss: 0.0382\n",
      "Epoch 7/30\n",
      "4353/4353 [==============================] - 1s 220us/sample - loss: 0.0319 - val_loss: 0.0361\n",
      "Epoch 8/30\n",
      "4353/4353 [==============================] - 1s 223us/sample - loss: 0.0307 - val_loss: 0.0346\n",
      "Epoch 9/30\n",
      "4353/4353 [==============================] - 1s 218us/sample - loss: 0.0303 - val_loss: 0.0332\n",
      "Epoch 10/30\n",
      "4353/4353 [==============================] - 1s 227us/sample - loss: 0.0297 - val_loss: 0.0323\n",
      "Epoch 11/30\n",
      "4353/4353 [==============================] - 1s 223us/sample - loss: 0.0291 - val_loss: 0.0318\n",
      "Epoch 12/30\n",
      "4353/4353 [==============================] - 1s 224us/sample - loss: 0.0288 - val_loss: 0.0325\n",
      "Epoch 13/30\n",
      "4353/4353 [==============================] - 1s 221us/sample - loss: 0.0280 - val_loss: 0.0309\n",
      "Epoch 14/30\n",
      "4353/4353 [==============================] - 1s 222us/sample - loss: 0.0278 - val_loss: 0.0296\n",
      "Epoch 15/30\n",
      "4353/4353 [==============================] - 1s 220us/sample - loss: 0.0268 - val_loss: 0.0297\n",
      "Epoch 16/30\n",
      "4353/4353 [==============================] - 1s 219us/sample - loss: 0.0271 - val_loss: 0.0286\n",
      "Epoch 17/30\n",
      "4353/4353 [==============================] - 1s 218us/sample - loss: 0.0266 - val_loss: 0.0300\n",
      "Epoch 18/30\n",
      "4353/4353 [==============================] - 1s 221us/sample - loss: 0.0264 - val_loss: 0.0292\n",
      "Epoch 19/30\n",
      "4353/4353 [==============================] - 1s 225us/sample - loss: 0.0262 - val_loss: 0.0280\n",
      "Epoch 20/30\n",
      "4353/4353 [==============================] - 1s 220us/sample - loss: 0.0257 - val_loss: 0.0290\n",
      "Epoch 21/30\n",
      "4353/4353 [==============================] - 1s 226us/sample - loss: 0.0255 - val_loss: 0.0281\n",
      "Epoch 22/30\n",
      "4353/4353 [==============================] - 1s 227us/sample - loss: 0.0250 - val_loss: 0.0271\n",
      "Epoch 23/30\n",
      "4353/4353 [==============================] - 1s 227us/sample - loss: 0.0252 - val_loss: 0.0267\n",
      "Epoch 24/30\n",
      "4353/4353 [==============================] - 1s 221us/sample - loss: 0.0249 - val_loss: 0.0262\n",
      "Epoch 25/30\n",
      "4353/4353 [==============================] - 1s 222us/sample - loss: 0.0246 - val_loss: 0.0268\n",
      "Epoch 26/30\n",
      "4353/4353 [==============================] - 1s 227us/sample - loss: 0.0245 - val_loss: 0.0263\n",
      "Epoch 27/30\n",
      "4353/4353 [==============================] - 1s 223us/sample - loss: 0.0242 - val_loss: 0.0269\n",
      "Epoch 28/30\n",
      "4353/4353 [==============================] - 1s 223us/sample - loss: 0.0237 - val_loss: 0.0261\n",
      "Epoch 29/30\n",
      "4353/4353 [==============================] - 1s 223us/sample - loss: 0.0240 - val_loss: 0.0261\n",
      "Epoch 30/30\n",
      "4353/4353 [==============================] - 1s 222us/sample - loss: 0.0233 - val_loss: 0.0262\n"
     ]
    }
   ],
   "source": [
    "History = model.fit(InLtrain,Outtrain,epochs=epochs,batch_size=batch_size,validation_data=(InLtest,Outtest))"
   ]
  },
  {
   "cell_type": "code",
   "execution_count": 8,
   "metadata": {},
   "outputs": [
    {
     "data": {
      "image/png": "[encoded data removed]",
      "text/plain": [
       "<Figure size 432x288 with 1 Axes>"
      ]
     },
     "metadata": {
      "needs_background": "light"
     },
     "output_type": "display_data"
    }
   ],
   "source": [
    "# 绘制训练 & 验证的损失值\n",
    "plt.plot(History.history['loss'])\n",
    "\n",
    "plt.title('Model loss')\n",
    "plt.ylabel('Loss')\n",
    "plt.xlabel('Epoch')\n",
    "plt.legend(['Train'], loc='upper left')\n",
    "plt.show()"
   ]
  },
  {
   "cell_type": "code",
   "execution_count": 9,
   "metadata": {},
   "outputs": [
    {
     "name": "stdout",
     "output_type": "stream",
     "text": [
      "Loss: 0.026124194475847323\n"
     ]
    }
   ],
   "source": [
    "score = model.evaluate(InLtest, Outtest)\n",
    "print('Loss:', score)"
   ]
  },
  {
   "cell_type": "code",
   "execution_count": 10,
   "metadata": {},
   "outputs": [
    {
     "data": {
      "text/plain": [
       "array([[[0.41359872, 0.42370737],\n",
       "        [0.41211277, 0.44345832],\n",
       "        [0.41099223, 0.4635917 ],\n",
       "        ...,\n",
       "        [0.4091636 , 0.545991  ],\n",
       "        [0.4084277 , 0.5583258 ],\n",
       "        [0.40710464, 0.5694807 ]],\n",
       "\n",
       "       [[0.18604141, 0.5827104 ],\n",
       "        [0.18988863, 0.62441194],\n",
       "        [0.18727754, 0.66525173],\n",
       "        ...,\n",
       "        [0.161877  , 0.77706724],\n",
       "        [0.16938087, 0.75811934],\n",
       "        [0.1868306 , 0.7150078 ]],\n",
       "\n",
       "       [[0.06185333, 0.6466357 ],\n",
       "        [0.07566455, 0.68991566],\n",
       "        [0.07718714, 0.73445374],\n",
       "        ...,\n",
       "        [0.15580009, 0.7598624 ],\n",
       "        [0.21207601, 0.6724248 ],\n",
       "        [0.2678837 , 0.56893885]],\n",
       "\n",
       "       ...,\n",
       "\n",
       "       [[0.3156054 , 0.44571143],\n",
       "        [0.31615877, 0.480987  ],\n",
       "        [0.31526127, 0.5172847 ],\n",
       "        ...,\n",
       "        [0.30636996, 0.68345314],\n",
       "        [0.30467877, 0.707883  ],\n",
       "        [0.3034125 , 0.7259166 ]],\n",
       "\n",
       "       [[0.0672363 , 0.18508   ],\n",
       "        [0.07133183, 0.25597054],\n",
       "        [0.06919246, 0.3276477 ],\n",
       "        ...,\n",
       "        [0.09489694, 0.61379623],\n",
       "        [0.11315197, 0.6422898 ],\n",
       "        [0.13903375, 0.650698  ]],\n",
       "\n",
       "       [[0.2335253 , 0.25860405],\n",
       "        [0.23464726, 0.2941285 ],\n",
       "        [0.2342021 , 0.3318814 ],\n",
       "        ...,\n",
       "        [0.24461886, 0.48626637],\n",
       "        [0.24730586, 0.5069296 ],\n",
       "        [0.24970862, 0.52330536]]], dtype=float32)"
      ]
     },
     "execution_count": 10,
     "metadata": {},
     "output_type": "execute_result"
    }
   ],
   "source": [
    "pred = model.predict(InLtest)\n",
    "pred"
   ]
  },
  {
   "cell_type": "code",
   "execution_count": 17,
   "metadata": {},
   "outputs": [
    {
     "data": {
      "image/png": "[encoded data removed]",
      "text/plain": [
       "<Figure size 432x288 with 1 Axes>"
      ]
     },
     "metadata": {
      "needs_background": "light"
     },
     "output_type": "display_data"
    }
   ],
   "source": [
    "i = 56\n",
    "\n",
    "apred = pred[i].swapaxes(0, 1)\n",
    "\n",
    "aIntest = Intest[i].swapaxes(0, 1)\n",
    "aOuttest = Outtest[i].swapaxes(0, 1)\n",
    "# print(aIntest)\n",
    "\n",
    "plt.plot(aOuttest[1], aOuttest[0], lw=2, label=\"Outtest\")\n",
    "plt.scatter(apred[1], apred[0], lw=2, label=\"Model1\")\n",
    "plt.plot(aIntest[1], aIntest[0], lw=2, label=\"Intest\")\n",
    "\n",
    "plt.plot(np.linspace(0, 1, 2), [0.8, 0.8], lw=2, linestyle='--')\n",
    "plt.plot(np.linspace(0, 1, 2), [0.6, 0.6], lw=2, linestyle='--')\n",
    "plt.plot(np.linspace(0, 1, 2), [0.4, 0.4], lw=2, linestyle='--')\n",
    "plt.plot(np.linspace(0, 1, 2), [0.2, 0.2], lw=2, linestyle='--')\n",
    "\n",
    "plt.xlim(0, 1)\n",
    "plt.ylim(0, 1)\n",
    "plt.title('trajectory')\n",
    "plt.ylabel('horizontal')\n",
    "plt.xlabel('longitudinal')\n",
    "plt.legend()\n",
    "plt.show()"
   ]
  },
  {
   "cell_type": "code",
   "execution_count": null,
   "metadata": {},
   "outputs": [],
   "source": []
  }
 ],
 "metadata": {
  "kernelspec": {
   "display_name": "Python 3.6.10 64-bit ('py36': conda)",
   "language": "python",
   "name": "python361064bitpy36conda1b2e35c9346148d2a8b6ebb718535481"
  },
  "language_info": {
   "codemirror_mode": {
    "name": "ipython",
    "version": 3
   },
   "file_extension": ".py",
   "mimetype": "text/x-python",
   "name": "python",
   "nbconvert_exporter": "python",
   "pygments_lexer": "ipython3",
   "version": "3.6.10"
  },
  "toc": {
   "base_numbering": 1,
   "nav_menu": {},
   "number_sections": true,
   "sideBar": true,
   "skip_h1_title": false,
   "title_cell": "Table of Contents",
   "title_sidebar": "Contents",
   "toc_cell": false,
   "toc_position": {
    "height": "calc(100% - 180px)",
    "left": "10px",
    "top": "150px",
    "width": "258.6px"
   },
   "toc_section_display": true,
   "toc_window_display": true
  },
  "varInspector": {
   "cols": {
    "lenName": 16,
    "lenType": 16,
    "lenVar": 40
   },
   "kernels_config": {
    "python": {
     "delete_cmd_postfix": "",
     "delete_cmd_prefix": "del ",
     "library": "var_list.py",
     "varRefreshCmd": "print(var_dic_list())"
    },
    "r": {
     "delete_cmd_postfix": ") ",
     "delete_cmd_prefix": "rm(",
     "library": "var_list.r",
     "varRefreshCmd": "cat(var_dic_list()) "
    }
   },
   "types_to_exclude": [
    "module",
    "function",
    "builtin_function_or_method",
    "instance",
    "_Feature"
   ],
   "window_display": false
  }
 },
 "nbformat": 4,
 "nbformat_minor": 2
}
