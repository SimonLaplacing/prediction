{
 "cells": [
  {
   "cell_type": "markdown",
   "metadata": {},
   "source": [
    "# 载入数据"
   ]
  },
  {
   "cell_type": "code",
   "execution_count": 1,
   "metadata": {},
   "outputs": [],
   "source": [
    "import numpy as np\n",
    "import pandas as pd"
   ]
  },
  {
   "cell_type": "code",
   "execution_count": 2,
   "metadata": {
    "scrolled": true
   },
   "outputs": [
    {
     "name": "stdout",
     "output_type": "stream",
     "text": [
      "(2149, 3)\n",
      "(538, 10, 2)\n"
     ]
    }
   ],
   "source": [
    "Intrain = np.load('Intrain2.npy')\n",
    "Outtrain = np.load('Outtrain2.npy')\n",
    "Outlanetrain = np.load('Outlanetrain2.npy')\n",
    "\n",
    "Intest = np.load('Intest2.npy')\n",
    "Outtest = np.load('Outtest2.npy')\n",
    "Outlanetest = np.load('Outlanetest2.npy')\n",
    "\n",
    "\n",
    "print(Outlanetrain.shape)\n",
    "print(Outtest.shape)"
   ]
  },
  {
   "cell_type": "markdown",
   "metadata": {},
   "source": [
    "# 数据增强"
   ]
  },
  {
   "cell_type": "markdown",
   "metadata": {},
   "source": [
    "## 训练集数据提取"
   ]
  },
  {
   "cell_type": "code",
   "execution_count": 3,
   "metadata": {},
   "outputs": [
    {
     "name": "stdout",
     "output_type": "stream",
     "text": [
      "118 \n",
      "\n",
      " {2: [1, 0, 0], 5: [0, 0, 1], 75: [1, 0, 0], 87: [0, 0, 1], 137: [1, 0, 0], 156: [1, 0, 0], 170: [1, 0, 0], 173: [1, 0, 0], 197: [0, 0, 1], 203: [0, 0, 1], 231: [1, 0, 0], 236: [1, 0, 0], 295: [1, 0, 0], 326: [0, 0, 1], 372: [1, 0, 0], 375: [1, 0, 0], 399: [1, 0, 0], 401: [1, 0, 0], 402: [1, 0, 0], 411: [0, 0, 1], 424: [0, 0, 1], 436: [0, 0, 1], 454: [1, 0, 0], 485: [1, 0, 0], 522: [1, 0, 0], 539: [1, 0, 0], 548: [1, 0, 0], 551: [1, 0, 0], 555: [1, 0, 0], 563: [1, 0, 0], 574: [1, 0, 0], 582: [0, 0, 1], 585: [1, 0, 0], 589: [1, 0, 0], 627: [0, 0, 1], 635: [0, 0, 1], 637: [1, 0, 0], 646: [1, 0, 0], 663: [1, 0, 0], 740: [1, 0, 0], 794: [1, 0, 0], 813: [0, 0, 1], 827: [1, 0, 0], 842: [0, 0, 1], 895: [0, 0, 1], 910: [1, 0, 0], 916: [1, 0, 0], 959: [1, 0, 0], 965: [1, 0, 0], 986: [1, 0, 0], 1014: [1, 0, 0], 1025: [1, 0, 0], 1034: [0, 0, 1], 1038: [1, 0, 0], 1049: [1, 0, 0], 1068: [1, 0, 0], 1077: [0, 0, 1], 1091: [1, 0, 0], 1094: [1, 0, 0], 1138: [1, 0, 0], 1161: [1, 0, 0], 1174: [1, 0, 0], 1195: [0, 0, 1], 1221: [1, 0, 0], 1242: [1, 0, 0], 1247: [0, 0, 1], 1252: [1, 0, 0], 1293: [0, 0, 1], 1299: [1, 0, 0], 1344: [1, 0, 0], 1345: [1, 0, 0], 1364: [1, 0, 0], 1371: [1, 0, 0], 1408: [0, 0, 1], 1413: [1, 0, 0], 1421: [1, 0, 0], 1484: [0, 0, 1], 1499: [1, 0, 0], 1514: [1, 0, 0], 1527: [0, 0, 1], 1546: [1, 0, 0], 1547: [1, 0, 0], 1587: [1, 0, 0], 1596: [1, 0, 0], 1617: [0, 0, 1], 1630: [1, 0, 0], 1645: [1, 0, 0], 1650: [1, 0, 0], 1669: [1, 0, 0], 1671: [1, 0, 0], 1688: [1, 0, 0], 1695: [1, 0, 0], 1729: [1, 0, 0], 1732: [1, 0, 0], 1753: [0, 0, 1], 1755: [0, 0, 1], 1782: [1, 0, 0], 1804: [1, 0, 0], 1835: [1, 0, 0], 1858: [1, 0, 0], 1876: [0, 0, 1], 1902: [1, 0, 0], 1927: [1, 0, 0], 1948: [1, 0, 0], 1960: [1, 0, 0], 1964: [1, 0, 0], 2012: [1, 0, 0], 2022: [1, 0, 0], 2024: [0, 0, 1], 2029: [0, 0, 1], 2030: [0, 0, 1], 2046: [0, 0, 1], 2066: [1, 0, 0], 2081: [1, 0, 0], 2115: [0, 0, 1], 2134: [1, 0, 0], 2137: [0, 0, 1], 2146: [1, 0, 0]}\n"
     ]
    }
   ],
   "source": [
    "dic = {}\n",
    "\n",
    "for i in range(Outlanetrain.shape[0]):\n",
    "    if list(Outlanetrain[i]) == [1, 0, 0]:\n",
    "        dic[i] = [1, 0, 0]\n",
    "    elif list(Outlanetrain[i]) == [0, 0, 1]:\n",
    "        dic[i] = [0, 0, 1]\n",
    "    else:\n",
    "        continue\n",
    "\n",
    "print(len(dic), '\\n\\n', dic)\n",
    "\n",
    "newIntrain = []\n",
    "newOuttrain = []\n",
    "for i in dic:\n",
    "    newIntrain.append(Intrain[i])\n",
    "    newOuttrain.append(Outtrain[i])\n",
    "\n",
    "newIntrain = np.array(newIntrain)\n",
    "newOuttrain = np.array(newOuttrain)\n",
    "newOutlanetrain = np.array(list(dic.values()))"
   ]
  },
  {
   "cell_type": "markdown",
   "metadata": {},
   "source": [
    "## 测试集数据提取"
   ]
  },
  {
   "cell_type": "code",
   "execution_count": 4,
   "metadata": {},
   "outputs": [
    {
     "name": "stdout",
     "output_type": "stream",
     "text": [
      "22 \n",
      "\n",
      " {23: [0, 0, 1], 42: [1, 0, 0], 47: [0, 0, 1], 49: [1, 0, 0], 79: [1, 0, 0], 177: [1, 0, 0], 215: [0, 0, 1], 218: [1, 0, 0], 247: [1, 0, 0], 273: [1, 0, 0], 288: [1, 0, 0], 292: [1, 0, 0], 343: [1, 0, 0], 363: [1, 0, 0], 364: [1, 0, 0], 366: [0, 0, 1], 379: [1, 0, 0], 404: [1, 0, 0], 424: [0, 0, 1], 463: [1, 0, 0], 482: [1, 0, 0], 532: [1, 0, 0]}\n"
     ]
    }
   ],
   "source": [
    "dic = {}\n",
    "\n",
    "for i in range(Outlanetest.shape[0]):\n",
    "    if list(Outlanetest[i]) == [1, 0, 0]:\n",
    "        dic[i] = [1, 0, 0]\n",
    "    elif list(Outlanetest[i]) == [0, 0, 1]:\n",
    "        dic[i] = [0, 0, 1]\n",
    "    else:\n",
    "        continue\n",
    "\n",
    "\n",
    "print(len(dic), '\\n\\n', dic)\n",
    "\n",
    "newIntest = []\n",
    "newOuttest = []\n",
    "for i in dic:\n",
    "    newIntest.append(Intest[i])\n",
    "    newOuttest.append(Outtest[i])\n",
    "\n",
    "newIntest = np.array(newIntest)\n",
    "newOuttest = np.array(newOuttest)\n",
    "newOutlanetest = np.array(list(dic.values()))"
   ]
  },
  {
   "cell_type": "markdown",
   "metadata": {},
   "source": [
    "## 数据扩展"
   ]
  },
  {
   "cell_type": "code",
   "execution_count": 5,
   "metadata": {},
   "outputs": [
    {
     "name": "stdout",
     "output_type": "stream",
     "text": [
      "(4273, 10, 2) (4273, 3) (4273, 10, 2) (1066, 10, 2) (1066, 3) (1066, 10, 2)\n"
     ]
    }
   ],
   "source": [
    "# 扩展比例\n",
    "ratio1 = len(Intrain)//len(newOutlanetrain)\n",
    "ratio2 = len(Intest)//len(newOutlanetest)\n",
    "\n",
    "# 训练集\n",
    "InLtrain = []\n",
    "EnOuttrain = []\n",
    "OutLtrain = []\n",
    "\n",
    "for i in range(Intrain.shape[0]):\n",
    "    InLtrain.append(Intrain[i])\n",
    "    EnOuttrain.append(Outtrain[i])\n",
    "    OutLtrain.append(Outlanetrain[i])\n",
    "\n",
    "for i in range(ratio1):\n",
    "    for j in range(len(newIntrain)):\n",
    "        InLtrain.append(newIntrain[j])\n",
    "        EnOuttrain.append(newOuttrain[j])\n",
    "        OutLtrain.append(newOutlanetrain[j])\n",
    "\n",
    "# 测试集\n",
    "InLtest = []\n",
    "EnOuttest = []\n",
    "OutLtest = []\n",
    "\n",
    "for i in range(Intest.shape[0]):\n",
    "    InLtest.append(Intest[i])\n",
    "    EnOuttest.append(Outtest[i])\n",
    "    OutLtest.append(Outlanetest[i])\n",
    "\n",
    "for i in range(ratio2):\n",
    "    for j in range(len(newIntest)):\n",
    "        InLtest.append(newIntest[j])\n",
    "        EnOuttest.append(newOuttest[j])\n",
    "        OutLtest.append(newOutlanetest[j])\n",
    "\n",
    "print(np.shape(InLtrain), np.shape(OutLtrain),np.shape(EnOuttrain),\n",
    "      np.shape(InLtest), np.shape(OutLtest),np.shape(EnOuttest))"
   ]
  },
  {
   "cell_type": "code",
   "execution_count": 6,
   "metadata": {},
   "outputs": [],
   "source": [
    "np.save('EnIntrain2',InLtrain)\n",
    "np.save('EnOutLtrain2',OutLtrain)\n",
    "np.save('EnOuttrain2',EnOuttrain)\n",
    "np.save('EnIntest2',InLtest)\n",
    "np.save('EnOuttest2',EnOuttest)\n",
    "np.save('EnOutLtest2',OutLtest)"
   ]
  },
  {
   "cell_type": "code",
   "execution_count": null,
   "metadata": {},
   "outputs": [],
   "source": []
  }
 ],
 "metadata": {
  "kernelspec": {
   "display_name": "Python 3.6.10 64-bit ('py36': conda)",
   "language": "python",
   "name": "python361064bitpy36conda1b2e35c9346148d2a8b6ebb718535481"
  },
  "language_info": {
   "codemirror_mode": {
    "name": "ipython",
    "version": 3
   },
   "file_extension": ".py",
   "mimetype": "text/x-python",
   "name": "python",
   "nbconvert_exporter": "python",
   "pygments_lexer": "ipython3",
   "version": "3.6.10"
  },
  "toc": {
   "base_numbering": 1,
   "nav_menu": {},
   "number_sections": true,
   "sideBar": true,
   "skip_h1_title": false,
   "title_cell": "Table of Contents",
   "title_sidebar": "Contents",
   "toc_cell": false,
   "toc_position": {},
   "toc_section_display": true,
   "toc_window_display": true
  },
  "varInspector": {
   "cols": {
    "lenName": 16,
    "lenType": 16,
    "lenVar": 40
   },
   "kernels_config": {
    "python": {
     "delete_cmd_postfix": "",
     "delete_cmd_prefix": "del ",
     "library": "var_list.py",
     "varRefreshCmd": "print(var_dic_list())"
    },
    "r": {
     "delete_cmd_postfix": ") ",
     "delete_cmd_prefix": "rm(",
     "library": "var_list.r",
     "varRefreshCmd": "cat(var_dic_list()) "
    }
   },
   "types_to_exclude": [
    "module",
    "function",
    "builtin_function_or_method",
    "instance",
    "_Feature"
   ],
   "window_display": false
  }
 },
 "nbformat": 4,
 "nbformat_minor": 2
}
