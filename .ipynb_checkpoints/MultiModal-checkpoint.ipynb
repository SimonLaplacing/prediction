{
 "cells": [
  {
   "cell_type": "markdown",
   "metadata": {},
   "source": [
    "# 库导入"
   ]
  },
  {
   "cell_type": "code",
   "execution_count": 1,
   "metadata": {},
   "outputs": [
    {
     "name": "stdout",
     "output_type": "stream",
     "text": [
      "1 Physical GPUs, 1 Logical GPUs\n"
     ]
    }
   ],
   "source": [
    "from tensorflow.keras.layers import *\n",
    "from tensorflow.keras.models import Model\n",
    "from tensorflow.keras import backend as K\n",
    "import tensorflow as tf\n",
    "import numpy as np\n",
    "from tensorflow.keras.layers import Input\n",
    "from tensorflow.keras.optimizers import Adam,RMSprop\n",
    "import matplotlib.pyplot as plt\n",
    "from tensorflow.keras.losses import mse\n",
    "from tensorflow.keras.utils import plot_model\n",
    "\n",
    "tf.compat.v1.disable_eager_execution()\n",
    "\n",
    "gpus = tf.config.experimental.list_physical_devices('GPU')\n",
    "if gpus:\n",
    "  try:\n",
    "    # Currently, memory growth needs to be the same across GPUs\n",
    "    for gpu in gpus:\n",
    "      tf.config.experimental.set_memory_growth(gpu, True)\n",
    "    logical_gpus = tf.config.experimental.list_logical_devices('GPU')\n",
    "    print(len(gpus), \"Physical GPUs,\", len(logical_gpus), \"Logical GPUs\")\n",
    "  except RuntimeError as e:\n",
    "    # Memory growth must be set before GPUs have been initialized\n",
    "    print(e)"
   ]
  },
  {
   "cell_type": "markdown",
   "metadata": {},
   "source": [
    "# 数据导入"
   ]
  },
  {
   "cell_type": "code",
   "execution_count": 2,
   "metadata": {},
   "outputs": [
    {
     "name": "stdout",
     "output_type": "stream",
     "text": [
      "(3086, 10, 2) (3086, 3) (1325, 10, 2) (1325, 3)\n",
      "(2445, 10, 2) (2445, 3) (1047, 10, 2) (1047, 3)\n",
      "(2445, 10, 2) (2445, 3) (1047, 10, 2) (1047, 3)\n"
     ]
    }
   ],
   "source": [
    "style='Inc' # En状态量 or Inc变化量\n",
    "\n",
    "index80 = 1\n",
    "\n",
    "Intrain80 = np.load('data/%sIntrain%s.npy' % (style,index80))\n",
    "Outtrain80 = np.load('data/%sOuttrain%s.npy' % (style,index80))\n",
    "\n",
    "InLtrain80 = np.load('data/EnIntrain%s.npy' % index80)\n",
    "OutLtrain80 = np.load('data/EnOutLtrain%s.npy' % index80)\n",
    "\n",
    "Intest80 = np.load('data/%sIntest%s.npy' % (style,index80))\n",
    "Outtest80 = np.load('data/%sOuttest%s.npy' % (style,index80))\n",
    "\n",
    "InStest80 = np.load('data/EnIntest%s.npy' % index80)\n",
    "OutLtest80 = np.load('data/EnOutLtest%s.npy' % index80)\n",
    "OutStest80 = np.load('data/EnOuttest%s.npy' % index80)\n",
    "\n",
    "print(Intrain80.shape, OutLtrain80.shape, Outtest80.shape, OutLtest80.shape)\n",
    "\n",
    "index101 = 2\n",
    "\n",
    "Intrain101 = np.load('data/%sIntrain%s.npy' % (style,index101))\n",
    "Outtrain101 = np.load('data/%sOuttrain%s.npy' % (style,index101))\n",
    "\n",
    "InLtrain101 = np.load('data/EnIntrain%s.npy' % index101)\n",
    "OutLtrain101 = np.load('data/EnOutLtrain%s.npy' % index101)\n",
    "\n",
    "Intest101 = np.load('data/%sIntest%s.npy' % (style,index101))\n",
    "Outtest101 = np.load('data/%sOuttest%s.npy' % (style,index101))\n",
    "\n",
    "InStest101 = np.load('data/EnIntest%s.npy' % index101)\n",
    "OutLtest101 = np.load('data/EnOutLtest%s.npy' % index101)\n",
    "OutStest101 = np.load('data/EnOuttest%s.npy' % index101)\n",
    "\n",
    "print(Intrain101.shape, OutLtrain101.shape,\n",
    "      Outtest101.shape, OutLtest101.shape)\n",
    "\n",
    "\n",
    "Intrain = np.concatenate((Intrain80,Intrain101),axis=0)\n",
    "Outtrain = np.concatenate((Outtrain80,Outtrain101),axis=0)\n",
    "\n",
    "InLtrain = np.concatenate((InLtrain80,InLtrain101),axis=0)\n",
    "OutLtrain = np.concatenate((OutLtrain80,OutLtrain101),axis=0)\n",
    "\n",
    "Intest = np.concatenate((Intest80,Intest101),axis=0)\n",
    "Outtest = np.concatenate((Outtest80,Outtest101),axis=0)\n",
    "\n",
    "InStest = np.concatenate((InStest80,InStest101),axis=0)\n",
    "OutLtest = np.concatenate((OutLtest80,OutLtest101),axis=0)\n",
    "OutStest = np.concatenate((OutStest80,OutStest101),axis=0)\n",
    "\n",
    "# 使用的数据\n",
    "index=1 # 0:80;1:101;2:total\n",
    "if index == 0:\n",
    "    Intrain,Outtrain,InLtrain,OutLtrain,Intest,Outtest,InStest,OutLtest,OutStest = Intrain80,Outtrain80,InLtrain80,OutLtrain80,Intest80,Outtest80,InStest80,OutLtest80,OutStest80\n",
    "elif index == 1:\n",
    "    Intrain,Outtrain,InLtrain,OutLtrain,Intest,Outtest,InStest,OutLtest,OutStest = Intrain101,Outtrain101,InLtrain101,OutLtrain101,Intest101,Outtest101,InStest101,OutLtest101,OutStest101\n",
    "\n",
    "print(Intrain.shape, OutLtrain.shape, Outtest.shape, OutLtest.shape)"
   ]
  },
  {
   "cell_type": "markdown",
   "metadata": {},
   "source": [
    "# 参数设置"
   ]
  },
  {
   "cell_type": "code",
   "execution_count": 3,
   "metadata": {},
   "outputs": [],
   "source": [
    "# 基本参数\n",
    "batch_size = 32\n",
    "epochs = 20\n",
    "latent_dim = 32  # LSTM 的单元个数\n",
    "num_classes = 3 # 类数\n",
    "encoder_length = InLtrain.shape[1]\n",
    "decoder_length = Outtrain.shape[1]\n",
    "num_encoder_tokens = InLtrain.shape[2]\n",
    "num_decoder_tokens = Outtrain.shape[2]\n",
    "mode = 2 # 1:CVAE1 2:CVAE2 3:CVAE3"
   ]
  },
  {
   "cell_type": "markdown",
   "metadata": {},
   "source": [
    "# 采样"
   ]
  },
  {
   "cell_type": "code",
   "execution_count": 4,
   "metadata": {},
   "outputs": [],
   "source": [
    "def sampling(args):\n",
    "    z_mean, z_log_var = args\n",
    "    batch = K.shape(z_mean)[0]\n",
    "    length = K.shape(z_mean)[1]\n",
    "    dim = K.int_shape(z_mean)[2]\n",
    "    epsilon = K.random_normal(shape=(batch,length,dim))\n",
    "#     epsilon = K.random_normal(shape=(batch,dim))\n",
    "    return z_mean + K.exp(0.5 * z_log_var) * epsilon"
   ]
  },
  {
   "cell_type": "markdown",
   "metadata": {},
   "source": [
    "# CVAE1"
   ]
  },
  {
   "cell_type": "code",
   "execution_count": 5,
   "metadata": {},
   "outputs": [],
   "source": [
    "if mode ==1:\n",
    "    # 定义编码器的输入\n",
    "    y = Input(shape=(num_classes,))  # 输入类别\n",
    "    yh = RepeatVector(encoder_length)(y)\n",
    "    yh = Dense(8,activation='relu')(yh)\n",
    "    yh = Dense(num_encoder_tokens, activation='relu',\n",
    "               name='dense_yh2')(yh)  # 这里就是直接构建每个类别的均值\n",
    "\n",
    "    encoder_inputs = Input(shape=(encoder_length, num_encoder_tokens))\n",
    "\n",
    "    # 编码器，要求其返回状态\n",
    "    encoder = LSTM(latent_dim, return_sequences=True,\n",
    "                   return_state=False, name='LSTM1')\n",
    "\n",
    "    # 调用编码器，得到编码器的输出，以及状态信息 state_h 和 state_c\n",
    "    encoder_outpus = encoder(encoder_inputs)\n",
    "    # encoder_outpus = RepeatVector(encoder_length)(encoder_outpus)\n",
    "\n",
    "    z_mean = Dense(num_encoder_tokens, name='z_mean1')(encoder_outpus)\n",
    "    # z_mean = Dense(num_encoder_tokens, name='z_mean2')(z_mean1)\n",
    "    z_log_var = Dense(num_encoder_tokens, name='z_log_var1')(encoder_outpus)\n",
    "    # z_log_var = Dense(num_encoder_tokens, name='z_log_var2')(z_log_var1)\n",
    "\n",
    "    # 采样\n",
    "    # z_mean = RepeatVector(encoder_length)(z_mean)\n",
    "    # z_log_var = RepeatVector(encoder_length)(z_log_var)\n",
    "\n",
    "    z = Lambda(sampling, name='z')([z_mean, z_log_var])\n",
    "    # print(z_mean.shape,z_log_var.shape)\n",
    "    # 控制标签\n",
    "    zy = concatenate((z, yh), axis=-1)\n",
    "    # print(z.shape, yh.shape, zy.shape)\n",
    "\n",
    "\n",
    "    # 接下来建立解码器1，解码器将返回整个输出序列\n",
    "    decoder2 = LSTM(latent_dim, return_sequences=True, name='LSTM2')\n",
    "    label_decoder = LSTM(latent_dim, return_sequences=False, name='LSTM3')\n",
    "\n",
    "    # 将编码器输出的状态作为初始解码器的初始状态\n",
    "    decoder_outputs2 = decoder2(zy)\n",
    "    label_outputs = label_decoder(zy)\n",
    "\n",
    "    # 添加全连接层\n",
    "    decoder_dense1 = Dense(8, activation='relu', name='dense1')\n",
    "    decoder_dense2 = Dense(num_encoder_tokens, activation='relu', name='dense2')\n",
    "    decoder_outputs2 = decoder_dense2(decoder_dense1(decoder_outputs2))\n",
    "    \n",
    "    label_dense1 = Dense(num_classes, activation='softmax', name='softmax')\n",
    "    label_outputs2 = label_dense1(label_outputs)\n",
    "\n",
    "\n",
    "    # 定义整个模型\n",
    "    model = Model([encoder_inputs, y], [decoder_outputs2,label_outputs2])\n",
    "\n",
    "    # 编译模型\n",
    "    # xent_loss是重构loss，kl_loss是KL loss,修改K.square(z_mean)为K.square(z_mean - yh)，也就是让隐变量向类内均值看齐\n",
    "\n",
    "\n",
    "    def VAE_loss(y_true, y_predicted):\n",
    "        reconstruction_loss1 = K.sum(mse(y_true, y_predicted), axis=-1)\n",
    "        kl_loss = - 0.5 * K.sum(1 + z_log_var - K.square(z_mean - yh) - K.exp(z_log_var), axis=-1)\n",
    "        return 0.8*K.mean(reconstruction_loss1) + 1.2*K.mean(kl_loss)\n",
    "\n",
    "\n",
    "    model.compile(loss=[VAE_loss,'categorical_crossentropy'], optimizer='Adam', loss_weights=[1,1])\n",
    "\n",
    "#     print(model.summary())\n",
    "    display(plot_model(model))"
   ]
  },
  {
   "cell_type": "markdown",
   "metadata": {},
   "source": [
    "# CVAE2"
   ]
  },
  {
   "cell_type": "code",
   "execution_count": 6,
   "metadata": {},
   "outputs": [
    {
     "name": "stdout",
     "output_type": "stream",
     "text": [
      "WARNING:tensorflow:Layer LSTM1 will not use cuDNN kernel since it doesn't meet the cuDNN kernel criteria. It will use generic GPU kernel as fallback when running on GPU\n",
      "WARNING:tensorflow:Layer LSTM2 will not use cuDNN kernel since it doesn't meet the cuDNN kernel criteria. It will use generic GPU kernel as fallback when running on GPU\n",
      "WARNING:tensorflow:Layer LSTM3 will not use cuDNN kernel since it doesn't meet the cuDNN kernel criteria. It will use generic GPU kernel as fallback when running on GPU\n",
      "WARNING:tensorflow:Layer LSTM4 will not use cuDNN kernel since it doesn't meet the cuDNN kernel criteria. It will use generic GPU kernel as fallback when running on GPU\n"
     ]
    },
    {
     "data": {
      "image/png": "[encoded data removed]",
      "text/plain": [
       "<IPython.core.display.Image object>"
      ]
     },
     "metadata": {},
     "output_type": "display_data"
    }
   ],
   "source": [
    "if mode == 2:\n",
    "    # 定义编码器的输入\n",
    "    y = Input(shape=(num_classes,))  # 输入类别\n",
    "    yh = RepeatVector(encoder_length)(y)\n",
    "    yh = Dense(8,activation='relu')(yh)\n",
    "    yh = Dense(num_encoder_tokens, activation='relu',\n",
    "               name='dense_yh2')(yh)  # 这里就是直接构建每个类别的均值\n",
    "\n",
    "    encoder_inputs = Input(shape=(encoder_length, num_encoder_tokens))\n",
    "\n",
    "    # 编码器，要求其返回状态\n",
    "    encoder = LSTM(latent_dim, return_sequences=True,\n",
    "                   return_state=False, name='LSTM1')\n",
    "\n",
    "    # 调用编码器，得到编码器的输出，以及状态信息 state_h 和 state_c\n",
    "    encoder_outpus = encoder(encoder_inputs)\n",
    "    # encoder_outpus = RepeatVector(encoder_length)(encoder_outpus)\n",
    "\n",
    "    z_mean1 = Dense(8, name='z_mean1')(encoder_outpus)\n",
    "    z_mean = Dense(num_encoder_tokens, name='z_mean2')(z_mean1)\n",
    "    z_log_var1 = Dense(8, name='z_log_var1')(encoder_outpus)\n",
    "    z_log_var = Dense(num_encoder_tokens, name='z_log_var2')(z_log_var1)\n",
    "\n",
    "    # 采样\n",
    "    # z_mean = RepeatVector(encoder_length)(z_mean)\n",
    "    # z_log_var = RepeatVector(encoder_length)(z_log_var)\n",
    "\n",
    "    z = Lambda(sampling, name='z')([z_mean, z_log_var])\n",
    "    # print(z_mean.shape,z_log_var.shape)\n",
    "    # 控制标签\n",
    "    zy = concatenate((z, yh), axis=-1)\n",
    "    # print(z.shape, yh.shape, zy.shape)\n",
    "\n",
    "\n",
    "    # 接下来建立解码器1，解码器将返回整个输出序列\n",
    "    encoder2 = LSTM(latent_dim, return_sequences=True, name='LSTM2')\n",
    "\n",
    "    # 将编码器输出的状态作为初始解码器的初始状态\n",
    "    encoder_outputs2 = encoder2(zy)\n",
    "\n",
    "    # 添加全连接层\n",
    "    encoder_dense1 = Dense(8, activation='relu', name='dense1')\n",
    "    encoder_dense2 = Dense(num_encoder_tokens, activation='relu', name='dense2')\n",
    "    encoder_outputs2 = encoder_dense2(encoder_dense1(encoder_outputs2))\n",
    "\n",
    "    # 接下来建立解码器2，解码器将返回整个输出序列\n",
    "    decoder_lstm = LSTM(latent_dim, return_sequences=True, name='LSTM3')\n",
    "    label_lstm = LSTM(latent_dim, return_sequences=False, name='LSTM4')\n",
    "    # 将编码器输出的状态作为初始解码器的初始状态\n",
    "    decoder_outputs1 = decoder_lstm(encoder_outputs2)\n",
    "    label_outputs1 = label_lstm(encoder_outputs2)\n",
    "\n",
    "    # 添加全连接层\n",
    "    decoder_dense1 = Dense(8, activation='relu', name='dense3')\n",
    "    decoder_dense2 = Dense(num_encoder_tokens, activation='relu', name='dense4')\n",
    "    decoder_outputs = decoder_dense2(decoder_dense1(decoder_outputs1))\n",
    "    label_dense1 = Dense(num_classes,activation='softmax',name='softmax')\n",
    "    label_outputs = label_dense1(label_outputs1)\n",
    "\n",
    "    # 定义整个模型\n",
    "    model = Model([encoder_inputs, y], [encoder_outputs2,decoder_outputs,label_outputs])\n",
    "\n",
    "    # 编译模型\n",
    "    # xent_loss是重构loss，kl_loss是KL loss,修改K.square(z_mean)为K.square(z_mean - yh)，也就是让隐变量向类内均值看齐\n",
    "\n",
    "\n",
    "    def VAE_loss(y_true, y_predicted):\n",
    "        reconstruction_loss1 = K.sum(mse(y_true, y_predicted), axis=-1)\n",
    "        kl_loss = - 0.5 * K.sum(1 + z_log_var - K.square(z_mean - yh) - K.exp(z_log_var), axis=-1)\n",
    "        return 0.8*K.mean(reconstruction_loss1) + 1.2*K.mean(kl_loss)\n",
    "\n",
    "\n",
    "    model.compile(loss=[VAE_loss,'mse','categorical_crossentropy'], optimizer='Adam', loss_weights=[1,2,1])\n",
    "\n",
    "    # print(model.summary())\n",
    "    display(plot_model(model))"
   ]
  },
  {
   "cell_type": "markdown",
   "metadata": {},
   "source": [
    "# CVAE3"
   ]
  },
  {
   "cell_type": "code",
   "execution_count": 7,
   "metadata": {},
   "outputs": [],
   "source": [
    "if mode == 3:\n",
    "    # 定义编码器的输入\n",
    "    y = Input(shape=(num_classes,))  # 输入类别\n",
    "    yh = RepeatVector(encoder_length)(y)\n",
    "    yh = Dense(8,activation='relu')(yh)\n",
    "    yh = Dense(num_encoder_tokens, activation='relu',\n",
    "               name='dense_yh2')(yh)  # 直接构建每个类别的均值\n",
    "\n",
    "    encoder_inputs = Input(shape=(encoder_length, num_encoder_tokens))\n",
    "\n",
    "    # 编码器\n",
    "    encoder = LSTM(latent_dim, return_sequences=True,\n",
    "                   return_state=False, name='LSTM1')\n",
    "\n",
    "    encoder_outputs1 = encoder(encoder_inputs)\n",
    "    # encoder_outpus = RepeatVector(encoder_length)(encoder_outpus)\n",
    "    \n",
    "    # 接下来建立解码器1，解码器将返回整个输出序列\n",
    "    encoder_lstm = LSTM(latent_dim, return_sequences=True, name='LSTM2')\n",
    "    encoder_outputs1 = encoder_lstm(encoder_outputs1)\n",
    "\n",
    "    # 添加全连接层\n",
    "    encoder_dense1 = Dense(8, activation='relu', name='dense1')\n",
    "    encoder_dense2 = Dense(num_encoder_tokens, activation='relu', name='dense2')\n",
    "    encoder_outputs2 = encoder_dense2(encoder_dense1(encoder_outputs1))\n",
    "\n",
    "    z_mean1 = Dense(8, name='z_mean1')(encoder_outputs2)\n",
    "    z_mean = Dense(num_encoder_tokens, name='z_mean2')(z_mean1)\n",
    "    z_log_var1 = Dense(8, name='z_log_var1')(encoder_outputs2)\n",
    "    z_log_var = Dense(num_encoder_tokens, name='z_log_var2')(z_log_var1)\n",
    "\n",
    "    # 采样\n",
    "    # z_mean = RepeatVector(encoder_length)(z_mean)\n",
    "    # z_log_var = RepeatVector(encoder_length)(z_log_var)\n",
    "\n",
    "    z = Lambda(sampling, name='z')([z_mean, z_log_var])\n",
    "    # print(z_mean.shape,z_log_var.shape)\n",
    "    # 控制标签\n",
    "    zy = concatenate((z, yh), axis=-1)\n",
    "    # print(z.shape, yh.shape, zy.shape)\n",
    "\n",
    "    # 接下来建立解码器2，解码器将返回整个输出序列\n",
    "    decoder = LSTM(latent_dim, return_sequences=True, name='LSTM3')\n",
    "    decoder_outputs = decoder(zy)\n",
    "    label_decoder = LSTM(latent_dim, return_sequences=False, name='LSTM4')\n",
    "    label_outputs = label_decoder(zy)\n",
    "\n",
    "    # 添加全连接层\n",
    "    decoder_dense1 = Dense(8, activation='relu', name='dense3')\n",
    "    decoder_dense2 = Dense(num_encoder_tokens, activation='relu', name='dense4')\n",
    "    decoder_outputs2 = decoder_dense2(decoder_dense1(decoder_outputs))\n",
    "    \n",
    "    label_dense1 = Dense(num_classes, activation='softmax', name='softmax')\n",
    "    label_outputs2 = label_dense1(label_outputs)\n",
    "\n",
    "    # 定义整个模型\n",
    "    model = Model([encoder_inputs, y], [encoder_outputs2,decoder_outputs2,label_outputs2])\n",
    "\n",
    "    # 编译模型\n",
    "    # xent_loss是重构loss，kl_loss是KL loss,修改K.square(z_mean)为K.square(z_mean - yh)，也就是让隐变量向类内均值看齐\n",
    "\n",
    "\n",
    "    def VAE_loss(y_true, y_predicted):\n",
    "        reconstruction_loss1 = K.sum(mse(y_true, y_predicted), axis=-1)\n",
    "        kl_loss = - 0.5 * K.sum(1 + z_log_var - K.square(z_mean - yh) - K.exp(z_log_var), axis=-1)\n",
    "        return 0.8*K.mean(reconstruction_loss1) + 1.2*K.mean(kl_loss)\n",
    "\n",
    "\n",
    "    model.compile(loss=['mse',VAE_loss,'categorical_crossentropy'], optimizer='Adam', loss_weights=[2,1,1])\n",
    "\n",
    "    # print(model.summary())\n",
    "    display(plot_model(model))"
   ]
  },
  {
   "cell_type": "markdown",
   "metadata": {},
   "source": [
    "# 模型训练与结果分析"
   ]
  },
  {
   "cell_type": "code",
   "execution_count": 8,
   "metadata": {},
   "outputs": [
    {
     "name": "stdout",
     "output_type": "stream",
     "text": [
      "Train on 2445 samples\n",
      "Epoch 1/20\n",
      "2445/2445 [==============================] - 2s 752us/sample - loss: 2.9637 - dense2_loss: 1.4709 - dense4_loss: 0.2808 - softmax_loss: 0.9313\n",
      "Epoch 2/20\n",
      "2445/2445 [==============================] - 2s 728us/sample - loss: 2.1568 - dense2_loss: 1.1461 - dense4_loss: 0.2810 - softmax_loss: 0.4422\n",
      "Epoch 3/20\n",
      "2445/2445 [==============================] - 2s 728us/sample - loss: 0.9394 - dense2_loss: 0.2609 - dense4_loss: 0.2806 - softmax_loss: 0.1151\n",
      "Epoch 4/20\n",
      "2445/2445 [==============================] - 2s 732us/sample - loss: 0.7839 - dense2_loss: 0.2055 - dense4_loss: 0.2809 - softmax_loss: 0.0163\n",
      "Epoch 5/20\n",
      "2445/2445 [==============================] - 2s 740us/sample - loss: 1.3684 - dense2_loss: 0.2463 - dense4_loss: 0.2810 - softmax_loss: 0.5595 - loss: 1.4430 - dense2_loss: 0.2132 - dense4_loss: 0.2805 \n",
      "Epoch 6/20\n",
      "2445/2445 [==============================] - 2s 764us/sample - loss: 0.8873 - dense2_loss: 0.2438 - dense4_loss: 0.2807 - softmax_loss: 0.0817\n",
      "Epoch 7/20\n",
      "2445/2445 [==============================] - 2s 761us/sample - loss: 0.7856 - dense2_loss: 0.2034 - dense4_loss: 0.2812 - softmax_loss: 0.0205\n",
      "Epoch 8/20\n",
      "2445/2445 [==============================] - 2s 794us/sample - loss: 0.7671 - dense2_loss: 0.1923 - dense4_loss: 0.2812 - softmax_loss: 0.0129\n",
      "Epoch 9/20\n",
      "2445/2445 [==============================] - 2s 767us/sample - loss: 0.7526 - dense2_loss: 0.1817 - dense4_loss: 0.2808 - softmax_loss: 0.0095\n",
      "Epoch 10/20\n",
      "2445/2445 [==============================] - 2s 769us/sample - loss: 0.7395 - dense2_loss: 0.1698 - dense4_loss: 0.2807 - softmax_loss: 0.0075\n",
      "Epoch 11/20\n",
      "2445/2445 [==============================] - 2s 772us/sample - loss: 0.7317 - dense2_loss: 0.1628 - dense4_loss: 0.2807 - softmax_loss: 0.0069\n",
      "Epoch 12/20\n",
      "2445/2445 [==============================] - 2s 776us/sample - loss: 0.7236 - dense2_loss: 0.1568 - dense4_loss: 0.2808 - softmax_loss: 0.0051\n",
      "Epoch 13/20\n",
      "2445/2445 [==============================] - 2s 787us/sample - loss: 0.7174 - dense2_loss: 0.1512 - dense4_loss: 0.2808 - softmax_loss: 0.0044\n",
      "Epoch 14/20\n",
      "2445/2445 [==============================] - 2s 778us/sample - loss: 0.7137 - dense2_loss: 0.1478 - dense4_loss: 0.2811 - softmax_loss: 0.0037 - loss: 0.7146 - dense2_loss: 0.1483 \n",
      "Epoch 15/20\n",
      "2445/2445 [==============================] - 2s 778us/sample - loss: 0.7105 - dense2_loss: 0.1454 - dense4_loss: 0.2811 - softmax_loss: 0.0032\n",
      "Epoch 16/20\n",
      "2445/2445 [==============================] - 2s 794us/sample - loss: 0.7080 - dense2_loss: 0.1429 - dense4_loss: 0.2807 - softmax_loss: 0.0029\n",
      "Epoch 17/20\n",
      "2445/2445 [==============================] - 2s 807us/sample - loss: 0.7059 - dense2_loss: 0.1412 - dense4_loss: 0.2811 - softmax_loss: 0.0025\n",
      "Epoch 18/20\n",
      "2445/2445 [==============================] - 2s 820us/sample - loss: 0.7035 - dense2_loss: 0.1395 - dense4_loss: 0.2807 - softmax_loss: 0.0022\n",
      "Epoch 19/20\n",
      "2445/2445 [==============================] - 2s 842us/sample - loss: 0.7023 - dense2_loss: 0.1387 - dense4_loss: 0.2809 - softmax_loss: 0.0021\n",
      "Epoch 20/20\n",
      "2445/2445 [==============================] - 2s 882us/sample - loss: 0.7090 - dense2_loss: 0.1386 - dense4_loss: 0.2810 - softmax_loss: 0.0083\n"
     ]
    }
   ],
   "source": [
    "if mode ==1:\n",
    "    History = model.fit([Intrain,OutLtrain],[Outtrain,OutLtrain],epochs=epochs,batch_size=batch_size)\n",
    "if mode ==2:\n",
    "    History = model.fit([Intrain,OutLtrain],[Intrain,Outtrain,OutLtrain],epochs=epochs,batch_size=batch_size)\n",
    "if mode ==3:\n",
    "    History = model.fit([Intrain,OutLtrain],[Outtrain,Outtrain,OutLtrain],epochs=epochs,batch_size=batch_size)"
   ]
  },
  {
   "cell_type": "code",
   "execution_count": 9,
   "metadata": {},
   "outputs": [
    {
     "data": {
      "image/png": "[encoded data removed]",
      "text/plain": [
       "<Figure size 432x288 with 1 Axes>"
      ]
     },
     "metadata": {
      "needs_background": "light"
     },
     "output_type": "display_data"
    }
   ],
   "source": [
    "# 绘制训练 & 验证的损失值\n",
    "plt.plot(History.history['loss'])\n",
    "\n",
    "plt.title('Model loss')\n",
    "plt.ylabel('Loss')\n",
    "plt.xlabel('Epoch')\n",
    "plt.legend(['Train'], loc='upper left')\n",
    "plt.show()"
   ]
  },
  {
   "cell_type": "code",
   "execution_count": 10,
   "metadata": {},
   "outputs": [
    {
     "name": "stdout",
     "output_type": "stream",
     "text": [
      "WARNING:tensorflow:From D:\\Anaconda3\\envs\\py36\\lib\\site-packages\\tensorflow\\python\\keras\\engine\\training_v1.py:2048: Model.state_updates (from tensorflow.python.keras.engine.training) is deprecated and will be removed in a future version.\n",
      "Instructions for updating:\n",
      "This property should not be used in TensorFlow 2.0, as updates are applied automatically.\n",
      "Loss: [0.7001971026887867, 0.18017979, 0.25927207, 0.0017567631]\n"
     ]
    }
   ],
   "source": [
    "if mode==1:\n",
    "    score = model.evaluate([Intest,OutLtest],[Outtest,OutLtest])\n",
    "    print('Loss:', score)\n",
    "if mode==2:\n",
    "    score = model.evaluate([Intest,OutLtest],[Intest,Outtest,OutLtest])\n",
    "    print('Loss:', score)\n",
    "if mode==3:\n",
    "    score = model.evaluate([Intest,OutLtest],[Outtest,Outtest,OutLtest])\n",
    "    print('Loss:', score)"
   ]
  },
  {
   "cell_type": "markdown",
   "metadata": {},
   "source": [
    "# 可视化"
   ]
  },
  {
   "cell_type": "code",
   "execution_count": 11,
   "metadata": {},
   "outputs": [],
   "source": [
    "if style == 'En':\n",
    "    i = 28\n",
    "\n",
    "    if mode == 2 or 3:\n",
    "        vis1,_,act1 = model.predict([[Intest[i]], np.array([[1, 0, 0]])])\n",
    "        vis2,_,act2 = model.predict([[Intest[i]], np.array([[0, 1, 0]])])\n",
    "        vis3,_,act3 = model.predict([[Intest[i]], np.array([[0, 0, 1]])])\n",
    "    if mode == 1:\n",
    "        vis1,act1 = model.predict([[Intest[i]], np.array([[1, 0, 0]])])\n",
    "        vis2,act2 = model.predict([[Intest[i]], np.array([[0, 1, 0]])])\n",
    "        vis3,act3 = model.predict([[Intest[i]], np.array([[0, 0, 1]])])\n",
    "        \n",
    "    print(act1,act2,act3)\n",
    "\n",
    "    avis1 = vis1[0].swapaxes(0, 1)\n",
    "    avis2 = vis2[0].swapaxes(0, 1)\n",
    "    avis3 = vis3[0].swapaxes(0, 1)\n",
    "    aIntest = Intest101[i].swapaxes(0, 1)\n",
    "    aOuttest = Outtest101[i].swapaxes(0, 1)\n",
    "\n",
    "    plt.plot(aOuttest[1], aOuttest[0], lw=2, label=\"Outtest\")\n",
    "    plt.scatter(avis1[1], avis1[0], lw=2, label=\"Left\")\n",
    "    plt.scatter(avis2[1], avis2[0], lw=2, label=\"Keep\")\n",
    "    plt.scatter(avis3[1], avis3[0], lw=2, label=\"Right\")\n",
    "    plt.plot(aIntest[1], aIntest[0], lw=2, label=\"Intest\")\n",
    "\n",
    "    plt.plot(np.linspace(0, 1, 2), [0.8, 0.8], lw=2, linestyle='--')\n",
    "    plt.plot(np.linspace(0, 1, 2), [0.6, 0.6], lw=2, linestyle='--')\n",
    "    plt.plot(np.linspace(0, 1, 2), [0.4, 0.4], lw=2, linestyle='--')\n",
    "    plt.plot(np.linspace(0, 1, 2), [0.2, 0.2], lw=2, linestyle='--')\n",
    "\n",
    "    plt.xlim(0, 1)\n",
    "    plt.ylim(0, 1)\n",
    "    plt.title('trajectory')\n",
    "    plt.ylabel('horizontal')\n",
    "    plt.xlabel('longitudinal')\n",
    "    plt.legend()\n",
    "    plt.show()"
   ]
  },
  {
   "cell_type": "code",
   "execution_count": 22,
   "metadata": {},
   "outputs": [
    {
     "name": "stdout",
     "output_type": "stream",
     "text": [
      "[[9.9329871e-01 4.5029403e-04 6.2509566e-03]] [[2.9690818e-05 9.9863952e-01 1.3308335e-03]] [[1.3956021e-03 2.6742037e-04 9.9833691e-01]]\n"
     ]
    },
    {
     "data": {
      "image/png": "[encoded data removed]",
      "text/plain": [
       "<Figure size 432x288 with 1 Axes>"
      ]
     },
     "metadata": {
      "needs_background": "light"
     },
     "output_type": "display_data"
    }
   ],
   "source": [
    "if style == 'Inc':    \n",
    "    i = 43\n",
    "    if mode == 2 or mode == 3:\n",
    "        vis1,_,act1 = model.predict([[Intest[i]], np.array([[1, 0, 0]])])\n",
    "        vis2,_,act2 = model.predict([[Intest[i]], np.array([[0, 1, 0]])])\n",
    "        vis3,_,act3 = model.predict([[Intest[i]], np.array([[0, 0, 1]])])\n",
    "    elif mode == 1:\n",
    "        vis1,act1 = model.predict([[Intest[i]], np.array([[1, 0, 0]])])\n",
    "        vis2,act2 = model.predict([[Intest[i]], np.array([[0, 1, 0]])])\n",
    "        vis3,act3 = model.predict([[Intest[i]], np.array([[0, 0, 1]])])\n",
    "        \n",
    "    print(act1,act2,act3)\n",
    "    # 逆归一化\n",
    "    if index ==0:\n",
    "        minx,miny,maxx,maxy = -0.08069654511150287,0.0,0.05337498582371923,0.0901874766834021\n",
    "    if index ==1:\n",
    "        minx,miny,maxx,maxy = -0.05825761624799569,0.0,0.05758570665037799,0.059151017599056055\n",
    "    ir_vis1 = vis1[0] * np.array([maxx-minx,maxy-miny]) + np.array([minx,miny]) \n",
    "    ir_vis2 = vis2[0] * np.array([maxx-minx,maxy-miny]) + np.array([minx,miny])\n",
    "    ir_vis3 = vis3[0] * np.array([maxx-minx,maxy-miny]) + np.array([minx,miny])\n",
    "#     print(ir_vis1,'\\n\\n',ir_vis2,'\\n\\n',ir_vis3)\n",
    "    # 逆增量化\n",
    "    for j in range(Intrain.shape[1]):\n",
    "        ir_vis1[j] += OutStest[i][j] if j==0 else ir_vis1[j-1]\n",
    "        ir_vis2[j] += OutStest[i][j] if j==0 else ir_vis2[j-1]\n",
    "        ir_vis3[j] += OutStest[i][j] if j==0 else ir_vis3[j-1]\n",
    "\n",
    "    avis1 = ir_vis1.swapaxes(0, 1)\n",
    "    avis2 = ir_vis2.swapaxes(0, 1)\n",
    "    avis3 = ir_vis3.swapaxes(0, 1)\n",
    "    aIntest = InStest[i].swapaxes(0, 1)\n",
    "    aOuttest = OutStest[i].swapaxes(0, 1)\n",
    "\n",
    "    plt.plot(aOuttest[1], aOuttest[0], lw=2, label=\"Outtest\")\n",
    "    plt.scatter(avis1[1], avis1[0], lw=2, label=\"Left\")\n",
    "    plt.scatter(avis2[1], avis2[0], lw=2, label=\"Keep\")\n",
    "    plt.scatter(avis3[1], avis3[0], lw=2, label=\"Right\")\n",
    "    plt.plot(aIntest[1], aIntest[0], lw=2, label=\"Intest\")\n",
    "\n",
    "    plt.plot(np.linspace(0, 1, 2), [0.8, 0.8], lw=2, linestyle='--')\n",
    "    plt.plot(np.linspace(0, 1, 2), [0.6, 0.6], lw=2, linestyle='--')\n",
    "    plt.plot(np.linspace(0, 1, 2), [0.4, 0.4], lw=2, linestyle='--')\n",
    "    plt.plot(np.linspace(0, 1, 2), [0.2, 0.2], lw=2, linestyle='--')\n",
    "\n",
    "    plt.xlim(0, 1)\n",
    "    plt.ylim(0, 1)\n",
    "    plt.title('trajectory')\n",
    "    plt.ylabel('horizontal')\n",
    "    plt.xlabel('longitudinal')\n",
    "    plt.legend()\n",
    "    plt.show()\n",
    "    "
   ]
  },
  {
   "cell_type": "markdown",
   "metadata": {},
   "source": [
    "# 误差分析"
   ]
  },
  {
   "cell_type": "code",
   "execution_count": 23,
   "metadata": {},
   "outputs": [
    {
     "name": "stdout",
     "output_type": "stream",
     "text": [
      "[ 0.07906403  1.54978341  2.69851891  3.3957315   4.06266445  5.13190077\n",
      "  6.29776526  7.66756266  9.07569308 10.12443629]\n",
      "1s error: 1.549783m; 3s error: 5.131901m; 5s error: 10.124436m;\n",
      "1s error: 0.079064m; 3s error: 2.357152m; 5s error: 4.439854m;\n"
     ]
    }
   ],
   "source": [
    "if index == 0:\n",
    "    minx,maxx,miny,maxy = 0.003,96.996, 0.0, 444.962\n",
    "elif index == 1:\n",
    "    minx,maxx,miny,maxy = 3.598, 69.083, 1584.308, 2235.252\n",
    "ratio = 0.3048\n",
    "\n",
    "# 再逆归一化，以此单位米化\n",
    "if OutLtest[i][0]==1:\n",
    "    ir_vis = ir_vis1\n",
    "if OutLtest[i][1]==1:\n",
    "    ir_vis = ir_vis2\n",
    "if OutLtest[i][2]==1:\n",
    "    ir_vis = ir_vis3\n",
    "\n",
    "irir_vis = (ir_vis * np.array([maxx-minx,maxy-miny]) + np.array([minx,miny])) * ratio\n",
    "ir_OutStest = (OutStest[i] * np.array([maxx-minx,maxy-miny]) + np.array([minx,miny])) * ratio\n",
    "l1 = np.abs(irir_vis - ir_OutStest)\n",
    "FDE = np.power((np.power(l1[...,0],2)+np.power(l1[...,1],2)),0.5)\n",
    "print(FDE)\n",
    "print('1s error: %fm; 3s error: %fm; 5s error: %fm;'%(FDE[1],FDE[5],FDE[-1]))\n",
    "print('1s error: %fm; 3s error: %fm; 5s error: %fm;'%(np.mean(FDE[0:1]),np.mean(FDE[0:5]),np.mean(FDE[0:-1])))"
   ]
  },
  {
   "cell_type": "code",
   "execution_count": null,
   "metadata": {},
   "outputs": [],
   "source": []
  }
 ],
 "metadata": {
  "kernelspec": {
   "display_name": "Python 3.6.10 64-bit ('py36': conda)",
   "language": "python",
   "name": "python361064bitpy36conda1b2e35c9346148d2a8b6ebb718535481"
  },
  "language_info": {
   "codemirror_mode": {
    "name": "ipython",
    "version": 3
   },
   "file_extension": ".py",
   "mimetype": "text/x-python",
   "name": "python",
   "nbconvert_exporter": "python",
   "pygments_lexer": "ipython3",
   "version": "3.6.10"
  },
  "toc": {
   "base_numbering": 1,
   "nav_menu": {},
   "number_sections": true,
   "sideBar": true,
   "skip_h1_title": false,
   "title_cell": "Table of Contents",
   "title_sidebar": "Contents",
   "toc_cell": false,
   "toc_position": {
    "height": "calc(100% - 180px)",
    "left": "10px",
    "top": "150px",
    "width": "258.6px"
   },
   "toc_section_display": true,
   "toc_window_display": true
  },
  "varInspector": {
   "cols": {
    "lenName": 16,
    "lenType": 16,
    "lenVar": 40
   },
   "kernels_config": {
    "python": {
     "delete_cmd_postfix": "",
     "delete_cmd_prefix": "del ",
     "library": "var_list.py",
     "varRefreshCmd": "print(var_dic_list())"
    },
    "r": {
     "delete_cmd_postfix": ") ",
     "delete_cmd_prefix": "rm(",
     "library": "var_list.r",
     "varRefreshCmd": "cat(var_dic_list()) "
    }
   },
   "types_to_exclude": [
    "module",
    "function",
    "builtin_function_or_method",
    "instance",
    "_Feature"
   ],
   "window_display": false
  }
 },
 "nbformat": 4,
 "nbformat_minor": 2
}
