{
 "cells": [
  {
   "cell_type": "code",
   "execution_count": null,
   "metadata": {},
   "outputs": [],
   "source": [
    "class student(object):\n",
    "    def __init__(self, name, score):\n",
    "        self.n=name\n",
    "        self.s=score\n",
    "    def get_score(self,a):\n",
    "        print(self.n,'的分数是',self.s+a)"
   ]
  },
  {
   "cell_type": "code",
   "execution_count": null,
   "metadata": {},
   "outputs": [],
   "source": [
    "simon=student('simon',90)"
   ]
  },
  {
   "cell_type": "code",
   "execution_count": null,
   "metadata": {},
   "outputs": [],
   "source": [
    "simon.get_score(1)"
   ]
  },
  {
   "cell_type": "code",
   "execution_count": null,
   "metadata": {},
   "outputs": [],
   "source": [
    "class animal(object):\n",
    "    def run():\n",
    "        print('animal')"
   ]
  },
  {
   "cell_type": "code",
   "execution_count": null,
   "metadata": {},
   "outputs": [],
   "source": [
    "class dog(animal):\n",
    "    pass"
   ]
  },
  {
   "cell_type": "code",
   "execution_count": null,
   "metadata": {},
   "outputs": [],
   "source": [
    "we=dog\n",
    "we.run()\n",
    "\n",
    "dir(animal)"
   ]
  },
  {
   "cell_type": "code",
   "execution_count": null,
   "metadata": {},
   "outputs": [],
   "source": [
    "import types\n",
    "type('1')==types.BuiltinFunctionType"
   ]
  },
  {
   "cell_type": "code",
   "execution_count": null,
   "metadata": {},
   "outputs": [],
   "source": [
    "isinstance({'1':2,'2':3,},(dict,list,tuple))  # 是否属于(dict,list,tuple)其中之一的类型"
   ]
  },
  {
   "cell_type": "code",
   "execution_count": null,
   "metadata": {},
   "outputs": [],
   "source": [
    "def twoSum(nums: [int], target: int) -> [int]:\n",
    "    for i in range(len(nums)):\n",
    "        for j in range(len(nums)-i-1):\n",
    "            if nums[i] + nums[j+i+1] == target:\n",
    "                return [i, i+j+1]"
   ]
  },
  {
   "cell_type": "code",
   "execution_count": null,
   "metadata": {},
   "outputs": [],
   "source": [
    "nums = [3,2,4]\n",
    "target = 6\n",
    "twoSum(nums, target)"
   ]
  },
  {
   "cell_type": "code",
   "execution_count": null,
   "metadata": {},
   "outputs": [],
   "source": [
    "import numpy as np\n",
    "i=1\n",
    "a=np.load('Intest%s.npy'%i)\n",
    "a.shape"
   ]
  },
  {
   "cell_type": "code",
   "execution_count": null,
   "metadata": {},
   "outputs": [],
   "source": [
    "a,_,b=[1,2,3]\n",
    "print(a,b)"
   ]
  },
  {
   "cell_type": "code",
   "execution_count": null,
   "metadata": {},
   "outputs": [],
   "source": [
    "a=[1,2,3,4,5,6,7,8,9,10]\n",
    "b=a[0:len(a)//2]\n",
    "c=a[len(a)//2:]\n",
    "c"
   ]
  },
  {
   "cell_type": "code",
   "execution_count": null,
   "metadata": {},
   "outputs": [],
   "source": [
    "a=[1,2,3,4,5,6,7,8,9,10]\n",
    "a.reverse()\n",
    "a"
   ]
  },
  {
   "cell_type": "code",
   "execution_count": null,
   "metadata": {},
   "outputs": [],
   "source": [
    "a,b=1,2\n",
    "a,b=b,a\n",
    "print(a,b)"
   ]
  },
  {
   "cell_type": "code",
   "execution_count": null,
   "metadata": {},
   "outputs": [],
   "source": [
    "a=[1,2,3,5,6]\n",
    "b=[]\n",
    "b+=a\n",
    "# b.pop(1)\n",
    "a.pop(0)\n",
    "print(a,b)"
   ]
  },
  {
   "cell_type": "code",
   "execution_count": null,
   "metadata": {},
   "outputs": [],
   "source": [
    "a=[1,2,3,4,5]\n",
    "a+=[3]\n",
    "a"
   ]
  },
  {
   "cell_type": "code",
   "execution_count": null,
   "metadata": {},
   "outputs": [],
   "source": [
    "a='adfwe'\n",
    "a=sorted(a)\n",
    "a"
   ]
  },
  {
   "cell_type": "code",
   "execution_count": 2,
   "metadata": {},
   "outputs": [
    {
     "ename": "KeyError",
     "evalue": "0",
     "output_type": "error",
     "traceback": [
      "\u001b[1;31m---------------------------------------------------------------------------\u001b[0m",
      "\u001b[1;31mKeyError\u001b[0m                                  Traceback (most recent call last)",
      "\u001b[1;32m<ipython-input-2-79f8416b7f5f>\u001b[0m in \u001b[0;36m<module>\u001b[1;34m\u001b[0m\n\u001b[0;32m      1\u001b[0m \u001b[0mdict\u001b[0m\u001b[1;33m=\u001b[0m\u001b[1;33m{\u001b[0m\u001b[1;34m'1'\u001b[0m\u001b[1;33m:\u001b[0m\u001b[1;33m[\u001b[0m\u001b[1;34m'2'\u001b[0m\u001b[1;33m]\u001b[0m\u001b[1;33m,\u001b[0m\u001b[1;34m'3'\u001b[0m\u001b[1;33m:\u001b[0m\u001b[1;33m[\u001b[0m\u001b[1;34m'4'\u001b[0m\u001b[1;33m]\u001b[0m\u001b[1;33m,\u001b[0m\u001b[1;34m'5'\u001b[0m\u001b[1;33m:\u001b[0m\u001b[1;33m[\u001b[0m\u001b[1;34m'6'\u001b[0m\u001b[1;33m]\u001b[0m\u001b[1;33m}\u001b[0m\u001b[1;33m\u001b[0m\u001b[1;33m\u001b[0m\u001b[0m\n\u001b[0;32m      2\u001b[0m \u001b[1;31m# list(dict.values())\u001b[0m\u001b[1;33m\u001b[0m\u001b[1;33m\u001b[0m\u001b[1;33m\u001b[0m\u001b[0m\n\u001b[1;32m----> 3\u001b[1;33m \u001b[0mdict\u001b[0m\u001b[1;33m[\u001b[0m\u001b[1;36m0\u001b[0m\u001b[1;33m]\u001b[0m\u001b[1;33m\u001b[0m\u001b[1;33m\u001b[0m\u001b[0m\n\u001b[0m",
      "\u001b[1;31mKeyError\u001b[0m: 0"
     ]
    }
   ],
   "source": [
    "dict={'1':['2'],'3':['4'],'5':['6']}\n",
    "# list(dict.values())\n",
    "dict[0]"
   ]
  },
  {
   "cell_type": "code",
   "execution_count": null,
   "metadata": {},
   "outputs": [],
   "source": [
    "a=[1,2,3,4,5,1,2,3,4,5]\n",
    "a.pop(1)\n",
    "a.pop(2)\n",
    "a"
   ]
  },
  {
   "cell_type": "code",
   "execution_count": null,
   "metadata": {},
   "outputs": [],
   "source": [
    "a=None\n",
    "if not a:\n",
    "    pass"
   ]
  },
  {
   "cell_type": "code",
   "execution_count": null,
   "metadata": {},
   "outputs": [],
   "source": [
    "a=[[4,6],[0,7]]\n",
    "a.sort()\n",
    "a"
   ]
  },
  {
   "cell_type": "code",
   "execution_count": null,
   "metadata": {},
   "outputs": [],
   "source": [
    "a=[1]\n",
    "a.append(None)\n",
    "len(a)"
   ]
  },
  {
   "cell_type": "code",
   "execution_count": null,
   "metadata": {},
   "outputs": [],
   "source": [
    "a=set([1,2,3,4,5])\n",
    "a=list(a)\n",
    "a[0]"
   ]
  },
  {
   "cell_type": "code",
   "execution_count": null,
   "metadata": {},
   "outputs": [],
   "source": [
    "a=0\n",
    "b=1\n",
    "a^b"
   ]
  },
  {
   "cell_type": "code",
   "execution_count": null,
   "metadata": {},
   "outputs": [],
   "source": [
    "a='{:030b}'.format(9)\n",
    "b='{:030b}'.format(21)\n",
    "print(a,b)\n",
    "ans=0\n",
    "for i in range(30):\n",
    "    if int(a[i])^int(b[i]):\n",
    "        ans+=1\n",
    "ans"
   ]
  },
  {
   "cell_type": "code",
   "execution_count": null,
   "metadata": {},
   "outputs": [],
   "source": [
    "9^21"
   ]
  },
  {
   "cell_type": "code",
   "execution_count": null,
   "metadata": {},
   "outputs": [],
   "source": [
    "a=[0]*1\n",
    "a"
   ]
  },
  {
   "cell_type": "code",
   "execution_count": 1,
   "metadata": {},
   "outputs": [
    {
     "data": {
      "text/plain": [
       "'0.3.0.post1'"
      ]
     },
     "execution_count": 1,
     "metadata": {},
     "output_type": "execute_result"
    }
   ],
   "source": [
    "import tianshou\n",
    "tianshou.__version__"
   ]
  },
  {
   "cell_type": "code",
   "execution_count": 14,
   "metadata": {},
   "outputs": [
    {
     "data": {
      "text/plain": [
       "array([0, 1])"
      ]
     },
     "execution_count": 14,
     "metadata": {},
     "output_type": "execute_result"
    }
   ],
   "source": [
    "import random\n",
    "import numpy as np\n",
    "space = np.array([1, 2])\n",
    "random.choice(space)"
   ]
  },
  {
   "cell_type": "code",
   "execution_count": 2,
   "metadata": {},
   "outputs": [
    {
     "data": {
      "text/plain": [
       "<function matplotlib.pyplot.show(*args, **kw)>"
      ]
     },
     "execution_count": 2,
     "metadata": {},
     "output_type": "execute_result"
    },
    {
     "data": {
      "image/png": "[encoded data removed]",
      "text/plain": [
       "<Figure size 432x288 with 1 Axes>"
      ]
     },
     "metadata": {
      "needs_background": "light"
     },
     "output_type": "display_data"
    }
   ],
   "source": [
    "import matplotlib.pyplot as plt\n",
    "import numpy as np\n",
    "x=np.linspace(0,5,5)\n",
    "y=[1,2,3,4,5]\n",
    "plt.figure\n",
    "plt.plot(x,y)\n",
    "plt.show"
   ]
  },
  {
   "cell_type": "code",
   "execution_count": 17,
   "metadata": {},
   "outputs": [
    {
     "data": {
      "text/plain": [
       "18"
      ]
     },
     "execution_count": 17,
     "metadata": {},
     "output_type": "execute_result"
    }
   ],
   "source": [
    "x=[1,2,3,4,5,6]\n",
    "file = open('f.csv','w+')\n",
    "file.write(str(x))\n",
    "# file.close()"
   ]
  },
  {
   "cell_type": "code",
   "execution_count": 18,
   "metadata": {},
   "outputs": [
    {
     "name": "stdout",
     "output_type": "stream",
     "text": [
      "\n"
     ]
    }
   ],
   "source": [
    "# file = open('f.csv','a+')\n",
    "y=file.read()\n",
    "print(y)\n",
    "file.close()"
   ]
  },
  {
   "cell_type": "code",
   "execution_count": 1,
   "metadata": {},
   "outputs": [
    {
     "data": {
      "text/plain": [
       "array([2, 4, 6])"
      ]
     },
     "execution_count": 1,
     "metadata": {},
     "output_type": "execute_result"
    }
   ],
   "source": [
    "import numpy as np\n",
    "a=np.array([[1,2],[3,4],[5,6]])\n",
    "a[...,1]"
   ]
  },
  {
   "cell_type": "code",
   "execution_count": 11,
   "metadata": {},
   "outputs": [
    {
     "name": "stdout",
     "output_type": "stream",
     "text": [
      "-0.0061526249672159946 0.04509544599225922\n"
     ]
    },
    {
     "data": {
      "image/png": "[encoded data removed]",
      "text/plain": [
       "<Figure size 432x288 with 1 Axes>"
      ]
     },
     "metadata": {
      "needs_background": "light"
     },
     "output_type": "display_data"
    }
   ],
   "source": [
    "import pandas as pd\n",
    "import numpy as np\n",
    "import matplotlib.pyplot as plt\n",
    "\n",
    "\n",
    "# 根据均值、标准差,求指定范围的正态分布概率值\n",
    "def normfun(x, mu, sigma):\n",
    "    pdf = np.exp(-((x - mu)**2)/(2*sigma**2)) / (sigma * np.sqrt(2*np.pi))\n",
    "    return pdf\n",
    "\n",
    "\n",
    "# result = np.random.randint(-65, 80, size=100)  # 最小值,最大值,数量\n",
    "result = np.random.normal(0,0.05,100)  # 均值为0.5,方差为1\n",
    "# print(result)\n",
    "\n",
    "x = np.arange(min(result), max(result), 0.1)\n",
    "# 设定 y 轴，载入刚才的正态分布函数\n",
    "print(result.mean(), result.std())\n",
    "y = normfun(x, result.mean(), result.std())\n",
    "plt.plot(x, y)  # 这里画出理论的正态分布概率曲线\n",
    "\n",
    "# 这里画出实际的参数概率与取值关系\n",
    "plt.hist(result, bins=10, rwidth=0.8, density=True)  # bins个柱状图,宽度是rwidth(0~1),=1没有缝隙\n",
    "plt.title('distribution')\n",
    "plt.xlabel('temperature')\n",
    "plt.ylabel('probability')\n",
    "# 输出\n",
    "plt.show()  # 最后图片的概率和不为1是因为正态分"
   ]
  },
  {
   "cell_type": "code",
   "execution_count": 6,
   "metadata": {},
   "outputs": [
    {
     "data": {
      "text/plain": [
       "array([1, 2, 3, 4, 5, 6])"
      ]
     },
     "execution_count": 6,
     "metadata": {},
     "output_type": "execute_result"
    }
   ],
   "source": [
    "import numpy as np\n",
    "a=np.array([1,2,3])\n",
    "b=np.array([4,5,6])\n",
    "c=np.array([a,b])\n",
    "c.flatten()"
   ]
  },
  {
   "cell_type": "code",
   "execution_count": 6,
   "metadata": {},
   "outputs": [
    {
     "name": "stdout",
     "output_type": "stream",
     "text": [
      "[array([0.9995]), array([0.99900025]), array([0.99850075]), array([0.9980015]), array([0.9975025]), array([0.99700375]), array([0.99650525]), array([0.99600699]), array([0.99550899]), array([0.99501124]), array([0.99451373]), array([0.99401647]), array([0.99351946]), array([0.9930227]), array([0.99252619]), array([0.99202993]), array([0.99153392]), array([0.99103815]), array([0.99054263]), array([0.99004736]), array([0.98955233]), array([0.98905756]), array([0.98856303]), array([0.98806875]), array([0.98757471]), array([0.98708093]), array([0.98658739]), array([0.98609409]), array([0.98560104]), array([0.98510824]), array([0.98461569]), array([0.98412338]), array([0.98363132]), array([0.9831395]), array([0.98264794]), array([0.98215661]), array([0.98166553]), array([0.9811747]), array([0.98068411]), array([0.98019377]), array([0.97970367]), array([0.97921382]), array([0.97872422]), array([0.97823485]), array([0.97774574]), array([0.97725686]), array([0.97676823]), array([0.97627985]), array([0.97579171]), array([0.97530381]), array([0.97481616]), array([0.97432875]), array([0.97384159]), array([0.97335467]), array([0.97286799]), array([0.97238156]), array([0.97189537]), array([0.97140942]), array([0.97092371]), array([0.97043825]), array([0.96995303]), array([0.96946806]), array([0.96898332]), array([0.96849883]), array([0.96801458]), array([0.96753057]), array([0.96704681]), array([0.96656329]), array([0.96608]), array([0.96559696]), array([0.96511417]), array([0.96463161]), array([0.96414929]), array([0.96366722]), array([0.96318538]), array([0.96270379]), array([0.96222244]), array([0.96174133]), array([0.96126046]), array([0.96077983]), array([0.96029944]), array([0.95981929]), array([0.95933938]), array([0.95885971]), array([0.95838028]), array([0.95790109]), array([0.95742214]), array([0.95694343]), array([0.95646496]), array([0.95598672]), array([0.95550873]), array([0.95503098]), array([0.95455346]), array([0.95407618]), array([0.95359915]), array([0.95312235]), array([0.95264578]), array([0.95216946]), array([0.95169338]), array([0.95121753]), array([0.95074192]), array([0.95026655]), array([0.94979142]), array([0.94931652]), array([0.94884186]), array([0.94836744]), array([0.94789326]), array([0.94741931]), array([0.9469456]), array([0.94647213]), array([0.94599889]), array([0.94552589]), array([0.94505313]), array([0.9445806]), array([0.94410831]), array([0.94363626]), array([0.94316444]), array([0.94269286]), array([0.94222151]), array([0.9417504]), array([0.94127953]), array([0.94080889]), array([0.94033848]), array([0.93986831]), array([0.93939838]), array([0.93892868]), array([0.93845922]), array([0.93798999]), array([0.93752099]), array([0.93705223]), array([0.9365837]), array([0.93611541]), array([0.93564736]), array([0.93517953]), array([0.93471194]), array([0.93424459]), array([0.93377746]), array([0.93331057]), array([0.93284392]), array([0.9323775]), array([0.93191131]), array([0.93144535]), array([0.93097963]), array([0.93051414]), array([0.93004888]), array([0.92958386]), array([0.92911907]), array([0.92865451]), array([0.92819018]), array([0.92772609]), array([0.92726222]), array([0.92679859]), array([0.92633519]), array([0.92587202]), array([0.92540909]), array([0.92494638]), array([0.92448391]), array([0.92402167]), array([0.92355966]), array([0.92309788]), array([0.92263633]), array([0.92217501]), array([0.92171392]), array([0.92125307]), array([0.92079244]), array([0.92033204]), array([0.91987188]), array([0.91941194]), array([0.91895224]), array([0.91849276]), array([0.91803351]), array([0.9175745]), array([0.91711571]), array([0.91665715]), array([0.91619882]), array([0.91574072]), array([0.91528285]), array([0.91482521]), array([0.9143678]), array([0.91391062]), array([0.91345366]), array([0.91299693]), array([0.91254043]), array([0.91208416]), array([0.91162812]), array([0.91117231]), array([0.91071672]), array([0.91026136]), array([0.90980623]), array([0.90935133]), array([0.90889665]), array([0.90844221]), array([0.90798798]), array([0.90753399]), array([0.90708022]), array([0.90662668]), array([0.90617337]), array([0.90572028]), array([0.90526742]), array([0.90481479]), array([0.90436238]), array([0.9039102]), array([0.90345825]), array([0.90300652]), array([0.90255501]), array([0.90210374]), array([0.90165268]), array([0.90120186]), array([0.90075126]), array([0.90030088]), array([0.89985073]), array([0.89940081]), array([0.89895111]), array([0.89850163]), array([0.89805238]), array([0.89760335]), array([0.89715455]), array([0.89670597]), array([0.89625762]), array([0.89580949]), array([0.89536159]), array([0.89491391]), array([0.89446645]), array([0.89401922]), array([0.89357221]), array([0.89312542]), array([0.89267886]), array([0.89223252]), array([0.8917864]), array([0.89134051]), array([0.89089484]), array([0.89044939]), array([0.89000417]), array([0.88955916]), array([0.88911438]), array([0.88866983]), array([0.88822549]), array([0.88778138]), array([0.88733749]), array([0.88689382]), array([0.88645037]), array([0.88600715]), array([0.88556414]), array([0.88512136]), array([0.8846788]), array([0.88423646]), array([0.88379434]), array([0.88335245]), array([0.88291077]), array([0.88246932]), array([0.88202808]), array([0.88158707]), array([0.88114627]), array([0.8807057]), array([0.88026535]), array([0.87982521]), array([0.8793853]), array([0.87894561]), array([0.87850614]), array([0.87806688]), array([0.87762785]), array([0.87718904]), array([0.87675044]), array([0.87631207]), array([0.87587391]), array([0.87543597]), array([0.87499826]), array([0.87456076]), array([0.87412348]), array([0.87368641]), array([0.87324957]), array([0.87281295]), array([0.87237654]), array([0.87194035]), array([0.87150438]), array([0.87106863]), array([0.8706331]), array([0.87019778]), array([0.86976268]), array([0.8693278]), array([0.86889313]), array([0.86845869]), array([0.86802446]), array([0.86759045]), array([0.86715665]), array([0.86672307]), array([0.86628971]), array([0.86585657]), array([0.86542364]), array([0.86499093]), array([0.86455843]), array([0.86412615]), array([0.86369409]), array([0.86326224]), array([0.86283061]), array([0.86239919]), array([0.861968]), array([0.86153701]), array([0.86110624]), array([0.86067569]), array([0.86024535]), array([0.85981523]), array([0.85938532]), array([0.85895563]), array([0.85852615]), array([0.85809689]), array([0.85766784]), array([0.85723901]), array([0.85681039]), array([0.85638198]), array([0.85595379]), array([0.85552581]), array([0.85509805]), array([0.8546705]), array([0.85424317]), array([0.85381604]), array([0.85338914]), array([0.85296244]), array([0.85253596]), array([0.85210969]), array([0.85168364]), array([0.8512578]), array([0.85083217]), array([0.85040675]), array([0.84998155]), array([0.84955656]), array([0.84913178]), array([0.84870721]), array([0.84828286]), array([0.84785872]), array([0.84743479]), array([0.84701107]), array([0.84658757]), array([0.84616427]), array([0.84574119]), array([0.84531832]), array([0.84489566]), array([0.84447321]), array([0.84405098]), array([0.84362895]), array([0.84320714]), array([0.84278553]), array([0.84236414]), array([0.84194296]), array([0.84152199]), array([0.84110122]), array([0.84068067]), array([0.84026033]), array([0.8398402]), array([0.83942028]), array([0.83900057]), array([0.83858107]), array([0.83816178]), array([0.8377427]), array([0.83732383]), array([0.83690517]), array([0.83648672]), array([0.83606847]), array([0.83565044]), array([0.83523261]), array([0.834815]), array([0.83439759]), array([0.83398039]), array([0.8335634]), array([0.83314662]), array([0.83273004]), array([0.83231368]), array([0.83189752]), array([0.83148157]), array([0.83106583]), array([0.8306503]), array([0.83023498]), array([0.82981986]), array([0.82940495]), array([0.82899025]), array([0.82857575]), array([0.82816146]), array([0.82774738]), array([0.82733351]), array([0.82691984]), array([0.82650638]), array([0.82609313]), array([0.82568008]), array([0.82526724]), array([0.82485461]), array([0.82444218]), array([0.82402996]), array([0.82361794]), array([0.82320614]), array([0.82279453]), array([0.82238314]), array([0.82197194]), array([0.82156096]), array([0.82115018]), array([0.8207396]), array([0.82032923]), array([0.81991907]), array([0.81950911]), array([0.81909935]), array([0.8186898]), array([0.81828046]), array([0.81787132]), array([0.81746238]), array([0.81705365]), array([0.81664513]), array([0.8162368]), array([0.81582868]), array([0.81542077]), array([0.81501306]), array([0.81460555]), array([0.81419825]), array([0.81379115]), array([0.81338426]), array([0.81297756]), array([0.81257107]), array([0.81216479]), array([0.81175871]), array([0.81135283]), array([0.81094715]), array([0.81054168]), array([0.81013641]), array([0.80973134]), array([0.80932647]), array([0.80892181]), array([0.80851735]), array([0.80811309]), array([0.80770903]), array([0.80730518]), array([0.80690153]), array([0.80649808]), array([0.80609483]), array([0.80569178]), array([0.80528893]), array([0.80488629]), array([0.80448385]), array([0.8040816]), array([0.80367956]), array([0.80327772]), array([0.80287608]), array([0.80247465]), array([0.80207341]), array([0.80167237]), array([0.80127154]), array([0.8008709]), array([0.80047046]), array([0.80007023]), array([0.79967019]), array([0.79927036]), array([0.79887072]), array([0.79847129]), array([0.79807205]), array([0.79767302]), array([0.79727418]), array([0.79687554]), array([0.79647711]), array([0.79607887]), array([0.79568083]), array([0.79528299]), array([0.79488535]), array([0.7944879]), array([0.79409066]), array([0.79369361]), array([0.79329677]), array([0.79290012]), array([0.79250367]), array([0.79210742]), array([0.79171136]), array([0.79131551]), array([0.79091985]), array([0.79052439]), array([0.79012913]), array([0.78973406]), array([0.7893392]), array([0.78894453]), array([0.78855005]), array([0.78815578]), array([0.7877617]), array([0.78736782]), array([0.78697414]), array([0.78658065]), array([0.78618736]), array([0.78579427]), array([0.78540137]), array([0.78500867]), array([0.78461616]), array([0.78422385]), array([0.78383174]), array([0.78343983]), array([0.78304811]), array([0.78265658]), array([0.78226525]), array([0.78187412]), array([0.78148319]), array([0.78109244]), array([0.7807019]), array([0.78031155]), array([0.77992139]), array([0.77953143]), array([0.77914166]), array([0.77875209]), array([0.77836272]), array([0.77797354]), array([0.77758455]), array([0.77719576]), array([0.77680716]), array([0.77641876]), array([0.77603055]), array([0.77564253]), array([0.77525471]), array([0.77486708]), array([0.77447965]), array([0.77409241]), array([0.77370536]), array([0.77331851]), array([0.77293185]), array([0.77254538]), array([0.77215911]), array([0.77177303]), array([0.77138715]), array([0.77100145]), array([0.77061595]), array([0.77023064]), array([0.76984553]), array([0.76946061]), array([0.76907588]), array([0.76869134]), array([0.76830699]), array([0.76792284]), array([0.76753888]), array([0.76715511]), array([0.76677153]), array([0.76638814]), array([0.76600495]), array([0.76562195]), array([0.76523914]), array([0.76485652]), array([0.76447409]), array([0.76409185]), array([0.76370981]), array([0.76332795]), array([0.76294629]), array([0.76256481]), array([0.76218353]), array([0.76180244]), array([0.76142154]), array([0.76104083]), array([0.76066031]), array([0.76027998]), array([0.75989984]), array([0.75951989]), array([0.75914013]), array([0.75876056]), array([0.75838118]), array([0.75800199]), array([0.75762299]), array([0.75724417]), array([0.75686555]), array([0.75648712]), array([0.75610888]), array([0.75573082]), array([0.75535296]), array([0.75497528]), array([0.75459779]), array([0.75422049]), array([0.75384338]), array([0.75346646]), array([0.75308973]), array([0.75271318]), array([0.75233683]), array([0.75196066]), array([0.75158468]), array([0.75120888]), array([0.75083328]), array([0.75045786]), array([0.75008263]), array([0.74970759]), array([0.74933274]), array([0.74895807]), array([0.74858359]), array([0.7482093]), array([0.7478352]), array([0.74746128]), array([0.74708755]), array([0.74671401]), array([0.74634065]), array([0.74596748]), array([0.74559449]), array([0.7452217]), array([0.74484909]), array([0.74447666]), array([0.74410442]), array([0.74373237]), array([0.74336051]), array([0.74298882]), array([0.74261733]), array([0.74224602]), array([0.7418749]), array([0.74150396]), array([0.74113321]), array([0.74076264]), array([0.74039226]), array([0.74002207]), array([0.73965205]), array([0.73928223]), array([0.73891259]), array([0.73854313]), array([0.73817386]), array([0.73780477]), array([0.73743587]), array([0.73706715]), array([0.73669862]), array([0.73633027]), array([0.7359621]), array([0.73559412]), array([0.73522633]), array([0.73485871]), array([0.73449128]), array([0.73412404]), array([0.73375698]), array([0.7333901]), array([0.7330234]), array([0.73265689]), array([0.73229056]), array([0.73192442]), array([0.73155845]), array([0.73119268]), array([0.73082708]), array([0.73046167]), array([0.73009643]), array([0.72973139]), array([0.72936652]), array([0.72900184]), array([0.72863734]), array([0.72827302]), array([0.72790888]), array([0.72754493]), array([0.72718115]), array([0.72681756]), array([0.72645416]), array([0.72609093]), array([0.72572788]), array([0.72536502]), array([0.72500234]), array([0.72463984]), array([0.72427752]), array([0.72391538]), array([0.72355342]), array([0.72319164]), array([0.72283005]), array([0.72246863]), array([0.7221074]), array([0.72174634]), array([0.72138547]), array([0.72102478]), array([0.72066426]), array([0.72030393]), array([0.71994378]), array([0.71958381]), array([0.71922402]), array([0.7188644]), array([0.71850497]), array([0.71814572]), array([0.71778665]), array([0.71742775]), array([0.71706904]), array([0.71671051]), array([0.71635215]), array([0.71599397]), array([0.71563598]), array([0.71527816]), array([0.71492052]), array([0.71456306]), array([0.71420578]), array([0.71384868]), array([0.71349175]), array([0.71313501]), array([0.71277844]), array([0.71242205]), array([0.71206584]), array([0.7117098]), array([0.71135395]), array([0.71099827]), array([0.71064277]), array([0.71028745]), array([0.70993231]), array([0.70957734]), array([0.70922255]), array([0.70886794]), array([0.70851351]), array([0.70815925]), array([0.70780517]), array([0.70745127]), array([0.70709754]), array([0.706744]), array([0.70639062]), array([0.70603743]), array([0.70568441]), array([0.70533157]), array([0.7049789]), array([0.70462641]), array([0.7042741]), array([0.70392196]), array([0.70357]), array([0.70321822]), array([0.70286661]), array([0.70251517]), array([0.70216392]), array([0.70181283]), array([0.70146193]), array([0.7011112]), array([0.70076064]), array([0.70041026]), array([0.70006006]), array([0.69971003]), array([0.69936017]), array([0.69901049]), array([0.69866098]), array([0.69831165]), array([0.6979625]), array([0.69761352]), array([0.69726471]), array([0.69691608]), array([0.69656762]), array([0.69621934]), array([0.69587123]), array([0.69552329]), array([0.69517553]), array([0.69482794]), array([0.69448053]), array([0.69413329]), array([0.69378622]), array([0.69343933]), array([0.69309261]), array([0.69274606]), array([0.69239969]), array([0.69205349]), array([0.69170746]), array([0.69136161]), array([0.69101593]), array([0.69067042]), array([0.69032508]), array([0.68997992]), array([0.68963493]), array([0.68929011]), array([0.68894547]), array([0.688601]), array([0.6882567]), array([0.68791257]), array([0.68756861]), array([0.68722483]), array([0.68688121]), array([0.68653777]), array([0.68619451]), array([0.68585141]), array([0.68550848]), array([0.68516573]), array([0.68482314]), array([0.68448073]), array([0.68413849]), array([0.68379642]), array([0.68345453]), array([0.6831128]), array([0.68277124]), array([0.68242986]), array([0.68208864]), array([0.6817476]), array([0.68140672]), array([0.68106602]), array([0.68072549]), array([0.68038512]), array([0.68004493]), array([0.67970491]), array([0.67936506]), array([0.67902537]), array([0.67868586]), array([0.67834652]), array([0.67800735]), array([0.67766834]), array([0.67732951]), array([0.67699084]), array([0.67665235]), array([0.67631402]), array([0.67597586]), array([0.67563788]), array([0.67530006]), array([0.67496241]), array([0.67462493]), array([0.67428761]), array([0.67395047]), array([0.67361349]), array([0.67327669]), array([0.67294005]), array([0.67260358]), array([0.67226728]), array([0.67193114]), array([0.67159518]), array([0.67125938]), array([0.67092375]), array([0.67058829]), array([0.670253]), array([0.66991787]), array([0.66958291]), array([0.66924812]), array([0.66891349]), array([0.66857904]), array([0.66824475]), array([0.66791063]), array([0.66757667]), array([0.66724288]), array([0.66690926]), array([0.66657581]), array([0.66624252]), array([0.6659094]), array([0.66557644]), array([0.66524365]), array([0.66491103]), array([0.66457858]), array([0.66424629]), array([0.66391416]), array([0.66358221]), array([0.66325042]), array([0.66291879]), array([0.66258733]), array([0.66225604]), array([0.66192491]), array([0.66159395]), array([0.66126315]), array([0.66093252]), array([0.66060205]), array([0.66027175]), array([0.65994162]), array([0.65961164]), array([0.65928184]), array([0.6589522]), array([0.65862272]), array([0.65829341]), array([0.65796426]), array([0.65763528]), array([0.65730646]), array([0.65697781]), array([0.65664932]), array([0.656321]), array([0.65599284]), array([0.65566484]), array([0.65533701]), array([0.65500934]), array([0.65468183]), array([0.65435449]), array([0.65402732]), array([0.6537003]), array([0.65337345]), array([0.65304677]), array([0.65272024]), array([0.65239388]), array([0.65206769]), array([0.65174165]), array([0.65141578]), array([0.65109007]), array([0.65076453]), array([0.65043915]), array([0.65011393]), array([0.64978887]), array([0.64946397]), array([0.64913924]), array([0.64881467]), array([0.64849027]), array([0.64816602]), array([0.64784194]), array([0.64751802]), array([0.64719426]), array([0.64687066]), array([0.64654722]), array([0.64622395]), array([0.64590084]), array([0.64557789]), array([0.6452551]), array([0.64493247]), array([0.64461001]), array([0.6442877]), array([0.64396556]), array([0.64364357]), array([0.64332175]), array([0.64300009]), array([0.64267859]), array([0.64235725]), array([0.64203607]), array([0.64171506]), array([0.6413942]), array([0.6410735]), array([0.64075296]), array([0.64043259]), array([0.64011237]), array([0.63979232]), array([0.63947242]), array([0.63915268]), array([0.63883311]), array([0.63851369]), array([0.63819443]), array([0.63787534]), array([0.6375564]), array([0.63723762]), array([0.636919]), array([0.63660054]), array([0.63628224]), array([0.6359641]), array([0.63564612]), array([0.6353283]), array([0.63501063]), array([0.63469313]), array([0.63437578]), array([0.63405859]), array([0.63374156]), array([0.63342469]), array([0.63310798]), array([0.63279143]), array([0.63247503]), array([0.63215879]), array([0.63184271]), array([0.63152679]), array([0.63121103]), array([0.63089542]), array([0.63057997]), array([0.63026468]), array([0.62994955]), array([0.62963458]), array([0.62931976]), array([0.6290051]), array([0.6286906]), array([0.62837625]), array([0.62806206]), array([0.62774803]), array([0.62743416]), array([0.62712044]), array([0.62680688]), array([0.62649348]), array([0.62618023]), array([0.62586714]), array([0.62555421]), array([0.62524143]), array([0.62492881]), array([0.62461635]), array([0.62430404]), array([0.62399189]), array([0.62367989]), array([0.62336805]), array([0.62305637]), array([0.62274484]), array([0.62243347]), array([0.62212225]), array([0.62181119]), array([0.62150028]), array([0.62118953]), array([0.62087894]), array([0.6205685]), array([0.62025821]), array([0.61994808]), array([0.61963811]), array([0.61932829]), array([0.61901863]), array([0.61870912]), array([0.61839976]), array([0.61809056]), array([0.61778152]), array([0.61747263]), array([0.61716389]), array([0.61685531]), array([0.61654688]), array([0.61623861]), array([0.61593049]), array([0.61562252]), array([0.61531471]), array([0.61500705]), array([0.61469955]), array([0.6143922]), array([0.61408501]), array([0.61377796]), array([0.61347107]), array([0.61316434]), array([0.61285776]), array([0.61255133]), array([0.61224505]), array([0.61193893]), array([0.61163296]), array([0.61132714]), array([0.61102148]), array([0.61071597]), array([0.61041061]), array([0.61010541]), array([0.60980035]), array([0.60949545]), array([0.6091907]), array([0.60888611]), array([0.60858167]), array([0.60827738]), array([0.60797324]), array([0.60766925]), array([0.60736542]), array([0.60706173]), array([0.6067582]), array([0.60645482])]\n"
     ]
    },
    {
     "data": {
      "image/png": "[encoded data removed]",
      "text/plain": [
       "<Figure size 432x288 with 1 Axes>"
      ]
     },
     "metadata": {
      "needs_background": "light"
     },
     "output_type": "display_data"
    }
   ],
   "source": [
    "import random\n",
    "import numpy as np\n",
    "import matplotlib.pyplot as plt\n",
    "\n",
    "class OrnsteinUhlenbeckActionNoise():\n",
    "    def __init__(self, mu=np.array([0]), sigma=np.array([0]), theta=0.05, dt=1e-2, x0=None):\n",
    "        self.theta = theta\n",
    "        self.mu = mu\n",
    "        self.sigma = sigma\n",
    "        self.dt = dt\n",
    "        self.x0 = x0\n",
    "        self.reset()\n",
    "\n",
    "    def __call__(self):\n",
    "        x = self.x_prev + self.theta * (self.mu - self.x_prev) * self.dt + self.sigma * np.sqrt(self.dt) * np.random.normal(size=self.mu.shape)\n",
    "        self.x_prev = x\n",
    "        return x\n",
    "\n",
    "    def reset(self):\n",
    "        self.x_prev = self.x0 if self.x0 is not None else np.zeros_like(self.mu)\n",
    "\n",
    "OU = OrnsteinUhlenbeckActionNoise(x0=1)\n",
    "\n",
    "# print(noise)\n",
    "no = []\n",
    "for _ in range(1000):\n",
    "    noise = OU()\n",
    "    no.append(noise)\n",
    "#     print(noise)\n",
    "\n",
    "x = np.arange(len(no))\n",
    "# print(no)\n",
    "plt.plot(x,no)\n",
    "plt.show()"
   ]
  },
  {
   "cell_type": "code",
   "execution_count": null,
   "metadata": {},
   "outputs": [],
   "source": []
  }
 ],
 "metadata": {
  "kernelspec": {
   "display_name": "Python 3",
   "language": "python",
   "name": "python3"
  },
  "language_info": {
   "codemirror_mode": {
    "name": "ipython",
    "version": 3
   },
   "file_extension": ".py",
   "mimetype": "text/x-python",
   "name": "python",
   "nbconvert_exporter": "python",
   "pygments_lexer": "ipython3",
   "version": "3.7.3"
  },
  "toc": {
   "base_numbering": 1,
   "nav_menu": {},
   "number_sections": true,
   "sideBar": true,
   "skip_h1_title": false,
   "title_cell": "Table of Contents",
   "title_sidebar": "Contents",
   "toc_cell": false,
   "toc_position": {},
   "toc_section_display": true,
   "toc_window_display": false
  },
  "varInspector": {
   "cols": {
    "lenName": 16,
    "lenType": 16,
    "lenVar": 40
   },
   "kernels_config": {
    "python": {
     "delete_cmd_postfix": "",
     "delete_cmd_prefix": "del ",
     "library": "var_list.py",
     "varRefreshCmd": "print(var_dic_list())"
    },
    "r": {
     "delete_cmd_postfix": ") ",
     "delete_cmd_prefix": "rm(",
     "library": "var_list.r",
     "varRefreshCmd": "cat(var_dic_list()) "
    }
   },
   "types_to_exclude": [
    "module",
    "function",
    "builtin_function_or_method",
    "instance",
    "_Feature"
   ],
   "window_display": false
  }
 },
 "nbformat": 4,
 "nbformat_minor": 4
}
