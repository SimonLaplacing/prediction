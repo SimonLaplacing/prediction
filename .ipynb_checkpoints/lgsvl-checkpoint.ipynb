{
 "cells": [
  {
   "cell_type": "markdown",
   "metadata": {},
   "source": [
    "# 库"
   ]
  },
  {
   "cell_type": "code",
   "execution_count": 1,
   "metadata": {},
   "outputs": [],
   "source": [
    "import os\n",
    "import gym\n",
    "import torch\n",
    "import pprint\n",
    "import argparse\n",
    "import numpy as np\n",
    "from torch.utils.tensorboard import SummaryWriter\n",
    "\n",
    "from tianshou.policy import DQNPolicy\n",
    "from tianshou.env import DummyVectorEnv\n",
    "from tianshou.utils.net.common import Net\n",
    "from tianshou.trainer import offpolicy_trainer\n",
    "from tianshou.data import Collector, ReplayBuffer, PrioritizedReplayBuffer"
   ]
  },
  {
   "cell_type": "markdown",
   "metadata": {},
   "source": [
    "# 参数"
   ]
  },
  {
   "cell_type": "code",
   "execution_count": 2,
   "metadata": {},
   "outputs": [],
   "source": [
    "def get_args():\n",
    "    parser = argparse.ArgumentParser()\n",
    "    parser.add_argument('--task', type=str, default='CartPole-v0')\n",
    "    parser.add_argument('--seed', type=int, default=1626)\n",
    "    parser.add_argument('--eps-test', type=float, default=0.05)\n",
    "    parser.add_argument('--eps-train', type=float, default=0.1)\n",
    "    parser.add_argument('--buffer-size', type=int, default=20000)\n",
    "    parser.add_argument('--lr', type=float, default=1e-3)\n",
    "    parser.add_argument('--gamma', type=float, default=0.9)\n",
    "    parser.add_argument('--n-step', type=int, default=3)\n",
    "    parser.add_argument('--target-update-freq', type=int, default=320)\n",
    "    parser.add_argument('--epoch', type=int, default=10)\n",
    "    parser.add_argument('--step-per-epoch', type=int, default=1000)\n",
    "    parser.add_argument('--collect-per-step', type=int, default=10)\n",
    "    parser.add_argument('--batch-size', type=int, default=64)\n",
    "    parser.add_argument('--layer-num', type=int, default=3)\n",
    "    parser.add_argument('--training-num', type=int, default=8)\n",
    "    parser.add_argument('--test-num', type=int, default=100)\n",
    "    parser.add_argument('--logdir', type=str, default='log')\n",
    "    parser.add_argument('--render', type=float, default=0.)\n",
    "    parser.add_argument('--prioritized-replay', type=int, default=0)\n",
    "    parser.add_argument('--alpha', type=float, default=0.6)\n",
    "    parser.add_argument('--beta', type=float, default=0.4)\n",
    "    parser.add_argument(\n",
    "        '--device', type=str,\n",
    "        default='cuda' if torch.cuda.is_available() else 'cpu')\n",
    "    args = parser.parse_known_args()[0]\n",
    "    return args"
   ]
  },
  {
   "cell_type": "markdown",
   "metadata": {},
   "source": [
    "# 模型"
   ]
  },
  {
   "cell_type": "code",
   "execution_count": 3,
   "metadata": {},
   "outputs": [],
   "source": [
    "def test_dqn(args=get_args()):\n",
    "    env = gym.make(args.task)\n",
    "    args.state_shape = env.observation_space.shape or env.observation_space.n\n",
    "    args.action_shape = env.action_space.shape or env.action_space.n\n",
    "    print(args.state_shape,args.action_shape)\n",
    "    # train_envs = gym.make(args.task)\n",
    "    # you can also use tianshou.env.SubprocVectorEnv\n",
    "    train_envs = DummyVectorEnv(\n",
    "        [lambda: gym.make(args.task) for _ in range(args.training_num)])\n",
    "    # test_envs = gym.make(args.task)\n",
    "    test_envs = DummyVectorEnv(\n",
    "        [lambda: gym.make(args.task) for _ in range(args.test_num)])\n",
    "    # seed\n",
    "    np.random.seed(args.seed)\n",
    "    torch.manual_seed(args.seed)\n",
    "    train_envs.seed(args.seed)\n",
    "    test_envs.seed(args.seed)\n",
    "    # model\n",
    "    net = Net(args.layer_num, args.state_shape,\n",
    "              args.action_shape, args.device,  # dueling=(1, 1)\n",
    "              ).to(args.device)\n",
    "    optim = torch.optim.Adam(net.parameters(), lr=args.lr)\n",
    "    policy = DQNPolicy(\n",
    "        net, optim, args.gamma, args.n_step,\n",
    "        target_update_freq=args.target_update_freq)\n",
    "    # buffer\n",
    "    if args.prioritized_replay > 0:\n",
    "        buf = PrioritizedReplayBuffer(\n",
    "            args.buffer_size, alpha=args.alpha, beta=args.beta)\n",
    "    else:\n",
    "        buf = ReplayBuffer(args.buffer_size)\n",
    "    # collector\n",
    "    train_collector = Collector(policy, train_envs, buf)\n",
    "    test_collector = Collector(policy, test_envs)\n",
    "#     policy.set_eps(1)\n",
    "    train_collector.collect(n_step=args.batch_size)\n",
    "    # log\n",
    "    log_path = os.path.join(args.logdir, args.task, 'dqn')\n",
    "    writer = SummaryWriter(log_path)\n",
    "\n",
    "    def save_fn(policy):\n",
    "        torch.save(policy.state_dict(), os.path.join(log_path, 'policy.pth'))\n",
    "\n",
    "    def stop_fn(mean_rewards):\n",
    "        return mean_rewards >= env.spec.reward_threshold\n",
    "\n",
    "    def train_fn(epoch, env_step):\n",
    "        # eps annnealing, just a demo\n",
    "        if env_step <= 10000:\n",
    "            policy.set_eps(args.eps_train)\n",
    "        elif env_step <= 50000:\n",
    "            eps = args.eps_train - (env_step - 10000) / \\\n",
    "                40000 * (0.9 * args.eps_train)\n",
    "            policy.set_eps(eps)\n",
    "        else:\n",
    "            policy.set_eps(0.1 * args.eps_train)\n",
    "\n",
    "    def test_fn(epoch, env_step):\n",
    "        policy.set_eps(args.eps_test)\n",
    "\n",
    "    # trainer\n",
    "    result = offpolicy_trainer(\n",
    "        policy, train_collector, test_collector, args.epoch,\n",
    "        args.step_per_epoch, args.collect_per_step, args.test_num,\n",
    "        args.batch_size, train_fn=train_fn, test_fn=test_fn,\n",
    "        stop_fn=stop_fn, save_fn=save_fn, writer=writer)\n",
    "\n",
    "    assert stop_fn(result['best_reward'])\n",
    "    if __name__ == '__main__':\n",
    "        pprint.pprint(result)\n",
    "        # Let's watch its performance!\n",
    "        env = gym.make(args.task)\n",
    "        policy.eval()\n",
    "        policy.set_eps(args.eps_test)\n",
    "        collector = Collector(policy, env)\n",
    "        result = collector.collect(n_episode=1, render=args.render)\n",
    "        print(f'Final reward: {result[\"rew\"]}, length: {result[\"len\"]}')"
   ]
  },
  {
   "cell_type": "code",
   "execution_count": 4,
   "metadata": {},
   "outputs": [],
   "source": [
    "def test_pdqn(args=get_args()):\n",
    "    args.prioritized_replay = 1\n",
    "    args.gamma = .95\n",
    "    args.seed = 1\n",
    "    test_dqn(args)"
   ]
  },
  {
   "cell_type": "markdown",
   "metadata": {},
   "source": [
    "# 运行"
   ]
  },
  {
   "cell_type": "code",
   "execution_count": 5,
   "metadata": {},
   "outputs": [
    {
     "ename": "RecursionError",
     "evalue": "maximum recursion depth exceeded",
     "output_type": "error",
     "traceback": [
      "\u001b[1;31m---------------------------------------------------------------------------\u001b[0m",
      "\u001b[1;31mRecursionError\u001b[0m                            Traceback (most recent call last)",
      "\u001b[1;32m<ipython-input-5-55f806cd5c21>\u001b[0m in \u001b[0;36m<module>\u001b[1;34m\u001b[0m\n\u001b[0;32m      1\u001b[0m \u001b[1;32mif\u001b[0m \u001b[0m__name__\u001b[0m \u001b[1;33m==\u001b[0m \u001b[1;34m'__main__'\u001b[0m\u001b[1;33m:\u001b[0m\u001b[1;33m\u001b[0m\u001b[1;33m\u001b[0m\u001b[0m\n\u001b[1;32m----> 2\u001b[1;33m     \u001b[0mtest_dqn\u001b[0m\u001b[1;33m(\u001b[0m\u001b[0mget_args\u001b[0m\u001b[1;33m(\u001b[0m\u001b[1;33m)\u001b[0m\u001b[1;33m)\u001b[0m\u001b[1;33m\u001b[0m\u001b[1;33m\u001b[0m\u001b[0m\n\u001b[0m",
      "\u001b[1;32m<ipython-input-4-70bdb3087ac6>\u001b[0m in \u001b[0;36mtest_dqn\u001b[1;34m(args)\u001b[0m\n\u001b[0;32m      3\u001b[0m     \u001b[0margs\u001b[0m\u001b[1;33m.\u001b[0m\u001b[0mgamma\u001b[0m \u001b[1;33m=\u001b[0m \u001b[1;36m.95\u001b[0m\u001b[1;33m\u001b[0m\u001b[1;33m\u001b[0m\u001b[0m\n\u001b[0;32m      4\u001b[0m     \u001b[0margs\u001b[0m\u001b[1;33m.\u001b[0m\u001b[0mseed\u001b[0m \u001b[1;33m=\u001b[0m \u001b[1;36m1\u001b[0m\u001b[1;33m\u001b[0m\u001b[1;33m\u001b[0m\u001b[0m\n\u001b[1;32m----> 5\u001b[1;33m     \u001b[0mtest_dqn\u001b[0m\u001b[1;33m(\u001b[0m\u001b[0margs\u001b[0m\u001b[1;33m)\u001b[0m\u001b[1;33m\u001b[0m\u001b[1;33m\u001b[0m\u001b[0m\n\u001b[0m",
      "... last 1 frames repeated, from the frame below ...\n",
      "\u001b[1;32m<ipython-input-4-70bdb3087ac6>\u001b[0m in \u001b[0;36mtest_dqn\u001b[1;34m(args)\u001b[0m\n\u001b[0;32m      3\u001b[0m     \u001b[0margs\u001b[0m\u001b[1;33m.\u001b[0m\u001b[0mgamma\u001b[0m \u001b[1;33m=\u001b[0m \u001b[1;36m.95\u001b[0m\u001b[1;33m\u001b[0m\u001b[1;33m\u001b[0m\u001b[0m\n\u001b[0;32m      4\u001b[0m     \u001b[0margs\u001b[0m\u001b[1;33m.\u001b[0m\u001b[0mseed\u001b[0m \u001b[1;33m=\u001b[0m \u001b[1;36m1\u001b[0m\u001b[1;33m\u001b[0m\u001b[1;33m\u001b[0m\u001b[0m\n\u001b[1;32m----> 5\u001b[1;33m     \u001b[0mtest_dqn\u001b[0m\u001b[1;33m(\u001b[0m\u001b[0margs\u001b[0m\u001b[1;33m)\u001b[0m\u001b[1;33m\u001b[0m\u001b[1;33m\u001b[0m\u001b[0m\n\u001b[0m",
      "\u001b[1;31mRecursionError\u001b[0m: maximum recursion depth exceeded"
     ]
    }
   ],
   "source": [
    "if __name__ == '__main__':\n",
    "    test_dqn(get_args())"
   ]
  },
  {
   "cell_type": "code",
   "execution_count": null,
   "metadata": {},
   "outputs": [],
   "source": []
  }
 ],
 "metadata": {
  "kernelspec": {
   "display_name": "Python 3",
   "language": "python",
   "name": "python3"
  },
  "language_info": {
   "codemirror_mode": {
    "name": "ipython",
    "version": 3
   },
   "file_extension": ".py",
   "mimetype": "text/x-python",
   "name": "python",
   "nbconvert_exporter": "python",
   "pygments_lexer": "ipython3",
   "version": "3.7.3"
  },
  "toc": {
   "base_numbering": 1,
   "nav_menu": {},
   "number_sections": true,
   "sideBar": true,
   "skip_h1_title": false,
   "title_cell": "Table of Contents",
   "title_sidebar": "Contents",
   "toc_cell": false,
   "toc_position": {},
   "toc_section_display": true,
   "toc_window_display": true
  },
  "varInspector": {
   "cols": {
    "lenName": 16,
    "lenType": 16,
    "lenVar": 40
   },
   "kernels_config": {
    "python": {
     "delete_cmd_postfix": "",
     "delete_cmd_prefix": "del ",
     "library": "var_list.py",
     "varRefreshCmd": "print(var_dic_list())"
    },
    "r": {
     "delete_cmd_postfix": ") ",
     "delete_cmd_prefix": "rm(",
     "library": "var_list.r",
     "varRefreshCmd": "cat(var_dic_list()) "
    }
   },
   "types_to_exclude": [
    "module",
    "function",
    "builtin_function_or_method",
    "instance",
    "_Feature"
   ],
   "window_display": false
  }
 },
 "nbformat": 4,
 "nbformat_minor": 2
}
